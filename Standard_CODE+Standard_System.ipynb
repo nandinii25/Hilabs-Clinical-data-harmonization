{
 "cells": [
  {
   "cell_type": "code",
   "execution_count": 2,
   "metadata": {
    "_cell_guid": "b1076dfc-b9ad-4769-8c92-a6c4dae69d19",
    "_uuid": "8f2839f25d086af736a60e9eeb907d3b93b6e0e5",
    "execution": {
     "iopub.execute_input": "2025-09-28T05:33:42.875967Z",
     "iopub.status.busy": "2025-09-28T05:33:42.875687Z",
     "iopub.status.idle": "2025-09-28T05:33:44.698293Z",
     "shell.execute_reply": "2025-09-28T05:33:44.697374Z",
     "shell.execute_reply.started": "2025-09-28T05:33:42.875940Z"
    },
    "trusted": true
   },
   "outputs": [],
   "source": [
    "import numpy as np \n",
    "import pandas as pd \n",
    "import os"
   ]
  },
  {
   "cell_type": "code",
   "execution_count": 3,
   "metadata": {
    "execution": {
     "iopub.execute_input": "2025-09-28T05:33:50.114754Z",
     "iopub.status.busy": "2025-09-28T05:33:50.114463Z",
     "iopub.status.idle": "2025-09-28T05:33:50.118949Z",
     "shell.execute_reply": "2025-09-28T05:33:50.118127Z",
     "shell.execute_reply.started": "2025-09-28T05:33:50.114735Z"
    },
    "trusted": true
   },
   "outputs": [],
   "source": [
    "parquet_file = r'Harmonizing Clinical Concept\\Target Description Files\\rxnorm_all_data.parquet'"
   ]
  },
  {
   "cell_type": "code",
   "execution_count": 4,
   "metadata": {
    "execution": {
     "iopub.execute_input": "2025-09-28T05:41:13.255082Z",
     "iopub.status.busy": "2025-09-28T05:41:13.254755Z",
     "iopub.status.idle": "2025-09-28T05:41:13.259465Z",
     "shell.execute_reply": "2025-09-28T05:41:13.258592Z",
     "shell.execute_reply.started": "2025-09-28T05:41:13.255061Z"
    },
    "trusted": true
   },
   "outputs": [],
   "source": [
    "parquet_file1 = r'Harmonizing Clinical Concept\\Target Description Files\\snomed_all_data.parquet'"
   ]
  },
  {
   "cell_type": "code",
   "execution_count": 5,
   "metadata": {
    "execution": {
     "iopub.execute_input": "2025-09-28T05:42:19.019763Z",
     "iopub.status.busy": "2025-09-28T05:42:19.019452Z",
     "iopub.status.idle": "2025-09-28T05:42:19.440942Z",
     "shell.execute_reply": "2025-09-28T05:42:19.439855Z",
     "shell.execute_reply.started": "2025-09-28T05:42:19.019740Z"
    },
    "trusted": true
   },
   "outputs": [],
   "source": [
    "rxnorm = pd.read_parquet(parquet_file, engine='auto')"
   ]
  },
  {
   "cell_type": "code",
   "execution_count": 6,
   "metadata": {
    "execution": {
     "iopub.execute_input": "2025-09-28T05:54:31.656047Z",
     "iopub.status.busy": "2025-09-28T05:54:31.655724Z",
     "iopub.status.idle": "2025-09-28T05:54:32.754103Z",
     "shell.execute_reply": "2025-09-28T05:54:32.753100Z",
     "shell.execute_reply.started": "2025-09-28T05:54:31.656021Z"
    },
    "trusted": true
   },
   "outputs": [],
   "source": [
    "snomed = pd.read_parquet(parquet_file1, engine='auto')"
   ]
  },
  {
   "cell_type": "markdown",
   "metadata": {},
   "source": [
    "# Exploratory Data Analysis"
   ]
  },
  {
   "cell_type": "code",
   "execution_count": 7,
   "metadata": {
    "execution": {
     "iopub.execute_input": "2025-09-28T05:42:29.640020Z",
     "iopub.status.busy": "2025-09-28T05:42:29.639689Z",
     "iopub.status.idle": "2025-09-28T05:42:29.651299Z",
     "shell.execute_reply": "2025-09-28T05:42:29.650304Z",
     "shell.execute_reply.started": "2025-09-28T05:42:29.639997Z"
    },
    "trusted": true
   },
   "outputs": [
    {
     "data": {
      "application/vnd.microsoft.datawrangler.viewer.v0+json": {
       "columns": [
        {
         "name": "index",
         "rawType": "int64",
         "type": "integer"
        },
        {
         "name": "CUI",
         "rawType": "object",
         "type": "string"
        },
        {
         "name": "System",
         "rawType": "object",
         "type": "string"
        },
        {
         "name": "TTY",
         "rawType": "object",
         "type": "string"
        },
        {
         "name": "CODE",
         "rawType": "object",
         "type": "string"
        },
        {
         "name": "STR",
         "rawType": "object",
         "type": "string"
        },
        {
         "name": "STY",
         "rawType": "object",
         "type": "string"
        }
       ],
       "ref": "0e9bc1c0-1073-4427-ab9d-0bda23e0b6a0",
       "rows": [
        [
         "0",
         "C0000039",
         "RXNORM",
         "IN",
         "1926948",
         "1,2-dipalmitoylphosphatidylcholine",
         "Organic Chemical"
        ],
        [
         "1",
         "C0000039",
         "RXNORM",
         "IN",
         "1926948",
         "1,2-dipalmitoylphosphatidylcholine",
         "Pharmacologic Substance"
        ],
        [
         "2",
         "C0000266",
         "RXNORM",
         "BN",
         "38",
         "Parlodel",
         "Organic Chemical"
        ],
        [
         "3",
         "C0000266",
         "RXNORM",
         "BN",
         "38",
         "Parlodel",
         "Pharmacologic Substance"
        ],
        [
         "4",
         "C0000294",
         "RXNORM",
         "IN",
         "44",
         "mesna",
         "Organic Chemical"
        ]
       ],
       "shape": {
        "columns": 6,
        "rows": 5
       }
      },
      "text/html": [
       "<div>\n",
       "<style scoped>\n",
       "    .dataframe tbody tr th:only-of-type {\n",
       "        vertical-align: middle;\n",
       "    }\n",
       "\n",
       "    .dataframe tbody tr th {\n",
       "        vertical-align: top;\n",
       "    }\n",
       "\n",
       "    .dataframe thead th {\n",
       "        text-align: right;\n",
       "    }\n",
       "</style>\n",
       "<table border=\"1\" class=\"dataframe\">\n",
       "  <thead>\n",
       "    <tr style=\"text-align: right;\">\n",
       "      <th></th>\n",
       "      <th>CUI</th>\n",
       "      <th>System</th>\n",
       "      <th>TTY</th>\n",
       "      <th>CODE</th>\n",
       "      <th>STR</th>\n",
       "      <th>STY</th>\n",
       "    </tr>\n",
       "  </thead>\n",
       "  <tbody>\n",
       "    <tr>\n",
       "      <th>0</th>\n",
       "      <td>C0000039</td>\n",
       "      <td>RXNORM</td>\n",
       "      <td>IN</td>\n",
       "      <td>1926948</td>\n",
       "      <td>1,2-dipalmitoylphosphatidylcholine</td>\n",
       "      <td>Organic Chemical</td>\n",
       "    </tr>\n",
       "    <tr>\n",
       "      <th>1</th>\n",
       "      <td>C0000039</td>\n",
       "      <td>RXNORM</td>\n",
       "      <td>IN</td>\n",
       "      <td>1926948</td>\n",
       "      <td>1,2-dipalmitoylphosphatidylcholine</td>\n",
       "      <td>Pharmacologic Substance</td>\n",
       "    </tr>\n",
       "    <tr>\n",
       "      <th>2</th>\n",
       "      <td>C0000266</td>\n",
       "      <td>RXNORM</td>\n",
       "      <td>BN</td>\n",
       "      <td>38</td>\n",
       "      <td>Parlodel</td>\n",
       "      <td>Organic Chemical</td>\n",
       "    </tr>\n",
       "    <tr>\n",
       "      <th>3</th>\n",
       "      <td>C0000266</td>\n",
       "      <td>RXNORM</td>\n",
       "      <td>BN</td>\n",
       "      <td>38</td>\n",
       "      <td>Parlodel</td>\n",
       "      <td>Pharmacologic Substance</td>\n",
       "    </tr>\n",
       "    <tr>\n",
       "      <th>4</th>\n",
       "      <td>C0000294</td>\n",
       "      <td>RXNORM</td>\n",
       "      <td>IN</td>\n",
       "      <td>44</td>\n",
       "      <td>mesna</td>\n",
       "      <td>Organic Chemical</td>\n",
       "    </tr>\n",
       "  </tbody>\n",
       "</table>\n",
       "</div>"
      ],
      "text/plain": [
       "        CUI  System TTY     CODE                                 STR  \\\n",
       "0  C0000039  RXNORM  IN  1926948  1,2-dipalmitoylphosphatidylcholine   \n",
       "1  C0000039  RXNORM  IN  1926948  1,2-dipalmitoylphosphatidylcholine   \n",
       "2  C0000266  RXNORM  BN       38                            Parlodel   \n",
       "3  C0000266  RXNORM  BN       38                            Parlodel   \n",
       "4  C0000294  RXNORM  IN       44                               mesna   \n",
       "\n",
       "                       STY  \n",
       "0         Organic Chemical  \n",
       "1  Pharmacologic Substance  \n",
       "2         Organic Chemical  \n",
       "3  Pharmacologic Substance  \n",
       "4         Organic Chemical  "
      ]
     },
     "execution_count": 7,
     "metadata": {},
     "output_type": "execute_result"
    }
   ],
   "source": [
    "rxnorm.head()"
   ]
  },
  {
   "cell_type": "code",
   "execution_count": 7,
   "metadata": {
    "execution": {
     "iopub.execute_input": "2025-09-28T05:54:41.298472Z",
     "iopub.status.busy": "2025-09-28T05:54:41.298177Z",
     "iopub.status.idle": "2025-09-28T05:54:41.309281Z",
     "shell.execute_reply": "2025-09-28T05:54:41.308301Z",
     "shell.execute_reply.started": "2025-09-28T05:54:41.298450Z"
    },
    "trusted": true
   },
   "outputs": [
    {
     "data": {
      "application/vnd.microsoft.datawrangler.viewer.v0+json": {
       "columns": [
        {
         "name": "index",
         "rawType": "int64",
         "type": "integer"
        },
        {
         "name": "CUI",
         "rawType": "object",
         "type": "string"
        },
        {
         "name": "System",
         "rawType": "object",
         "type": "string"
        },
        {
         "name": "TTY",
         "rawType": "object",
         "type": "string"
        },
        {
         "name": "CODE",
         "rawType": "object",
         "type": "string"
        },
        {
         "name": "STR",
         "rawType": "object",
         "type": "string"
        },
        {
         "name": "STY",
         "rawType": "object",
         "type": "string"
        }
       ],
       "ref": "bf00ec09-558c-4753-ba66-4e19213f81cc",
       "rows": [
        [
         "0",
         "C0000052",
         "SNOMEDCT_US",
         "PT",
         "58488005",
         "1,4-alpha-Glucan branching enzyme",
         "Amino Acid, Peptide, or Protein"
        ],
        [
         "1",
         "C0000052",
         "SNOMEDCT_US",
         "PT",
         "58488005",
         "1,4-alpha-Glucan branching enzyme",
         "Enzyme"
        ],
        [
         "2",
         "C0000052",
         "SNOMEDCT_US",
         "SY",
         "58488005",
         "Branching enzyme",
         "Amino Acid, Peptide, or Protein"
        ],
        [
         "3",
         "C0000052",
         "SNOMEDCT_US",
         "SY",
         "58488005",
         "Branching enzyme",
         "Enzyme"
        ],
        [
         "4",
         "C0000052",
         "SNOMEDCT_US",
         "SY",
         "58488005",
         "Amylo-(1,4,6)-transglycosylase",
         "Amino Acid, Peptide, or Protein"
        ]
       ],
       "shape": {
        "columns": 6,
        "rows": 5
       }
      },
      "text/html": [
       "<div>\n",
       "<style scoped>\n",
       "    .dataframe tbody tr th:only-of-type {\n",
       "        vertical-align: middle;\n",
       "    }\n",
       "\n",
       "    .dataframe tbody tr th {\n",
       "        vertical-align: top;\n",
       "    }\n",
       "\n",
       "    .dataframe thead th {\n",
       "        text-align: right;\n",
       "    }\n",
       "</style>\n",
       "<table border=\"1\" class=\"dataframe\">\n",
       "  <thead>\n",
       "    <tr style=\"text-align: right;\">\n",
       "      <th></th>\n",
       "      <th>CUI</th>\n",
       "      <th>System</th>\n",
       "      <th>TTY</th>\n",
       "      <th>CODE</th>\n",
       "      <th>STR</th>\n",
       "      <th>STY</th>\n",
       "    </tr>\n",
       "  </thead>\n",
       "  <tbody>\n",
       "    <tr>\n",
       "      <th>0</th>\n",
       "      <td>C0000052</td>\n",
       "      <td>SNOMEDCT_US</td>\n",
       "      <td>PT</td>\n",
       "      <td>58488005</td>\n",
       "      <td>1,4-alpha-Glucan branching enzyme</td>\n",
       "      <td>Amino Acid, Peptide, or Protein</td>\n",
       "    </tr>\n",
       "    <tr>\n",
       "      <th>1</th>\n",
       "      <td>C0000052</td>\n",
       "      <td>SNOMEDCT_US</td>\n",
       "      <td>PT</td>\n",
       "      <td>58488005</td>\n",
       "      <td>1,4-alpha-Glucan branching enzyme</td>\n",
       "      <td>Enzyme</td>\n",
       "    </tr>\n",
       "    <tr>\n",
       "      <th>2</th>\n",
       "      <td>C0000052</td>\n",
       "      <td>SNOMEDCT_US</td>\n",
       "      <td>SY</td>\n",
       "      <td>58488005</td>\n",
       "      <td>Branching enzyme</td>\n",
       "      <td>Amino Acid, Peptide, or Protein</td>\n",
       "    </tr>\n",
       "    <tr>\n",
       "      <th>3</th>\n",
       "      <td>C0000052</td>\n",
       "      <td>SNOMEDCT_US</td>\n",
       "      <td>SY</td>\n",
       "      <td>58488005</td>\n",
       "      <td>Branching enzyme</td>\n",
       "      <td>Enzyme</td>\n",
       "    </tr>\n",
       "    <tr>\n",
       "      <th>4</th>\n",
       "      <td>C0000052</td>\n",
       "      <td>SNOMEDCT_US</td>\n",
       "      <td>SY</td>\n",
       "      <td>58488005</td>\n",
       "      <td>Amylo-(1,4,6)-transglycosylase</td>\n",
       "      <td>Amino Acid, Peptide, or Protein</td>\n",
       "    </tr>\n",
       "  </tbody>\n",
       "</table>\n",
       "</div>"
      ],
      "text/plain": [
       "        CUI       System TTY      CODE                                STR  \\\n",
       "0  C0000052  SNOMEDCT_US  PT  58488005  1,4-alpha-Glucan branching enzyme   \n",
       "1  C0000052  SNOMEDCT_US  PT  58488005  1,4-alpha-Glucan branching enzyme   \n",
       "2  C0000052  SNOMEDCT_US  SY  58488005                   Branching enzyme   \n",
       "3  C0000052  SNOMEDCT_US  SY  58488005                   Branching enzyme   \n",
       "4  C0000052  SNOMEDCT_US  SY  58488005     Amylo-(1,4,6)-transglycosylase   \n",
       "\n",
       "                               STY  \n",
       "0  Amino Acid, Peptide, or Protein  \n",
       "1                           Enzyme  \n",
       "2  Amino Acid, Peptide, or Protein  \n",
       "3                           Enzyme  \n",
       "4  Amino Acid, Peptide, or Protein  "
      ]
     },
     "execution_count": 7,
     "metadata": {},
     "output_type": "execute_result"
    }
   ],
   "source": [
    "snomed.head()"
   ]
  },
  {
   "cell_type": "code",
   "execution_count": 8,
   "metadata": {
    "execution": {
     "iopub.execute_input": "2025-09-28T05:42:36.261837Z",
     "iopub.status.busy": "2025-09-28T05:42:36.261189Z",
     "iopub.status.idle": "2025-09-28T05:42:36.267212Z",
     "shell.execute_reply": "2025-09-28T05:42:36.266283Z",
     "shell.execute_reply.started": "2025-09-28T05:42:36.261808Z"
    },
    "trusted": true
   },
   "outputs": [
    {
     "data": {
      "text/plain": [
       "(379991, 6)"
      ]
     },
     "execution_count": 8,
     "metadata": {},
     "output_type": "execute_result"
    }
   ],
   "source": [
    "rxnorm.shape"
   ]
  },
  {
   "cell_type": "code",
   "execution_count": 9,
   "metadata": {
    "execution": {
     "iopub.execute_input": "2025-09-28T05:54:45.850320Z",
     "iopub.status.busy": "2025-09-28T05:54:45.849997Z",
     "iopub.status.idle": "2025-09-28T05:54:45.855752Z",
     "shell.execute_reply": "2025-09-28T05:54:45.855070Z",
     "shell.execute_reply.started": "2025-09-28T05:54:45.850296Z"
    },
    "trusted": true
   },
   "outputs": [
    {
     "data": {
      "text/plain": [
       "(1035233, 6)"
      ]
     },
     "execution_count": 9,
     "metadata": {},
     "output_type": "execute_result"
    }
   ],
   "source": [
    "snomed.shape"
   ]
  },
  {
   "cell_type": "code",
   "execution_count": 10,
   "metadata": {
    "execution": {
     "iopub.execute_input": "2025-09-28T05:42:39.845886Z",
     "iopub.status.busy": "2025-09-28T05:42:39.845603Z",
     "iopub.status.idle": "2025-09-28T05:42:40.134995Z",
     "shell.execute_reply": "2025-09-28T05:42:40.134311Z",
     "shell.execute_reply.started": "2025-09-28T05:42:39.845865Z"
    },
    "trusted": true
   },
   "outputs": [
    {
     "data": {
      "application/vnd.microsoft.datawrangler.viewer.v0+json": {
       "columns": [
        {
         "name": "index",
         "rawType": "object",
         "type": "string"
        },
        {
         "name": "0",
         "rawType": "int64",
         "type": "integer"
        }
       ],
       "ref": "5f9d69a5-1358-49b3-b686-5c7fae6cd827",
       "rows": [
        [
         "CUI",
         "223073"
        ],
        [
         "System",
         "1"
        ],
        [
         "TTY",
         "23"
        ],
        [
         "CODE",
         "223073"
        ],
        [
         "STR",
         "332707"
        ],
        [
         "STY",
         "32"
        ]
       ],
       "shape": {
        "columns": 1,
        "rows": 6
       }
      },
      "text/plain": [
       "CUI       223073\n",
       "System         1\n",
       "TTY           23\n",
       "CODE      223073\n",
       "STR       332707\n",
       "STY           32\n",
       "dtype: int64"
      ]
     },
     "execution_count": 10,
     "metadata": {},
     "output_type": "execute_result"
    }
   ],
   "source": [
    "rxnorm.nunique()"
   ]
  },
  {
   "cell_type": "code",
   "execution_count": 11,
   "metadata": {
    "execution": {
     "iopub.execute_input": "2025-09-28T05:54:50.427573Z",
     "iopub.status.busy": "2025-09-28T05:54:50.427313Z",
     "iopub.status.idle": "2025-09-28T05:54:51.166031Z",
     "shell.execute_reply": "2025-09-28T05:54:51.165342Z",
     "shell.execute_reply.started": "2025-09-28T05:54:50.427555Z"
    },
    "trusted": true
   },
   "outputs": [
    {
     "data": {
      "application/vnd.microsoft.datawrangler.viewer.v0+json": {
       "columns": [
        {
         "name": "index",
         "rawType": "object",
         "type": "string"
        },
        {
         "name": "0",
         "rawType": "int64",
         "type": "integer"
        }
       ],
       "ref": "c487717a-eecd-4546-a686-0573d743732b",
       "rows": [
        [
         "CUI",
         "367699"
        ],
        [
         "System",
         "1"
        ],
        [
         "TTY",
         "3"
        ],
        [
         "CODE",
         "375610"
        ],
        [
         "STR",
         "959043"
        ],
        [
         "STY",
         "125"
        ]
       ],
       "shape": {
        "columns": 1,
        "rows": 6
       }
      },
      "text/plain": [
       "CUI       367699\n",
       "System         1\n",
       "TTY            3\n",
       "CODE      375610\n",
       "STR       959043\n",
       "STY          125\n",
       "dtype: int64"
      ]
     },
     "execution_count": 11,
     "metadata": {},
     "output_type": "execute_result"
    }
   ],
   "source": [
    "snomed.nunique()"
   ]
  },
  {
   "cell_type": "code",
   "execution_count": 12,
   "metadata": {
    "execution": {
     "iopub.execute_input": "2025-09-28T05:54:58.615967Z",
     "iopub.status.busy": "2025-09-28T05:54:58.615345Z",
     "iopub.status.idle": "2025-09-28T05:54:58.744819Z",
     "shell.execute_reply": "2025-09-28T05:54:58.743970Z",
     "shell.execute_reply.started": "2025-09-28T05:54:58.615944Z"
    },
    "trusted": true
   },
   "outputs": [
    {
     "data": {
      "application/vnd.microsoft.datawrangler.viewer.v0+json": {
       "columns": [
        {
         "name": "index",
         "rawType": "object",
         "type": "string"
        },
        {
         "name": "0",
         "rawType": "int64",
         "type": "integer"
        }
       ],
       "ref": "127da26f-5e74-4a0a-9630-2abe5c86ef8a",
       "rows": [
        [
         "CUI",
         "0"
        ],
        [
         "System",
         "0"
        ],
        [
         "TTY",
         "0"
        ],
        [
         "CODE",
         "0"
        ],
        [
         "STR",
         "0"
        ],
        [
         "STY",
         "0"
        ]
       ],
       "shape": {
        "columns": 1,
        "rows": 6
       }
      },
      "text/plain": [
       "CUI       0\n",
       "System    0\n",
       "TTY       0\n",
       "CODE      0\n",
       "STR       0\n",
       "STY       0\n",
       "dtype: int64"
      ]
     },
     "execution_count": 12,
     "metadata": {},
     "output_type": "execute_result"
    }
   ],
   "source": [
    "rxnorm.isnull().sum()"
   ]
  },
  {
   "cell_type": "code",
   "execution_count": 15,
   "metadata": {
    "execution": {
     "iopub.execute_input": "2025-09-28T05:44:44.000029Z",
     "iopub.status.busy": "2025-09-28T05:44:43.999484Z",
     "iopub.status.idle": "2025-09-28T05:44:44.325542Z",
     "shell.execute_reply": "2025-09-28T05:44:44.324624Z",
     "shell.execute_reply.started": "2025-09-28T05:44:44.000004Z"
    },
    "trusted": true
   },
   "outputs": [
    {
     "data": {
      "application/vnd.microsoft.datawrangler.viewer.v0+json": {
       "columns": [
        {
         "name": "index",
         "rawType": "object",
         "type": "string"
        },
        {
         "name": "0",
         "rawType": "int64",
         "type": "integer"
        }
       ],
       "ref": "5695d49f-91bf-479e-bb59-c7a62037e75b",
       "rows": [
        [
         "CUI",
         "0"
        ],
        [
         "System",
         "0"
        ],
        [
         "TTY",
         "0"
        ],
        [
         "CODE",
         "0"
        ],
        [
         "STR",
         "2"
        ],
        [
         "STY",
         "0"
        ]
       ],
       "shape": {
        "columns": 1,
        "rows": 6
       }
      },
      "text/plain": [
       "CUI       0\n",
       "System    0\n",
       "TTY       0\n",
       "CODE      0\n",
       "STR       2\n",
       "STY       0\n",
       "dtype: int64"
      ]
     },
     "execution_count": 15,
     "metadata": {},
     "output_type": "execute_result"
    }
   ],
   "source": [
    "snomed.isnull().sum()"
   ]
  },
  {
   "cell_type": "code",
   "execution_count": 16,
   "metadata": {
    "execution": {
     "iopub.execute_input": "2025-09-28T05:52:24.797672Z",
     "iopub.status.busy": "2025-09-28T05:52:24.797020Z",
     "iopub.status.idle": "2025-09-28T05:52:25.116704Z",
     "shell.execute_reply": "2025-09-28T05:52:25.115967Z",
     "shell.execute_reply.started": "2025-09-28T05:52:24.797649Z"
    },
    "trusted": true
   },
   "outputs": [
    {
     "data": {
      "application/vnd.microsoft.datawrangler.viewer.v0+json": {
       "columns": [
        {
         "name": "index",
         "rawType": "int64",
         "type": "integer"
        },
        {
         "name": "CUI",
         "rawType": "object",
         "type": "string"
        },
        {
         "name": "System",
         "rawType": "object",
         "type": "string"
        },
        {
         "name": "TTY",
         "rawType": "object",
         "type": "string"
        },
        {
         "name": "CODE",
         "rawType": "object",
         "type": "string"
        },
        {
         "name": "STR",
         "rawType": "object",
         "type": "string"
        },
        {
         "name": "STY",
         "rawType": "object",
         "type": "string"
        }
       ],
       "ref": "6806bdc9-653c-4d12-885a-196a78977bb4",
       "rows": [
        [
         "29853",
         "C0698853",
         "RXNORM",
         "SY",
         "1741406",
         "Albutein 50 MG/ML Injection",
         "Clinical Drug"
        ],
        [
         "29854",
         "C0698853",
         "RXNORM",
         "SY",
         "1741406",
         "Albutein 50 MG/ML Injection",
         "Clinical Drug"
        ],
        [
         "333368",
         "C5210013",
         "RXNORM",
         "SY",
         "2205455",
         "Fiasp 100 UNT/ML Cartridge",
         "Clinical Drug"
        ],
        [
         "333369",
         "C5210013",
         "RXNORM",
         "SY",
         "2205455",
         "Fiasp 100 UNT/ML Cartridge",
         "Clinical Drug"
        ],
        [
         "345519",
         "C5540563",
         "RXNORM",
         "SY",
         "2560092",
         "Rezipres 4.7 MG/ML Injection",
         "Clinical Drug"
        ],
        [
         "345520",
         "C5540563",
         "RXNORM",
         "SY",
         "2560092",
         "Rezipres 4.7 MG/ML Injection",
         "Clinical Drug"
        ],
        [
         "349722",
         "C5578677",
         "RXNORM",
         "SY",
         "2598444",
         "Movodyl 100 MG Chewable Tablet",
         "Clinical Drug"
        ],
        [
         "349723",
         "C5578677",
         "RXNORM",
         "SY",
         "2598444",
         "Movodyl 100 MG Chewable Tablet",
         "Clinical Drug"
        ],
        [
         "352504",
         "C5706056",
         "RXNORM",
         "SY",
         "2619324",
         "Imjudo 20 MG/ML Injection",
         "Clinical Drug"
        ],
        [
         "352505",
         "C5706056",
         "RXNORM",
         "SY",
         "2619324",
         "Imjudo 20 MG/ML Injection",
         "Clinical Drug"
        ],
        [
         "352722",
         "C5710457",
         "RXNORM",
         "SY",
         "723526",
         "Divigel 0.001 MG/MG Topical Gel",
         "Clinical Drug"
        ],
        [
         "352723",
         "C5710457",
         "RXNORM",
         "SY",
         "723526",
         "Divigel 0.001 MG/MG Topical Gel",
         "Clinical Drug"
        ],
        [
         "352727",
         "C5710458",
         "RXNORM",
         "SY",
         "2621029",
         "Furoscix 8 MG/ML Cartridge",
         "Clinical Drug"
        ],
        [
         "352728",
         "C5710458",
         "RXNORM",
         "SY",
         "2621029",
         "Furoscix 8 MG/ML Cartridge",
         "Clinical Drug"
        ],
        [
         "353188",
         "C5770396",
         "RXNORM",
         "SY",
         "2625136",
         "Lunsumio 1 MG/ML Injection",
         "Clinical Drug"
        ],
        [
         "353189",
         "C5770396",
         "RXNORM",
         "SY",
         "2625136",
         "Lunsumio 1 MG/ML Injection",
         "Clinical Drug"
        ],
        [
         "353902",
         "C5778331",
         "RXNORM",
         "SY",
         "2627718",
         "Amjevita 50 MG/ML Prefilled Syringe",
         "Clinical Drug"
        ],
        [
         "353903",
         "C5778331",
         "RXNORM",
         "SY",
         "2627718",
         "Amjevita 50 MG/ML Prefilled Syringe",
         "Clinical Drug"
        ],
        [
         "354818",
         "C5782749",
         "RXNORM",
         "SY",
         "2631142",
         "Zarxio 0.3 MG/ML Injection",
         "Clinical Drug"
        ],
        [
         "354819",
         "C5782749",
         "RXNORM",
         "SY",
         "2631142",
         "Zarxio 0.3 MG/ML Injection",
         "Clinical Drug"
        ],
        [
         "355233",
         "C5789901",
         "RXNORM",
         "SY",
         "2634234",
         "Immphentiv 0.1 MG/ML Injection",
         "Clinical Drug"
        ],
        [
         "355234",
         "C5789901",
         "RXNORM",
         "SY",
         "2634234",
         "Immphentiv 0.1 MG/ML Injection",
         "Clinical Drug"
        ],
        [
         "355630",
         "C5814479",
         "RXNORM",
         "SY",
         "2636641",
         "Abilify 300 MG/ML Prefilled Syringe",
         "Clinical Drug"
        ],
        [
         "355631",
         "C5814479",
         "RXNORM",
         "SY",
         "2636641",
         "Abilify 300 MG/ML Prefilled Syringe",
         "Clinical Drug"
        ],
        [
         "356433",
         "C5816510",
         "RXNORM",
         "SY",
         "2639028",
         "Brixadi 50 MG/ML Prefilled Syringe",
         "Clinical Drug"
        ],
        [
         "356434",
         "C5816510",
         "RXNORM",
         "SY",
         "2639028",
         "Brixadi 50 MG/ML Prefilled Syringe",
         "Clinical Drug"
        ],
        [
         "356435",
         "C5816510",
         "RXNORM",
         "SY",
         "2639028",
         "Brixadi 50 MG/ML Prefilled Syringe",
         "Clinical Drug"
        ],
        [
         "356436",
         "C5816510",
         "RXNORM",
         "SY",
         "2639028",
         "Brixadi 50 MG/ML Prefilled Syringe",
         "Clinical Drug"
        ],
        [
         "356438",
         "C5816511",
         "RXNORM",
         "SY",
         "2639040",
         "Brixadi 356 MG/ML Prefilled Syringe",
         "Clinical Drug"
        ],
        [
         "356439",
         "C5816511",
         "RXNORM",
         "SY",
         "2639040",
         "Brixadi 356 MG/ML Prefilled Syringe",
         "Clinical Drug"
        ],
        [
         "356440",
         "C5816511",
         "RXNORM",
         "SY",
         "2639040",
         "Brixadi 356 MG/ML Prefilled Syringe",
         "Clinical Drug"
        ],
        [
         "356444",
         "C5816513",
         "RXNORM",
         "SY",
         "2639658",
         "Yuflyma 100 MG/ML Auto-Injector",
         "Clinical Drug"
        ],
        [
         "356445",
         "C5816513",
         "RXNORM",
         "SY",
         "2639658",
         "Yuflyma 100 MG/ML Auto-Injector",
         "Clinical Drug"
        ],
        [
         "357347",
         "C5827968",
         "RXNORM",
         "SY",
         "2640416",
         "Hulio 50 MG/ML Prefilled Syringe",
         "Clinical Drug"
        ],
        [
         "357348",
         "C5827968",
         "RXNORM",
         "SY",
         "2640416",
         "Hulio 50 MG/ML Prefilled Syringe",
         "Clinical Drug"
        ],
        [
         "357360",
         "C5827974",
         "RXNORM",
         "SY",
         "2640890",
         "Cyltezo 50 MG/ML Prefilled Syringe",
         "Clinical Drug"
        ],
        [
         "357361",
         "C5827974",
         "RXNORM",
         "SY",
         "2640890",
         "Cyltezo 50 MG/ML Prefilled Syringe",
         "Clinical Drug"
        ],
        [
         "357362",
         "C5827974",
         "RXNORM",
         "SY",
         "2640890",
         "Cyltezo 50 MG/ML Prefilled Syringe",
         "Clinical Drug"
        ],
        [
         "357373",
         "C5827982",
         "RXNORM",
         "SY",
         "2642413",
         "Beyfortus 100 MG/ML Prefilled Syringe",
         "Clinical Drug"
        ],
        [
         "357374",
         "C5827982",
         "RXNORM",
         "SY",
         "2642413",
         "Beyfortus 100 MG/ML Prefilled Syringe",
         "Clinical Drug"
        ],
        [
         "374343",
         "C5850428",
         "RXNORM",
         "SY",
         "2665329",
         "Gamifant 25 MG/ML Injection",
         "Clinical Drug"
        ],
        [
         "374344",
         "C5850428",
         "RXNORM",
         "SY",
         "2665329",
         "Gamifant 25 MG/ML Injection",
         "Clinical Drug"
        ],
        [
         "374345",
         "C5850428",
         "RXNORM",
         "SY",
         "2665329",
         "Gamifant 25 MG/ML Injection",
         "Clinical Drug"
        ],
        [
         "374346",
         "C5850428",
         "RXNORM",
         "SY",
         "2665329",
         "Gamifant 25 MG/ML Injection",
         "Clinical Drug"
        ],
        [
         "376658",
         "C5884900",
         "RXNORM",
         "SY",
         "2675316",
         "Rivfloza 160 MG/ML Prefilled Syringe",
         "Clinical Drug"
        ],
        [
         "376659",
         "C5884900",
         "RXNORM",
         "SY",
         "2675316",
         "Rivfloza 160 MG/ML Prefilled Syringe",
         "Clinical Drug"
        ],
        [
         "377789",
         "C5911101",
         "RXNORM",
         "SY",
         "2679439",
         "Tyenne 20 MG/ML Injection",
         "Clinical Drug"
        ],
        [
         "377790",
         "C5911101",
         "RXNORM",
         "SY",
         "2679439",
         "Tyenne 20 MG/ML Injection",
         "Clinical Drug"
        ],
        [
         "377791",
         "C5911101",
         "RXNORM",
         "SY",
         "2679439",
         "Tyenne 20 MG/ML Injection",
         "Clinical Drug"
        ],
        [
         "378285",
         "C5917187",
         "RXNORM",
         "SY",
         "2680295",
         "Tofidence 20 MG/ML Injection",
         "Clinical Drug"
        ]
       ],
       "shape": {
        "columns": 6,
        "rows": 54
       }
      },
      "text/html": [
       "<div>\n",
       "<style scoped>\n",
       "    .dataframe tbody tr th:only-of-type {\n",
       "        vertical-align: middle;\n",
       "    }\n",
       "\n",
       "    .dataframe tbody tr th {\n",
       "        vertical-align: top;\n",
       "    }\n",
       "\n",
       "    .dataframe thead th {\n",
       "        text-align: right;\n",
       "    }\n",
       "</style>\n",
       "<table border=\"1\" class=\"dataframe\">\n",
       "  <thead>\n",
       "    <tr style=\"text-align: right;\">\n",
       "      <th></th>\n",
       "      <th>CUI</th>\n",
       "      <th>System</th>\n",
       "      <th>TTY</th>\n",
       "      <th>CODE</th>\n",
       "      <th>STR</th>\n",
       "      <th>STY</th>\n",
       "    </tr>\n",
       "  </thead>\n",
       "  <tbody>\n",
       "    <tr>\n",
       "      <th>29853</th>\n",
       "      <td>C0698853</td>\n",
       "      <td>RXNORM</td>\n",
       "      <td>SY</td>\n",
       "      <td>1741406</td>\n",
       "      <td>Albutein 50 MG/ML Injection</td>\n",
       "      <td>Clinical Drug</td>\n",
       "    </tr>\n",
       "    <tr>\n",
       "      <th>29854</th>\n",
       "      <td>C0698853</td>\n",
       "      <td>RXNORM</td>\n",
       "      <td>SY</td>\n",
       "      <td>1741406</td>\n",
       "      <td>Albutein 50 MG/ML Injection</td>\n",
       "      <td>Clinical Drug</td>\n",
       "    </tr>\n",
       "    <tr>\n",
       "      <th>333368</th>\n",
       "      <td>C5210013</td>\n",
       "      <td>RXNORM</td>\n",
       "      <td>SY</td>\n",
       "      <td>2205455</td>\n",
       "      <td>Fiasp 100 UNT/ML Cartridge</td>\n",
       "      <td>Clinical Drug</td>\n",
       "    </tr>\n",
       "    <tr>\n",
       "      <th>333369</th>\n",
       "      <td>C5210013</td>\n",
       "      <td>RXNORM</td>\n",
       "      <td>SY</td>\n",
       "      <td>2205455</td>\n",
       "      <td>Fiasp 100 UNT/ML Cartridge</td>\n",
       "      <td>Clinical Drug</td>\n",
       "    </tr>\n",
       "    <tr>\n",
       "      <th>345519</th>\n",
       "      <td>C5540563</td>\n",
       "      <td>RXNORM</td>\n",
       "      <td>SY</td>\n",
       "      <td>2560092</td>\n",
       "      <td>Rezipres 4.7 MG/ML Injection</td>\n",
       "      <td>Clinical Drug</td>\n",
       "    </tr>\n",
       "    <tr>\n",
       "      <th>345520</th>\n",
       "      <td>C5540563</td>\n",
       "      <td>RXNORM</td>\n",
       "      <td>SY</td>\n",
       "      <td>2560092</td>\n",
       "      <td>Rezipres 4.7 MG/ML Injection</td>\n",
       "      <td>Clinical Drug</td>\n",
       "    </tr>\n",
       "    <tr>\n",
       "      <th>349722</th>\n",
       "      <td>C5578677</td>\n",
       "      <td>RXNORM</td>\n",
       "      <td>SY</td>\n",
       "      <td>2598444</td>\n",
       "      <td>Movodyl 100 MG Chewable Tablet</td>\n",
       "      <td>Clinical Drug</td>\n",
       "    </tr>\n",
       "    <tr>\n",
       "      <th>349723</th>\n",
       "      <td>C5578677</td>\n",
       "      <td>RXNORM</td>\n",
       "      <td>SY</td>\n",
       "      <td>2598444</td>\n",
       "      <td>Movodyl 100 MG Chewable Tablet</td>\n",
       "      <td>Clinical Drug</td>\n",
       "    </tr>\n",
       "    <tr>\n",
       "      <th>352504</th>\n",
       "      <td>C5706056</td>\n",
       "      <td>RXNORM</td>\n",
       "      <td>SY</td>\n",
       "      <td>2619324</td>\n",
       "      <td>Imjudo 20 MG/ML Injection</td>\n",
       "      <td>Clinical Drug</td>\n",
       "    </tr>\n",
       "    <tr>\n",
       "      <th>352505</th>\n",
       "      <td>C5706056</td>\n",
       "      <td>RXNORM</td>\n",
       "      <td>SY</td>\n",
       "      <td>2619324</td>\n",
       "      <td>Imjudo 20 MG/ML Injection</td>\n",
       "      <td>Clinical Drug</td>\n",
       "    </tr>\n",
       "    <tr>\n",
       "      <th>352722</th>\n",
       "      <td>C5710457</td>\n",
       "      <td>RXNORM</td>\n",
       "      <td>SY</td>\n",
       "      <td>723526</td>\n",
       "      <td>Divigel 0.001 MG/MG Topical Gel</td>\n",
       "      <td>Clinical Drug</td>\n",
       "    </tr>\n",
       "    <tr>\n",
       "      <th>352723</th>\n",
       "      <td>C5710457</td>\n",
       "      <td>RXNORM</td>\n",
       "      <td>SY</td>\n",
       "      <td>723526</td>\n",
       "      <td>Divigel 0.001 MG/MG Topical Gel</td>\n",
       "      <td>Clinical Drug</td>\n",
       "    </tr>\n",
       "    <tr>\n",
       "      <th>352727</th>\n",
       "      <td>C5710458</td>\n",
       "      <td>RXNORM</td>\n",
       "      <td>SY</td>\n",
       "      <td>2621029</td>\n",
       "      <td>Furoscix 8 MG/ML Cartridge</td>\n",
       "      <td>Clinical Drug</td>\n",
       "    </tr>\n",
       "    <tr>\n",
       "      <th>352728</th>\n",
       "      <td>C5710458</td>\n",
       "      <td>RXNORM</td>\n",
       "      <td>SY</td>\n",
       "      <td>2621029</td>\n",
       "      <td>Furoscix 8 MG/ML Cartridge</td>\n",
       "      <td>Clinical Drug</td>\n",
       "    </tr>\n",
       "    <tr>\n",
       "      <th>353188</th>\n",
       "      <td>C5770396</td>\n",
       "      <td>RXNORM</td>\n",
       "      <td>SY</td>\n",
       "      <td>2625136</td>\n",
       "      <td>Lunsumio 1 MG/ML Injection</td>\n",
       "      <td>Clinical Drug</td>\n",
       "    </tr>\n",
       "    <tr>\n",
       "      <th>353189</th>\n",
       "      <td>C5770396</td>\n",
       "      <td>RXNORM</td>\n",
       "      <td>SY</td>\n",
       "      <td>2625136</td>\n",
       "      <td>Lunsumio 1 MG/ML Injection</td>\n",
       "      <td>Clinical Drug</td>\n",
       "    </tr>\n",
       "    <tr>\n",
       "      <th>353902</th>\n",
       "      <td>C5778331</td>\n",
       "      <td>RXNORM</td>\n",
       "      <td>SY</td>\n",
       "      <td>2627718</td>\n",
       "      <td>Amjevita 50 MG/ML Prefilled Syringe</td>\n",
       "      <td>Clinical Drug</td>\n",
       "    </tr>\n",
       "    <tr>\n",
       "      <th>353903</th>\n",
       "      <td>C5778331</td>\n",
       "      <td>RXNORM</td>\n",
       "      <td>SY</td>\n",
       "      <td>2627718</td>\n",
       "      <td>Amjevita 50 MG/ML Prefilled Syringe</td>\n",
       "      <td>Clinical Drug</td>\n",
       "    </tr>\n",
       "    <tr>\n",
       "      <th>354818</th>\n",
       "      <td>C5782749</td>\n",
       "      <td>RXNORM</td>\n",
       "      <td>SY</td>\n",
       "      <td>2631142</td>\n",
       "      <td>Zarxio 0.3 MG/ML Injection</td>\n",
       "      <td>Clinical Drug</td>\n",
       "    </tr>\n",
       "    <tr>\n",
       "      <th>354819</th>\n",
       "      <td>C5782749</td>\n",
       "      <td>RXNORM</td>\n",
       "      <td>SY</td>\n",
       "      <td>2631142</td>\n",
       "      <td>Zarxio 0.3 MG/ML Injection</td>\n",
       "      <td>Clinical Drug</td>\n",
       "    </tr>\n",
       "    <tr>\n",
       "      <th>355233</th>\n",
       "      <td>C5789901</td>\n",
       "      <td>RXNORM</td>\n",
       "      <td>SY</td>\n",
       "      <td>2634234</td>\n",
       "      <td>Immphentiv 0.1 MG/ML Injection</td>\n",
       "      <td>Clinical Drug</td>\n",
       "    </tr>\n",
       "    <tr>\n",
       "      <th>355234</th>\n",
       "      <td>C5789901</td>\n",
       "      <td>RXNORM</td>\n",
       "      <td>SY</td>\n",
       "      <td>2634234</td>\n",
       "      <td>Immphentiv 0.1 MG/ML Injection</td>\n",
       "      <td>Clinical Drug</td>\n",
       "    </tr>\n",
       "    <tr>\n",
       "      <th>355630</th>\n",
       "      <td>C5814479</td>\n",
       "      <td>RXNORM</td>\n",
       "      <td>SY</td>\n",
       "      <td>2636641</td>\n",
       "      <td>Abilify 300 MG/ML Prefilled Syringe</td>\n",
       "      <td>Clinical Drug</td>\n",
       "    </tr>\n",
       "    <tr>\n",
       "      <th>355631</th>\n",
       "      <td>C5814479</td>\n",
       "      <td>RXNORM</td>\n",
       "      <td>SY</td>\n",
       "      <td>2636641</td>\n",
       "      <td>Abilify 300 MG/ML Prefilled Syringe</td>\n",
       "      <td>Clinical Drug</td>\n",
       "    </tr>\n",
       "    <tr>\n",
       "      <th>356433</th>\n",
       "      <td>C5816510</td>\n",
       "      <td>RXNORM</td>\n",
       "      <td>SY</td>\n",
       "      <td>2639028</td>\n",
       "      <td>Brixadi 50 MG/ML Prefilled Syringe</td>\n",
       "      <td>Clinical Drug</td>\n",
       "    </tr>\n",
       "    <tr>\n",
       "      <th>356434</th>\n",
       "      <td>C5816510</td>\n",
       "      <td>RXNORM</td>\n",
       "      <td>SY</td>\n",
       "      <td>2639028</td>\n",
       "      <td>Brixadi 50 MG/ML Prefilled Syringe</td>\n",
       "      <td>Clinical Drug</td>\n",
       "    </tr>\n",
       "    <tr>\n",
       "      <th>356435</th>\n",
       "      <td>C5816510</td>\n",
       "      <td>RXNORM</td>\n",
       "      <td>SY</td>\n",
       "      <td>2639028</td>\n",
       "      <td>Brixadi 50 MG/ML Prefilled Syringe</td>\n",
       "      <td>Clinical Drug</td>\n",
       "    </tr>\n",
       "    <tr>\n",
       "      <th>356436</th>\n",
       "      <td>C5816510</td>\n",
       "      <td>RXNORM</td>\n",
       "      <td>SY</td>\n",
       "      <td>2639028</td>\n",
       "      <td>Brixadi 50 MG/ML Prefilled Syringe</td>\n",
       "      <td>Clinical Drug</td>\n",
       "    </tr>\n",
       "    <tr>\n",
       "      <th>356438</th>\n",
       "      <td>C5816511</td>\n",
       "      <td>RXNORM</td>\n",
       "      <td>SY</td>\n",
       "      <td>2639040</td>\n",
       "      <td>Brixadi 356 MG/ML Prefilled Syringe</td>\n",
       "      <td>Clinical Drug</td>\n",
       "    </tr>\n",
       "    <tr>\n",
       "      <th>356439</th>\n",
       "      <td>C5816511</td>\n",
       "      <td>RXNORM</td>\n",
       "      <td>SY</td>\n",
       "      <td>2639040</td>\n",
       "      <td>Brixadi 356 MG/ML Prefilled Syringe</td>\n",
       "      <td>Clinical Drug</td>\n",
       "    </tr>\n",
       "    <tr>\n",
       "      <th>356440</th>\n",
       "      <td>C5816511</td>\n",
       "      <td>RXNORM</td>\n",
       "      <td>SY</td>\n",
       "      <td>2639040</td>\n",
       "      <td>Brixadi 356 MG/ML Prefilled Syringe</td>\n",
       "      <td>Clinical Drug</td>\n",
       "    </tr>\n",
       "    <tr>\n",
       "      <th>356444</th>\n",
       "      <td>C5816513</td>\n",
       "      <td>RXNORM</td>\n",
       "      <td>SY</td>\n",
       "      <td>2639658</td>\n",
       "      <td>Yuflyma 100 MG/ML Auto-Injector</td>\n",
       "      <td>Clinical Drug</td>\n",
       "    </tr>\n",
       "    <tr>\n",
       "      <th>356445</th>\n",
       "      <td>C5816513</td>\n",
       "      <td>RXNORM</td>\n",
       "      <td>SY</td>\n",
       "      <td>2639658</td>\n",
       "      <td>Yuflyma 100 MG/ML Auto-Injector</td>\n",
       "      <td>Clinical Drug</td>\n",
       "    </tr>\n",
       "    <tr>\n",
       "      <th>357347</th>\n",
       "      <td>C5827968</td>\n",
       "      <td>RXNORM</td>\n",
       "      <td>SY</td>\n",
       "      <td>2640416</td>\n",
       "      <td>Hulio 50 MG/ML Prefilled Syringe</td>\n",
       "      <td>Clinical Drug</td>\n",
       "    </tr>\n",
       "    <tr>\n",
       "      <th>357348</th>\n",
       "      <td>C5827968</td>\n",
       "      <td>RXNORM</td>\n",
       "      <td>SY</td>\n",
       "      <td>2640416</td>\n",
       "      <td>Hulio 50 MG/ML Prefilled Syringe</td>\n",
       "      <td>Clinical Drug</td>\n",
       "    </tr>\n",
       "    <tr>\n",
       "      <th>357360</th>\n",
       "      <td>C5827974</td>\n",
       "      <td>RXNORM</td>\n",
       "      <td>SY</td>\n",
       "      <td>2640890</td>\n",
       "      <td>Cyltezo 50 MG/ML Prefilled Syringe</td>\n",
       "      <td>Clinical Drug</td>\n",
       "    </tr>\n",
       "    <tr>\n",
       "      <th>357361</th>\n",
       "      <td>C5827974</td>\n",
       "      <td>RXNORM</td>\n",
       "      <td>SY</td>\n",
       "      <td>2640890</td>\n",
       "      <td>Cyltezo 50 MG/ML Prefilled Syringe</td>\n",
       "      <td>Clinical Drug</td>\n",
       "    </tr>\n",
       "    <tr>\n",
       "      <th>357362</th>\n",
       "      <td>C5827974</td>\n",
       "      <td>RXNORM</td>\n",
       "      <td>SY</td>\n",
       "      <td>2640890</td>\n",
       "      <td>Cyltezo 50 MG/ML Prefilled Syringe</td>\n",
       "      <td>Clinical Drug</td>\n",
       "    </tr>\n",
       "    <tr>\n",
       "      <th>357373</th>\n",
       "      <td>C5827982</td>\n",
       "      <td>RXNORM</td>\n",
       "      <td>SY</td>\n",
       "      <td>2642413</td>\n",
       "      <td>Beyfortus 100 MG/ML Prefilled Syringe</td>\n",
       "      <td>Clinical Drug</td>\n",
       "    </tr>\n",
       "    <tr>\n",
       "      <th>357374</th>\n",
       "      <td>C5827982</td>\n",
       "      <td>RXNORM</td>\n",
       "      <td>SY</td>\n",
       "      <td>2642413</td>\n",
       "      <td>Beyfortus 100 MG/ML Prefilled Syringe</td>\n",
       "      <td>Clinical Drug</td>\n",
       "    </tr>\n",
       "    <tr>\n",
       "      <th>374343</th>\n",
       "      <td>C5850428</td>\n",
       "      <td>RXNORM</td>\n",
       "      <td>SY</td>\n",
       "      <td>2665329</td>\n",
       "      <td>Gamifant 25 MG/ML Injection</td>\n",
       "      <td>Clinical Drug</td>\n",
       "    </tr>\n",
       "    <tr>\n",
       "      <th>374344</th>\n",
       "      <td>C5850428</td>\n",
       "      <td>RXNORM</td>\n",
       "      <td>SY</td>\n",
       "      <td>2665329</td>\n",
       "      <td>Gamifant 25 MG/ML Injection</td>\n",
       "      <td>Clinical Drug</td>\n",
       "    </tr>\n",
       "    <tr>\n",
       "      <th>374345</th>\n",
       "      <td>C5850428</td>\n",
       "      <td>RXNORM</td>\n",
       "      <td>SY</td>\n",
       "      <td>2665329</td>\n",
       "      <td>Gamifant 25 MG/ML Injection</td>\n",
       "      <td>Clinical Drug</td>\n",
       "    </tr>\n",
       "    <tr>\n",
       "      <th>374346</th>\n",
       "      <td>C5850428</td>\n",
       "      <td>RXNORM</td>\n",
       "      <td>SY</td>\n",
       "      <td>2665329</td>\n",
       "      <td>Gamifant 25 MG/ML Injection</td>\n",
       "      <td>Clinical Drug</td>\n",
       "    </tr>\n",
       "    <tr>\n",
       "      <th>376658</th>\n",
       "      <td>C5884900</td>\n",
       "      <td>RXNORM</td>\n",
       "      <td>SY</td>\n",
       "      <td>2675316</td>\n",
       "      <td>Rivfloza 160 MG/ML Prefilled Syringe</td>\n",
       "      <td>Clinical Drug</td>\n",
       "    </tr>\n",
       "    <tr>\n",
       "      <th>376659</th>\n",
       "      <td>C5884900</td>\n",
       "      <td>RXNORM</td>\n",
       "      <td>SY</td>\n",
       "      <td>2675316</td>\n",
       "      <td>Rivfloza 160 MG/ML Prefilled Syringe</td>\n",
       "      <td>Clinical Drug</td>\n",
       "    </tr>\n",
       "    <tr>\n",
       "      <th>377789</th>\n",
       "      <td>C5911101</td>\n",
       "      <td>RXNORM</td>\n",
       "      <td>SY</td>\n",
       "      <td>2679439</td>\n",
       "      <td>Tyenne 20 MG/ML Injection</td>\n",
       "      <td>Clinical Drug</td>\n",
       "    </tr>\n",
       "    <tr>\n",
       "      <th>377790</th>\n",
       "      <td>C5911101</td>\n",
       "      <td>RXNORM</td>\n",
       "      <td>SY</td>\n",
       "      <td>2679439</td>\n",
       "      <td>Tyenne 20 MG/ML Injection</td>\n",
       "      <td>Clinical Drug</td>\n",
       "    </tr>\n",
       "    <tr>\n",
       "      <th>377791</th>\n",
       "      <td>C5911101</td>\n",
       "      <td>RXNORM</td>\n",
       "      <td>SY</td>\n",
       "      <td>2679439</td>\n",
       "      <td>Tyenne 20 MG/ML Injection</td>\n",
       "      <td>Clinical Drug</td>\n",
       "    </tr>\n",
       "    <tr>\n",
       "      <th>378285</th>\n",
       "      <td>C5917187</td>\n",
       "      <td>RXNORM</td>\n",
       "      <td>SY</td>\n",
       "      <td>2680295</td>\n",
       "      <td>Tofidence 20 MG/ML Injection</td>\n",
       "      <td>Clinical Drug</td>\n",
       "    </tr>\n",
       "    <tr>\n",
       "      <th>378286</th>\n",
       "      <td>C5917187</td>\n",
       "      <td>RXNORM</td>\n",
       "      <td>SY</td>\n",
       "      <td>2680295</td>\n",
       "      <td>Tofidence 20 MG/ML Injection</td>\n",
       "      <td>Clinical Drug</td>\n",
       "    </tr>\n",
       "    <tr>\n",
       "      <th>378287</th>\n",
       "      <td>C5917187</td>\n",
       "      <td>RXNORM</td>\n",
       "      <td>SY</td>\n",
       "      <td>2680295</td>\n",
       "      <td>Tofidence 20 MG/ML Injection</td>\n",
       "      <td>Clinical Drug</td>\n",
       "    </tr>\n",
       "    <tr>\n",
       "      <th>378710</th>\n",
       "      <td>C5920077</td>\n",
       "      <td>RXNORM</td>\n",
       "      <td>SY</td>\n",
       "      <td>2685297</td>\n",
       "      <td>Acthar 80 UNT/ML Prefilled Syringe</td>\n",
       "      <td>Clinical Drug</td>\n",
       "    </tr>\n",
       "    <tr>\n",
       "      <th>378711</th>\n",
       "      <td>C5920077</td>\n",
       "      <td>RXNORM</td>\n",
       "      <td>SY</td>\n",
       "      <td>2685297</td>\n",
       "      <td>Acthar 80 UNT/ML Prefilled Syringe</td>\n",
       "      <td>Clinical Drug</td>\n",
       "    </tr>\n",
       "  </tbody>\n",
       "</table>\n",
       "</div>"
      ],
      "text/plain": [
       "             CUI  System TTY     CODE                                    STR  \\\n",
       "29853   C0698853  RXNORM  SY  1741406            Albutein 50 MG/ML Injection   \n",
       "29854   C0698853  RXNORM  SY  1741406            Albutein 50 MG/ML Injection   \n",
       "333368  C5210013  RXNORM  SY  2205455             Fiasp 100 UNT/ML Cartridge   \n",
       "333369  C5210013  RXNORM  SY  2205455             Fiasp 100 UNT/ML Cartridge   \n",
       "345519  C5540563  RXNORM  SY  2560092           Rezipres 4.7 MG/ML Injection   \n",
       "345520  C5540563  RXNORM  SY  2560092           Rezipres 4.7 MG/ML Injection   \n",
       "349722  C5578677  RXNORM  SY  2598444         Movodyl 100 MG Chewable Tablet   \n",
       "349723  C5578677  RXNORM  SY  2598444         Movodyl 100 MG Chewable Tablet   \n",
       "352504  C5706056  RXNORM  SY  2619324              Imjudo 20 MG/ML Injection   \n",
       "352505  C5706056  RXNORM  SY  2619324              Imjudo 20 MG/ML Injection   \n",
       "352722  C5710457  RXNORM  SY   723526        Divigel 0.001 MG/MG Topical Gel   \n",
       "352723  C5710457  RXNORM  SY   723526        Divigel 0.001 MG/MG Topical Gel   \n",
       "352727  C5710458  RXNORM  SY  2621029             Furoscix 8 MG/ML Cartridge   \n",
       "352728  C5710458  RXNORM  SY  2621029             Furoscix 8 MG/ML Cartridge   \n",
       "353188  C5770396  RXNORM  SY  2625136             Lunsumio 1 MG/ML Injection   \n",
       "353189  C5770396  RXNORM  SY  2625136             Lunsumio 1 MG/ML Injection   \n",
       "353902  C5778331  RXNORM  SY  2627718    Amjevita 50 MG/ML Prefilled Syringe   \n",
       "353903  C5778331  RXNORM  SY  2627718    Amjevita 50 MG/ML Prefilled Syringe   \n",
       "354818  C5782749  RXNORM  SY  2631142             Zarxio 0.3 MG/ML Injection   \n",
       "354819  C5782749  RXNORM  SY  2631142             Zarxio 0.3 MG/ML Injection   \n",
       "355233  C5789901  RXNORM  SY  2634234         Immphentiv 0.1 MG/ML Injection   \n",
       "355234  C5789901  RXNORM  SY  2634234         Immphentiv 0.1 MG/ML Injection   \n",
       "355630  C5814479  RXNORM  SY  2636641    Abilify 300 MG/ML Prefilled Syringe   \n",
       "355631  C5814479  RXNORM  SY  2636641    Abilify 300 MG/ML Prefilled Syringe   \n",
       "356433  C5816510  RXNORM  SY  2639028     Brixadi 50 MG/ML Prefilled Syringe   \n",
       "356434  C5816510  RXNORM  SY  2639028     Brixadi 50 MG/ML Prefilled Syringe   \n",
       "356435  C5816510  RXNORM  SY  2639028     Brixadi 50 MG/ML Prefilled Syringe   \n",
       "356436  C5816510  RXNORM  SY  2639028     Brixadi 50 MG/ML Prefilled Syringe   \n",
       "356438  C5816511  RXNORM  SY  2639040    Brixadi 356 MG/ML Prefilled Syringe   \n",
       "356439  C5816511  RXNORM  SY  2639040    Brixadi 356 MG/ML Prefilled Syringe   \n",
       "356440  C5816511  RXNORM  SY  2639040    Brixadi 356 MG/ML Prefilled Syringe   \n",
       "356444  C5816513  RXNORM  SY  2639658        Yuflyma 100 MG/ML Auto-Injector   \n",
       "356445  C5816513  RXNORM  SY  2639658        Yuflyma 100 MG/ML Auto-Injector   \n",
       "357347  C5827968  RXNORM  SY  2640416       Hulio 50 MG/ML Prefilled Syringe   \n",
       "357348  C5827968  RXNORM  SY  2640416       Hulio 50 MG/ML Prefilled Syringe   \n",
       "357360  C5827974  RXNORM  SY  2640890     Cyltezo 50 MG/ML Prefilled Syringe   \n",
       "357361  C5827974  RXNORM  SY  2640890     Cyltezo 50 MG/ML Prefilled Syringe   \n",
       "357362  C5827974  RXNORM  SY  2640890     Cyltezo 50 MG/ML Prefilled Syringe   \n",
       "357373  C5827982  RXNORM  SY  2642413  Beyfortus 100 MG/ML Prefilled Syringe   \n",
       "357374  C5827982  RXNORM  SY  2642413  Beyfortus 100 MG/ML Prefilled Syringe   \n",
       "374343  C5850428  RXNORM  SY  2665329            Gamifant 25 MG/ML Injection   \n",
       "374344  C5850428  RXNORM  SY  2665329            Gamifant 25 MG/ML Injection   \n",
       "374345  C5850428  RXNORM  SY  2665329            Gamifant 25 MG/ML Injection   \n",
       "374346  C5850428  RXNORM  SY  2665329            Gamifant 25 MG/ML Injection   \n",
       "376658  C5884900  RXNORM  SY  2675316   Rivfloza 160 MG/ML Prefilled Syringe   \n",
       "376659  C5884900  RXNORM  SY  2675316   Rivfloza 160 MG/ML Prefilled Syringe   \n",
       "377789  C5911101  RXNORM  SY  2679439              Tyenne 20 MG/ML Injection   \n",
       "377790  C5911101  RXNORM  SY  2679439              Tyenne 20 MG/ML Injection   \n",
       "377791  C5911101  RXNORM  SY  2679439              Tyenne 20 MG/ML Injection   \n",
       "378285  C5917187  RXNORM  SY  2680295           Tofidence 20 MG/ML Injection   \n",
       "378286  C5917187  RXNORM  SY  2680295           Tofidence 20 MG/ML Injection   \n",
       "378287  C5917187  RXNORM  SY  2680295           Tofidence 20 MG/ML Injection   \n",
       "378710  C5920077  RXNORM  SY  2685297     Acthar 80 UNT/ML Prefilled Syringe   \n",
       "378711  C5920077  RXNORM  SY  2685297     Acthar 80 UNT/ML Prefilled Syringe   \n",
       "\n",
       "                  STY  \n",
       "29853   Clinical Drug  \n",
       "29854   Clinical Drug  \n",
       "333368  Clinical Drug  \n",
       "333369  Clinical Drug  \n",
       "345519  Clinical Drug  \n",
       "345520  Clinical Drug  \n",
       "349722  Clinical Drug  \n",
       "349723  Clinical Drug  \n",
       "352504  Clinical Drug  \n",
       "352505  Clinical Drug  \n",
       "352722  Clinical Drug  \n",
       "352723  Clinical Drug  \n",
       "352727  Clinical Drug  \n",
       "352728  Clinical Drug  \n",
       "353188  Clinical Drug  \n",
       "353189  Clinical Drug  \n",
       "353902  Clinical Drug  \n",
       "353903  Clinical Drug  \n",
       "354818  Clinical Drug  \n",
       "354819  Clinical Drug  \n",
       "355233  Clinical Drug  \n",
       "355234  Clinical Drug  \n",
       "355630  Clinical Drug  \n",
       "355631  Clinical Drug  \n",
       "356433  Clinical Drug  \n",
       "356434  Clinical Drug  \n",
       "356435  Clinical Drug  \n",
       "356436  Clinical Drug  \n",
       "356438  Clinical Drug  \n",
       "356439  Clinical Drug  \n",
       "356440  Clinical Drug  \n",
       "356444  Clinical Drug  \n",
       "356445  Clinical Drug  \n",
       "357347  Clinical Drug  \n",
       "357348  Clinical Drug  \n",
       "357360  Clinical Drug  \n",
       "357361  Clinical Drug  \n",
       "357362  Clinical Drug  \n",
       "357373  Clinical Drug  \n",
       "357374  Clinical Drug  \n",
       "374343  Clinical Drug  \n",
       "374344  Clinical Drug  \n",
       "374345  Clinical Drug  \n",
       "374346  Clinical Drug  \n",
       "376658  Clinical Drug  \n",
       "376659  Clinical Drug  \n",
       "377789  Clinical Drug  \n",
       "377790  Clinical Drug  \n",
       "377791  Clinical Drug  \n",
       "378285  Clinical Drug  \n",
       "378286  Clinical Drug  \n",
       "378287  Clinical Drug  \n",
       "378710  Clinical Drug  \n",
       "378711  Clinical Drug  "
      ]
     },
     "execution_count": 16,
     "metadata": {},
     "output_type": "execute_result"
    }
   ],
   "source": [
    "rxnorm[rxnorm.duplicated(keep=False)]"
   ]
  },
  {
   "cell_type": "code",
   "execution_count": 17,
   "metadata": {
    "execution": {
     "iopub.execute_input": "2025-09-28T05:53:47.759207Z",
     "iopub.status.busy": "2025-09-28T05:53:47.758888Z",
     "iopub.status.idle": "2025-09-28T05:53:48.038953Z",
     "shell.execute_reply": "2025-09-28T05:53:48.038133Z",
     "shell.execute_reply.started": "2025-09-28T05:53:47.759184Z"
    },
    "trusted": true
   },
   "outputs": [
    {
     "data": {
      "text/plain": [
       "31"
      ]
     },
     "execution_count": 17,
     "metadata": {},
     "output_type": "execute_result"
    }
   ],
   "source": [
    "rxnorm.duplicated().sum()"
   ]
  },
  {
   "cell_type": "code",
   "execution_count": 18,
   "metadata": {
    "execution": {
     "iopub.execute_input": "2025-09-28T05:55:03.185139Z",
     "iopub.status.busy": "2025-09-28T05:55:03.184806Z",
     "iopub.status.idle": "2025-09-28T05:55:04.073653Z",
     "shell.execute_reply": "2025-09-28T05:55:04.072719Z",
     "shell.execute_reply.started": "2025-09-28T05:55:03.185115Z"
    },
    "trusted": true
   },
   "outputs": [
    {
     "data": {
      "application/vnd.microsoft.datawrangler.viewer.v0+json": {
       "columns": [
        {
         "name": "index",
         "rawType": "int64",
         "type": "integer"
        },
        {
         "name": "CUI",
         "rawType": "object",
         "type": "string"
        },
        {
         "name": "System",
         "rawType": "object",
         "type": "string"
        },
        {
         "name": "TTY",
         "rawType": "object",
         "type": "string"
        },
        {
         "name": "CODE",
         "rawType": "object",
         "type": "string"
        },
        {
         "name": "STR",
         "rawType": "object",
         "type": "string"
        },
        {
         "name": "STY",
         "rawType": "object",
         "type": "string"
        }
       ],
       "ref": "bb1dacc5-5dcd-43f6-b7fc-d4ee2d1f19c9",
       "rows": [
        [
         "356128",
         "C0419529",
         "SNOMEDCT_US",
         "SY",
         "169516008",
         "Morning after intrauterine contraceptive device fitted",
         "Therapeutic or Preventive Procedure"
        ],
        [
         "356129",
         "C0419529",
         "SNOMEDCT_US",
         "SY",
         "169516008",
         "Morning after intrauterine contraceptive device fitted",
         "Therapeutic or Preventive Procedure"
        ]
       ],
       "shape": {
        "columns": 6,
        "rows": 2
       }
      },
      "text/html": [
       "<div>\n",
       "<style scoped>\n",
       "    .dataframe tbody tr th:only-of-type {\n",
       "        vertical-align: middle;\n",
       "    }\n",
       "\n",
       "    .dataframe tbody tr th {\n",
       "        vertical-align: top;\n",
       "    }\n",
       "\n",
       "    .dataframe thead th {\n",
       "        text-align: right;\n",
       "    }\n",
       "</style>\n",
       "<table border=\"1\" class=\"dataframe\">\n",
       "  <thead>\n",
       "    <tr style=\"text-align: right;\">\n",
       "      <th></th>\n",
       "      <th>CUI</th>\n",
       "      <th>System</th>\n",
       "      <th>TTY</th>\n",
       "      <th>CODE</th>\n",
       "      <th>STR</th>\n",
       "      <th>STY</th>\n",
       "    </tr>\n",
       "  </thead>\n",
       "  <tbody>\n",
       "    <tr>\n",
       "      <th>356128</th>\n",
       "      <td>C0419529</td>\n",
       "      <td>SNOMEDCT_US</td>\n",
       "      <td>SY</td>\n",
       "      <td>169516008</td>\n",
       "      <td>Morning after intrauterine contraceptive devic...</td>\n",
       "      <td>Therapeutic or Preventive Procedure</td>\n",
       "    </tr>\n",
       "    <tr>\n",
       "      <th>356129</th>\n",
       "      <td>C0419529</td>\n",
       "      <td>SNOMEDCT_US</td>\n",
       "      <td>SY</td>\n",
       "      <td>169516008</td>\n",
       "      <td>Morning after intrauterine contraceptive devic...</td>\n",
       "      <td>Therapeutic or Preventive Procedure</td>\n",
       "    </tr>\n",
       "  </tbody>\n",
       "</table>\n",
       "</div>"
      ],
      "text/plain": [
       "             CUI       System TTY       CODE  \\\n",
       "356128  C0419529  SNOMEDCT_US  SY  169516008   \n",
       "356129  C0419529  SNOMEDCT_US  SY  169516008   \n",
       "\n",
       "                                                      STR  \\\n",
       "356128  Morning after intrauterine contraceptive devic...   \n",
       "356129  Morning after intrauterine contraceptive devic...   \n",
       "\n",
       "                                        STY  \n",
       "356128  Therapeutic or Preventive Procedure  \n",
       "356129  Therapeutic or Preventive Procedure  "
      ]
     },
     "execution_count": 18,
     "metadata": {},
     "output_type": "execute_result"
    }
   ],
   "source": [
    "snomed[snomed.duplicated(keep=False)]"
   ]
  },
  {
   "cell_type": "code",
   "execution_count": 19,
   "metadata": {
    "execution": {
     "iopub.execute_input": "2025-09-28T05:55:16.333541Z",
     "iopub.status.busy": "2025-09-28T05:55:16.333238Z",
     "iopub.status.idle": "2025-09-28T05:55:17.169658Z",
     "shell.execute_reply": "2025-09-28T05:55:17.168973Z",
     "shell.execute_reply.started": "2025-09-28T05:55:16.333521Z"
    },
    "trusted": true
   },
   "outputs": [
    {
     "data": {
      "text/plain": [
       "1"
      ]
     },
     "execution_count": 19,
     "metadata": {},
     "output_type": "execute_result"
    }
   ],
   "source": [
    "snomed.duplicated().sum()"
   ]
  },
  {
   "cell_type": "code",
   "execution_count": 20,
   "metadata": {
    "execution": {
     "iopub.execute_input": "2025-09-28T06:28:50.481103Z",
     "iopub.status.busy": "2025-09-28T06:28:50.480112Z",
     "iopub.status.idle": "2025-09-28T06:28:50.510487Z",
     "shell.execute_reply": "2025-09-28T06:28:50.509720Z",
     "shell.execute_reply.started": "2025-09-28T06:28:50.481073Z"
    },
    "trusted": true
   },
   "outputs": [
    {
     "data": {
      "text/plain": [
       "array(['IN', 'BN', 'SY', 'PIN', 'TMSY', 'DF', 'ET', 'MIN', 'SCDF', 'SBDF',\n",
       "       'DFG', 'SCD', 'PSN', 'SCDFP', 'SCDG', 'SBD', 'SBDG', 'BPCK',\n",
       "       'SCDC', 'GPCK', 'SCDGP', 'SBDC', 'SBDFP'], dtype=object)"
      ]
     },
     "execution_count": 20,
     "metadata": {},
     "output_type": "execute_result"
    }
   ],
   "source": [
    "rxnorm['TTY'].unique()"
   ]
  },
  {
   "cell_type": "code",
   "execution_count": 21,
   "metadata": {
    "execution": {
     "iopub.execute_input": "2025-09-28T06:29:09.757844Z",
     "iopub.status.busy": "2025-09-28T06:29:09.757069Z",
     "iopub.status.idle": "2025-09-28T06:29:09.814839Z",
     "shell.execute_reply": "2025-09-28T06:29:09.814152Z",
     "shell.execute_reply.started": "2025-09-28T06:29:09.757818Z"
    },
    "trusted": true
   },
   "outputs": [
    {
     "data": {
      "text/plain": [
       "array(['PT', 'SY', 'FN'], dtype=object)"
      ]
     },
     "execution_count": 21,
     "metadata": {},
     "output_type": "execute_result"
    }
   ],
   "source": [
    "snomed['TTY'].unique()"
   ]
  },
  {
   "cell_type": "code",
   "execution_count": 22,
   "metadata": {},
   "outputs": [],
   "source": [
    "import matplotlib.pyplot as plt"
   ]
  },
  {
   "cell_type": "code",
   "execution_count": 23,
   "metadata": {},
   "outputs": [
    {
     "data": {
      "image/png": "[encoded data removed]",
      "text/plain": [
       "<Figure size 800x800 with 1 Axes>"
      ]
     },
     "metadata": {},
     "output_type": "display_data"
    }
   ],
   "source": [
    "plt.figure(figsize=(8,8))\n",
    "plt.pie(rxnorm['TTY'].value_counts(), labels=rxnorm['TTY'].value_counts().index, autopct='%1.1f%%', startangle=140)\n",
    "plt.title(\"Distribution of TTY in RxNorm\")\n",
    "plt.show()"
   ]
  },
  {
   "cell_type": "code",
   "execution_count": 24,
   "metadata": {},
   "outputs": [
    {
     "data": {
      "image/png": "[encoded data removed]",
      "text/plain": [
       "<Figure size 800x800 with 1 Axes>"
      ]
     },
     "metadata": {},
     "output_type": "display_data"
    }
   ],
   "source": [
    "plt.figure(figsize=(8,8))\n",
    "plt.pie(snomed['TTY'].value_counts(), labels=snomed['TTY'].value_counts().index, autopct='%1.1f%%', startangle=140)\n",
    "plt.title(\"Distribution of TTY in SNOMED\")\n",
    "plt.show()"
   ]
  },
  {
   "cell_type": "code",
   "execution_count": 25,
   "metadata": {
    "trusted": true
   },
   "outputs": [
    {
     "data": {
      "image/png": "[encoded data removed]",
      "text/plain": [
       "<Figure size 800x800 with 1 Axes>"
      ]
     },
     "metadata": {},
     "output_type": "display_data"
    }
   ],
   "source": [
    "plt.figure(figsize=(8,8))\n",
    "plt.pie(rxnorm['STY'].value_counts(), labels=rxnorm['STY'].value_counts().index, autopct='%1.1f%%', startangle=140)\n",
    "plt.title(\"Distribution of STY in RxNorm\")\n",
    "plt.show()"
   ]
  },
  {
   "cell_type": "code",
   "execution_count": 26,
   "metadata": {},
   "outputs": [
    {
     "data": {
      "image/png": "[encoded data removed]",
      "text/plain": [
       "<Figure size 800x800 with 1 Axes>"
      ]
     },
     "metadata": {},
     "output_type": "display_data"
    }
   ],
   "source": [
    "plt.figure(figsize=(8,8))\n",
    "plt.pie(snomed['STY'].value_counts(), labels=snomed['STY'].value_counts().index, autopct='%1.1f%%', startangle=140)\n",
    "plt.title(\"Distribution of STY in SNOMED\")\n",
    "plt.show()"
   ]
  },
  {
   "cell_type": "code",
   "execution_count": 8,
   "metadata": {},
   "outputs": [],
   "source": [
    "rxnorm = rxnorm.drop_duplicates().reset_index(drop=True)\n",
    "snomed = snomed.drop_duplicates().reset_index(drop=True)"
   ]
  },
  {
   "cell_type": "code",
   "execution_count": 14,
   "metadata": {},
   "outputs": [
    {
     "name": "stdout",
     "output_type": "stream",
     "text": [
      "Number of rows with missing values: 2\n"
     ]
    },
    {
     "data": {
      "application/vnd.microsoft.datawrangler.viewer.v0+json": {
       "columns": [
        {
         "name": "index",
         "rawType": "int64",
         "type": "integer"
        },
        {
         "name": "CUI",
         "rawType": "object",
         "type": "string"
        },
        {
         "name": "System",
         "rawType": "object",
         "type": "string"
        },
        {
         "name": "TTY",
         "rawType": "object",
         "type": "string"
        },
        {
         "name": "CODE",
         "rawType": "object",
         "type": "string"
        },
        {
         "name": "STR",
         "rawType": "object",
         "type": "unknown"
        },
        {
         "name": "STY",
         "rawType": "object",
         "type": "string"
        }
       ],
       "ref": "9272700d-b1c6-41ee-8ab9-296a38f89114",
       "rows": [
        [
         "456456",
         "C0549184",
         "SNOMEDCT_US",
         "PT",
         "260413007",
         null,
         "Finding"
        ],
        [
         "608408",
         "C1272460",
         "SNOMEDCT_US",
         "SY",
         "385432009",
         null,
         "Qualitative Concept"
        ]
       ],
       "shape": {
        "columns": 6,
        "rows": 2
       }
      },
      "text/html": [
       "<div>\n",
       "<style scoped>\n",
       "    .dataframe tbody tr th:only-of-type {\n",
       "        vertical-align: middle;\n",
       "    }\n",
       "\n",
       "    .dataframe tbody tr th {\n",
       "        vertical-align: top;\n",
       "    }\n",
       "\n",
       "    .dataframe thead th {\n",
       "        text-align: right;\n",
       "    }\n",
       "</style>\n",
       "<table border=\"1\" class=\"dataframe\">\n",
       "  <thead>\n",
       "    <tr style=\"text-align: right;\">\n",
       "      <th></th>\n",
       "      <th>CUI</th>\n",
       "      <th>System</th>\n",
       "      <th>TTY</th>\n",
       "      <th>CODE</th>\n",
       "      <th>STR</th>\n",
       "      <th>STY</th>\n",
       "    </tr>\n",
       "  </thead>\n",
       "  <tbody>\n",
       "    <tr>\n",
       "      <th>456456</th>\n",
       "      <td>C0549184</td>\n",
       "      <td>SNOMEDCT_US</td>\n",
       "      <td>PT</td>\n",
       "      <td>260413007</td>\n",
       "      <td>None</td>\n",
       "      <td>Finding</td>\n",
       "    </tr>\n",
       "    <tr>\n",
       "      <th>608408</th>\n",
       "      <td>C1272460</td>\n",
       "      <td>SNOMEDCT_US</td>\n",
       "      <td>SY</td>\n",
       "      <td>385432009</td>\n",
       "      <td>None</td>\n",
       "      <td>Qualitative Concept</td>\n",
       "    </tr>\n",
       "  </tbody>\n",
       "</table>\n",
       "</div>"
      ],
      "text/plain": [
       "             CUI       System TTY       CODE   STR                  STY\n",
       "456456  C0549184  SNOMEDCT_US  PT  260413007  None              Finding\n",
       "608408  C1272460  SNOMEDCT_US  SY  385432009  None  Qualitative Concept"
      ]
     },
     "execution_count": 14,
     "metadata": {},
     "output_type": "execute_result"
    }
   ],
   "source": [
    "missing_rows = snomed[snomed.isnull().any(axis=1)]\n",
    "\n",
    "print(\"Number of rows with missing values:\", len(missing_rows))\n",
    "missing_rows.head()"
   ]
  },
  {
   "cell_type": "code",
   "execution_count": 9,
   "metadata": {},
   "outputs": [],
   "source": [
    "snomed = snomed.dropna().reset_index(drop=True)"
   ]
  },
  {
   "cell_type": "code",
   "execution_count": 43,
   "metadata": {},
   "outputs": [],
   "source": [
    "df_rxnorm = rxnorm.copy()\n",
    "df_snomed = snomed.copy()"
   ]
  },
  {
   "cell_type": "markdown",
   "metadata": {},
   "source": [
    "## Abbreviation Dictionary"
   ]
  },
  {
   "cell_type": "code",
   "execution_count": null,
   "metadata": {},
   "outputs": [],
   "source": [
    "abbr_dict = {\n",
    "    \"Ag\": \"antigen\",\n",
    "    \"CD73\": \"Cluster of differentiation antigen 73\",\n",
    "    \"EPA\": \"Eicosapentaenoic acid\",\n",
    "    \"6-MP\": \"6-mercaptopurine\",\n",
    "    \"AIS\": \"Abbreviated injury scale\",\n",
    "    \"AP\": [\"Abdominal pain\", \"Aortopulmonary window\", \"Angina pectoris\"],\n",
    "    \"ABL\": \"Abetalipoproteinemia\",\n",
    "    \"CM\": \"Congenital malformation\",\n",
    "    \"MA\": \"Missed abortion\",\n",
    "    \"Acc\": \"Accommodation\",\n",
    "    \"AA\": [\"Amino acid\", \"Aortic aneurysm\"],\n",
    "    \"CoA\": \"coenzyme A\",\n",
    "    \"MDI\": \"Manic-depressive illness\",\n",
    "    \"BFL\": \"Bird fanciers lung\",\n",
    "    \"Bi\": \"Bismuth\",\n",
    "    \"PLT\": \"Platelet\",\n",
    "    \"BT\": \"Blood transfusion\",\n",
    "    \"BGP\": \"Blood group\",\n",
    "    \"BS\": \"Bloom syndrome\",\n",
    "    \"Ca\": \"Calcium\",\n",
    "    \"Ca(OH)\": \"Calcium hydroxide\",\n",
    "    \"CA\": [\"Cancer\", \"Candida albicans\", \"Cancer of rectum\", \"Cancer of larynx\", \"Corneal abrasion\"],\n",
    "    \"CD\": [\"Contact dermatitis\", \"Celiac disease\", \"Crohn's disease\"],\n",
    "    \"CMC\": \"Chronic mucocutaneous candidiasis\",\n",
    "    \"CEA\": \"Carcinoembryonic antigen\",\n",
    "    \"BCC\": \"Basal cell carcinoma\",\n",
    "    \"NSCLC\": \"Non-small cell lung cancer\",\n",
    "    \"SCC\": \"Squamous cell carcinoma\",\n",
    "    \"TCC\": \"Transitional cell carcinoma\",\n",
    "    \"CO\": \"Cardiac output\",\n",
    "    \"COCM\": \"Congestive cardiomyopathy\",\n",
    "    \"CCM\": \"Congestive cardiomyopathy\",\n",
    "    \"HCM\": \"Hypertrophic cardiomyopathy\",\n",
    "    \"CPB\": \"Cardiopulmonary bypass\",\n",
    "    \"CPR\": \"Cardiopulmonary resuscitation\",\n",
    "    \"CVD\": \"Cardiovascular disease\",\n",
    "    \"CTS\": \"Carpal tunnel syndrome\",\n",
    "    \"CSD\": \"Cat scratch disease\",\n",
    "    \"CE\": \"Cataract extraction\",\n",
    "    \"CAVHF\": \"Continuous arteriovenous hemofiltration\",\n",
    "    \"p-55\": \"Protein 55\",\n",
    "    \"CD25\": \"Cluster of differentiation antigen 25\",\n",
    "    \"CS\": [\"Celiac sprue\", \"Cesarean section\"],\n",
    "    \"CP\": \"Cerebral palsy\",\n",
    "    \"TIA\": \"Transient ischemic attack\",\n",
    "    \"CG\": \"Cholecystogram\",\n",
    "    \"MCF\": \"Macrophage chemotactic factor\",\n",
    "    \"Cl\": \"Chlorine\",\n",
    "    \"CL\": [\"Cholelithiasis\", \"Contact lens\"],\n",
    "    \"VITD\": [\"Cholecalciferol\", \"Colecalciferol\"],\n",
    "    \"CCK-PZ\": \"Cholecystokinin-pancreozymin\",\n",
    "    \"PZ\": \"Pancreozymin\",\n",
    "    \"CESD\": \"Cholesterol ester storage disease\",\n",
    "    \"CVS\": \"Chorionic villus sampling\",\n",
    "    \"CVB\": \"Chorionic villus biopsy\",\n",
    "    \"Cr\": \"Chromium\",\n",
    "    \"CoCr\": \"Cobalt-chromium alloy\",\n",
    "    \"C/C\": \"Chrome cobalt\",\n",
    "    \"CSS\": \"Churg-Strauss syndrome\",\n",
    "    \"DDP\": \"Diaminedichloroplatinum\",\n",
    "    \"EW\": \"Extended wear contact lens\",\n",
    "    \"EWCL\": \"Extended wear contact lens\",\n",
    "    \"EWSCL\": \"Extended wear soft contact lens\",\n",
    "    \"Cu\": \"Copper\",\n",
    "    \"CABG\": \"Coronary artery bypass graft\",\n",
    "    \"CAG\": \"Coronary artery graft\",\n",
    "    \"CBG\": \"Coronary bypass graft\",\n",
    "    \"CHD\": \"Coronary heart disease\",\n",
    "    \"CT\": [\"Coronary thrombosis\", \"Calcitonin\"],\n",
    "    \"CC\": \"Corpus callosum\",\n",
    "    \"FL\": \"Full lower denture\",\n",
    "    \"P/P\": \"Partial denture\",\n",
    "    \"DCA\": \"Deoxycholic acid\",\n",
    "    \"dCMP\": \"Deoxy cytidine monophosphate\",\n",
    "    \"DNase\": \"Deoxyribonuclease\",\n",
    "    \"dU\": \"Deoxyuridine\",\n",
    "    \"DH\": \"Dermatitis herpetiformis\",\n",
    "    \"AD\": [\"Atopic dermatitis\", \"Alzheimer's disease\"],\n",
    "    \"DM\": [\"Dermatomyositis\", \"Diabetes mellitus\"],\n",
    "    \"T1DM\": \"Type 1 diabetes mellitus\",\n",
    "    \"T2DM\": \"Type 2 diabetes mellitus\",\n",
    "    \"SD\": \"Senile dementia\",\n",
    "    \"MID\": \"Multi-infarct dementia\",\n",
    "    \"HDV\": \"Hepatitis D virus\",\n",
    "    \"CRH\": \"Corticotrophin releasing hormone\",\n",
    "    \"CEP\": \"Countercurrent electrophoresis\",\n",
    "    \"CSO\": \"Craniosynostosis\",\n",
    "    \"CK\": \"Creatine kinase\",\n",
    "    \"CPK\": \"Creatine phosphokinase\",\n",
    "    \"CKMB\": \"Creatine kinase MB\",\n",
    "    \"CKMM\": \"Creatine kinase MM\",\n",
    "    \"IDT\": \"Imperfectly descended testis\",\n",
    "    \"UDT\": \"Undescended testes\",\n",
    "    \"CPM\": \"Cyclophosphamide\",\n",
    "    \"CTX\": \"Cyclophosphamide\",\n",
    "    \"CYT\": \"Cyclophosphamide\",\n",
    "    \"CDP\": \"Cytidine diphosphate\",\n",
    "    \"CMP\": \"Cytidine monophosphate\",\n",
    "    \"CTP\": \"Cytidine triphosphate\",\n",
    "    \"CMV\": \"Cytomegalovirus infection\",\n",
    "    \"DTIC\": \"Dimethyl-triazeno-imidazole carboxamide\",\n",
    "    \"DCR\": \"Dacryocystorhinostomy\",\n",
    "    \"DDS\": \"Diaminodiphenylsulfone\",\n",
    "    \"DA\": \"Dark adaptation\",\n",
    "    \"HLA\": \"Human leukocyte antigen\",\n",
    "    \"FC\": \"Finger clubbing\",\n",
    "    \"TEV\": \"Talipes equinovarus\",\n",
    "    \"Co\": \"Cobalt\",\n",
    "    \"CBT\": \"Cognitive and behavioral therapy\",\n",
    "    \"UC\": \"Ulcerative colitis\",\n",
    "    \"CVID\": \"Common variable immunodeficiency\",\n",
    "    \"FBC\": \"Full blood count\",\n",
    "    \"CBC\": \"Complete blood count\",\n",
    "    \"CCHF\": \"Crimean-Congo hemorrhagic fever\",\n",
    "    \"Conj\": \"Conjunctiva\",\n",
    "    \"AHC\": \"Acute hemorrhagic conjunctivitis\",\n",
    "    \"GPC\": \"Giant papillary conjunctivitis\",\n",
    "    \"COMT\": \"Catechol-O-methyltransferase\",\n",
    "    \"16PF\": \"Personality factor questionnaire\",\n",
    "    \"CRPS\": \"Complex regional pain syndrome type II\",\n",
    "    \"DD\": \"Death Diagnosis\",\n",
    "    \"BC\": \"Bone conduction\",\n",
    "    \"BMT\": \"Bone marrow transplant\",\n",
    "    \"BPD\": [\"Borderline personality disorder\", \"Bronchopulmonary dysplasia\"],\n",
    "    \"MTBI\": \"Mild traumatic brain injury\",\n",
    "    \"BF\": \"Breastfeeding\",\n",
    "    \"Br\": \"Bromine\",\n",
    "    \"BALF\": \"Bronchoalveolar lavage fluid\",\n",
    "    \"OB\": \"Obliterative bronchiolitis\",\n",
    "    \"By\": \"Bronchoscopy\",\n",
    "    \"BL\": \"Burkitt's lymphoma\",\n",
    "    \"BMS\": \"Burning mouth syndrome\",\n",
    "    \"BHT\": \"Butyl hydroxytoluene\",\n",
    "    \"CRP\": \"C-reactive protein\",\n",
    "    \"Cd\": \"Cadmium\",\n",
    "    \"BD\": \"Bowen's disease\",\n",
    "    \"NAC\": \"N-acetyl cysteine\",\n",
    "    \"ACP\": \"Acid phosphatase\",\n",
    "    \"RTA\": \"Renal tubular acidosis\",\n",
    "    \"AIDS\": \"Acquired immunodeficiency syndrome\",\n",
    "    \"ACTH\": \"Adrenocorticotropic hormone\",\n",
    "    \"AMI\": \"Acute mesenteric ischemia\",\n",
    "    \"Ads\": \"Adenoidectomy\",\n",
    "    \"LOM\": \"Loss of memory\",\n",
    "    \"SAA\": \"Serum amyloid A\",\n",
    "    \"GOT\": \"Glutamic oxaloacetic transaminase\",\n",
    "    \"EIA\": \"Exercise-induced asthma\",\n",
    "    \"VAT\": \"Vacuum aspiration termination of pregnancy\",\n",
    "    \"AVB\": \"Atrioventricular block\",\n",
    "    \"GTP\": \"Guanosine triphosphate\",\n",
    "    \"Abs\": \"Autoantibodies\",\n",
    "    \"AF\": [\"Atrial fibrillation\", \"Amniotic fluid\"],\n",
    "    \"PM\": \"Postmortem examination\",\n",
    "    \"Ba\": \"Barium\",\n",
    "    \"CELLO\": \"Columnar epithelial-lined lower esophagus\",\n",
    "    \"CLE\": \"Columnar-lined esophagus\",\n",
    "    \"BCNS\": \"Basal cell nevus syndrome\",\n",
    "    \"NBCCS\": \"Nevoid basal cell carcinoma syndrome\",\n",
    "    \"BM\": \"Basilar membrane\",\n",
    "    \"CF\": \"Cystic fibrosis\",\n",
    "    \"BX\": \"Biopsy\",\n",
    "    \"ASO\": \"Antistreptolysin O\",\n",
    "    \"SVAS\": \"Supravalvar aortic stenosis\",\n",
    "    \"AR\": \"Aortic regurgitation\",\n",
    "    \"AI\": \"Aortic incompetence\",\n",
    "    \"AVR\": \"Aortic valve replacement\",\n",
    "    \"As\": \"Arsenic\",\n",
    "    \"AV\": \"Arteriovenous fistula\",\n",
    "    \"AVM\": \"Congenital arteriovenous malformation\",\n",
    "    \"ASAT\": \"Aspartate aminotransferase\",\n",
    "    \"AST\": \"Aspartate transaminase\",\n",
    "    \"BKA\": \"Below knee amputation\",\n",
    "    \"GA\": \"General anesthetic\",\n",
    "    \"AKA\": \"Above knee amputation\",\n",
    "    \"LA\": \"Local anesthetic\",\n",
    "    \"RA\": \"Retrograde amnesia\",\n",
    "    \"I\": \"1\",\n",
    "    \"II\": \"2\",\n",
    "    \"III\": \"3\",\n",
    "    \"AG\": \"Anion gap\",\n",
    "    \"AN\": \"Anorexia nervosa\",\n",
    "    \"IC\": \"Immune complex\",\n",
    "    \"AC\": \"Anterior chamber\",\n",
    "    \"CD4\": \"Cluster of differentiation antigen 4\",\n",
    "    \"NSAID\": \"Non-steroidal anti-inflammatory drug\",\n",
    "    \"ANA\": \"Anti-nuclear antibody\",\n",
    "    \"Ab\": \"Antibody\",\n",
    "    \"OKT4\": \"Ortho Kung T4\",\n",
    "    \"PTA\": \"Post-traumatic amnesia\",\n",
    "    \"ADD\": \"Androstanedione\",\n",
    "    \"cAMP\": \"Cyclic adenosine monophosphate\",\n",
    "    \"ADA\": \"Adenosine deaminase\",\n",
    "    \"ADP\": \"Adenosine diphosphate\",\n",
    "    \"AMP\": \"Adenosine monophosphate\",\n",
    "    \"ATP\": \"Adenosine triphosphate\",\n",
    "    \"ADT\": \"Adenosine triphosphate\",\n",
    "    \"CAH\": \"Congenital adrenal hyperplasia\",\n",
    "    \"AdM\": \"Adrenal medulla\",\n",
    "    \"AFT\": \"Aflatoxin\",\n",
    "    \"NH3\": \"Ammonia\",\n",
    "    \"ADC\": \"AIDS dementia complex\",\n",
    "    \"GPT\": \"Glutamic-pyruvic transaminase\",\n",
    "    \"ALAT\": \"Alanine aminotransferase\",\n",
    "    \"tRNA\": \"Transfer ribonucleic acid\",\n",
    "    \"DTs\": \"Delirium tremens\",\n",
    "    \"ALR2\": \"Aldose reductase\",\n",
    "    \"ALP\": \"Alkaline phosphatase\",\n",
    "    \"PAM\": \"Profession allied to medicine\",\n",
    "    \"A-2M\": \"Alpha-2 macroglobulin\",\n",
    "    \"EAA\": \"Extrinsic allergic alveolitis\",\n",
    "    \"FD and C red 2\": \"Food Drug and Cosmetic red dye number 2\",\n",
    "    \"MMC\": \"Mitomycin-C\",\n",
    "    \"DD\": \"Diabetic diet\",\n",
    "    \"DKA\": \"diabetic ketoacidosis\",\n",
    "    \"DR\": \"Diabetic retinopathy\",\n",
    "    \"LD\": \"Laboratory diagnosis\",\n",
    "    \"D\": \"Diarrhea\",\n",
    "    \"VIP\": \"Vasoactive intestinal peptide\",\n",
    "    \"SDL\": \"Simultaneous dichotic listening test\",\n",
    "    \"RD\": \"Reducing diet\",\n",
    "    \"WR\": \"Weight reducing\",\n",
    "    \"BAL\": \"British anti-lewisite\",\n",
    "    \"Dx\": \"Discharge\",\n",
    "    \"DIC\": \"Disseminated intravascular coagulation\",\n",
    "    \"H2O\": \"Water\",\n",
    "    \"DNA\": \"Deoxyribonucleic acid\",\n",
    "    \"DTPA\": \"Diethylenetriaminepentaacetic acid\",\n",
    "    \"PDA\": \"Patent ductus arteriosus\",\n",
    "    \"DU\": \"Duodenal ulcer\",\n",
    "    \"DGR\": \"Duodenogastric reflux\",\n",
    "    \"DUD\": \"Duodenal ulcer disease\",\n",
    "    \"SOB\": \"Shortness of breath\",\n",
    "    \"HSAN III\": \"Hereditary sensory and autonomic neuropathy, type III\",\n",
    "    \"DIB\": \"Difficulty in breathing\",\n",
    "    \"EDTA\": \"Ethylenediaminetetraacetic acid\",\n",
    "    \"EPPS\": \"Edwards Personal Preference Schedule\",\n",
    "    \"EEG\": \"Electroencephalography\",\n",
    "    \"ECT\": \"Electroconvulsive therapy\",\n",
    "    \"EMG\": \"Electromyography\",\n",
    "    \"ESR\": \"Electron spin resonance\",\n",
    "    \"ENG\": \"Electronystagmography\",\n",
    "    \"EP\": \"Electrophoresis\",\n",
    "    \"EVC\": \"Ellis-van Creveld syndrome\",\n",
    "    \"ET\": \"Embryo transfer\",\n",
    "    \"TBE\": \"Central European tick-borne encephalitis\",\n",
    "    \"JBE\": \"Japanese B encephalitis\",\n",
    "    \"JE\": \"Japanese encephalitis\",\n",
    "    \"MBP\": \"Myelin basic protein\",\n",
    "    \"EMC\": \"Encephalomyocarditis\",\n",
    "    \"CEA\": \"Carotid endarterectomy\",\n",
    "    \"EF\": \"Erythroblastosis fetalis\",\n",
    "    \"HDN\": \"Hemolytic disease of the newborn\",\n",
    "    \"ECM\": \"Erythema chroniEN - Erythema nodosumcum migrans\",\n",
    "    \"EM\": \"Erythema multiforme\",\n",
    "    \"EHV-3\": \"Equid herpesvirus 3\",\n",
    "    \"Eh\": \"Entamoeba histolytica\",\n",
    "    \"EBV\": \"Epstein-Barr virus\",\n",
    "    \"TLE\": \"Temporal lobe epilepsy\",\n",
    "    \"BE\": \"Bacterial endocarditis\",\n",
    "    \"GAS\": \"generalized absence seizure\",\n",
    "    \"EB\": \"Epidermolysis bullosa\",\n",
    "    \"ELISA\": \"Enzyme-linked immunosorbent assay\",\n",
    "    \"EFE\": \"Endocardial fibroelastosis\",\n",
    "    \"ES\": \"Esophageal spasm\",\n",
    "    \"E3\": \"estriol\",\n",
    "    \"DOS\": \"Diffuse esophageal spasm\",\n",
    "    \"RBC\": \"Red blood cell count\",\n",
    "    \"E1\": \"estrone\",\n",
    "    \"ETO\": \"Ethylene oxide\",\n",
    "    \"EO\": \"Ethylene oxide\",\n",
    "    \"ESWL\": \"Extracorporeal shockwave lithotripsy for renal calculus\",\n",
    "    \"ECMO\": \"Extracorporeal membrane oxygenation\",\n",
    "    \"EBT\": \"Exchange blood transfusion\",\n",
    "    \"SEP\": \"Somatosensory evoked potential\",\n",
    "    \"IOFB\": \"Intraocular foreign body\",\n",
    "    \"ESP\": \"Extrasensory perception\",\n",
    "    \"F7\": \"factor 7\",\n",
    "    \"PTC\": \"Plasma thromboplastin component\",\n",
    "    \"AHF\": \"Antihemophilic factor\",\n",
    "    \"MUFA\": \"Monounsaturated fatty acid\",\n",
    "    \"ME\": \"Myalgic encephalomyelitis\",\n",
    "    \"CFS\": \"Chronic fatigue syndrome\",\n",
    "    \"FCV\": \"Feline calicivirus\",\n",
    "    \"FFA\": \"Free fatty acids\",\n",
    "    \"FAS\": \"Fetal alcohol syndrome\",\n",
    "    \"NOF\": \"Fracture of neck of femur\",\n",
    "    \"IUGR\": \"Intrauterine growth retardation\",\n",
    "    \"FGR\": \"Fetal growth retardation\",\n",
    "    \"FGF\": \"Fibroblast growth factor\",\n",
    "    \"FPA\": \"Fibrinopeptide A\",\n",
    "    \"PUO\": \"Pyrexia of unknown origin\",\n",
    "    \"PFD\": \"Polyostotic fibrous dysplasia\",\n",
    "    \"POFD\": \"Polyostotic fibrous dysplasia\",\n",
    "    \"FS\": \"Flexible sigmoidoscopy\",\n",
    "    \"FOS\": \"Flexible sigmoidoscopy\",\n",
    "    \"IPJ\": \"Interphalangeal joint of finger\",\n",
    "    \"GS\": [\"Gardner's syndrome\", \"Geriatric screening\"],\n",
    "    \"FRDA\": \"Friedreich ataxia\",\n",
    "    \"FIGLU\": \"Formiminoglutamic\",\n",
    "    \"IF\": \"Internal fixation\",\n",
    "    \"MSH\": \"gamma melanocyte stimulating hormone\",\n",
    "    \"GIP\": [\"Gastric inhibitory peptide\", \"Gastric inhibitory polypeptide\", \"Glucose dependent insulinotropic peptide\"],\n",
    "    \"FB\": [\"Fluid balance\", \"Foreign body\"],\n",
    "    \"FDH\": \"Focal dermal hypoplasia\",\n",
    "    \"FODH\": \"Focal dermal hypoplasia\",\n",
    "    \"ALDB\": \"aldolase B deficiency\",\n",
    "    \"FMS\": \"focal motor seizure\",\n",
    "    \"CAG\": \"Chronic atrophic gastritis\",\n",
    "    \"FA\": [\"Folic acid\", \"Friedreich ataxia\"],\n",
    "    \"FEV\": \"Forced expired volume\",\n",
    "    \"PFO\": \"Patent foramen ovale\",\n",
    "    \"AG\": \"Atrophic gastritis\",\n",
    "    \"FUDR\": \"Fluorodeoxyuridine\",\n",
    "    \"F\": \"Fluorine\",\n",
    "    \"GE\": [\"Gastroenteritis\", \"Gastroenterology\"],\n",
    "    \"GIT\": [\"Gastrointestinal tract hemorrhage\", \"Gastrointestinal hormone\"],\n",
    "    \"GI\": \"Gastrointestinal\",\n",
    "    \"GORD\": \"Gastro-esophageal reflux disease\",\n",
    "    \"GRED\": \"Gastro-esophageal reflux disease\",\n",
    "    \"GOR\": \"Gastro-esophageal reflux disease\",\n",
    "    \"GP\": \"Gastroplasty\",\n",
    "    \"GIC\": \"Glass-ionomer cement\",\n",
    "    \"GCS\": \"Glasgow coma scale\",\n",
    "    \"IgAN\": \"IgA nephropathy\",\n",
    "    \"GN\": \"Glomerulonephritis\",\n",
    "    \"GTT\": \"Glucose tolerance test\",\n",
    "    \"FGS\": \"Focal glomerulosclerosis\",\n",
    "    \"FSGS\": \"Focal segmental glomerulosclerosis\",\n",
    "    \"MPGN\": \"Membranoproliferative glomerulonephritis\",\n",
    "    \"MCGN\": \"Mesangiocapillary glomerulonephritis\",\n",
    "    \"Gln\": \"Glutamine\",\n",
    "    \"UTP\": \"Uridine triphosphate\",\n",
    "    \"OGTT\": \"Oral glucose tolerance test\",\n",
    "    \"GMP\": \"Guanosine monophosphate\",\n",
    "    \"GB\": \"Great Britain\",\n",
    "    \"CGD\": \"Chronic granulomatous disease\",\n",
    "    \"GST\": \"Glutathione S transferase\",\n",
    "    \"GSR\": \"Glutathione reductase\",\n",
    "    \"GSD\": \"Glycogen storage disease\",\n",
    "    \"GVH\": \"Graft versus host\",\n",
    "    \"GC\": \"Gonococcus infection\",\n",
    "    \"GCI\": \"Gonococcus infection\",\n",
    "    \"Au\": \"Gold\",\n",
    "    \"GAG\": \"Glycosaminoglycan\",\n",
    "    \"HAV\": \"Hallux abductovalgus\",\n",
    "    \"HV\": \"Hallux valgus\",\n",
    "    \"Hp\": \"Haptoglobin\",\n",
    "    \"HI\": \"Head injury\",\n",
    "    \"HCG\": \"Human chorionic gonadotrophin\",\n",
    "    \"HDL\": \"High density lipoprotein\",\n",
    "    \"HA\": [\"Headache\", \"Hearing aid\"],\n",
    "    \"OHE\": \"Oral health education\",\n",
    "    \"DHE\": \"Dental health education\",\n",
    "    \"IL\": \"Interleukin\",\n",
    "    \"HbA\": \"hemoglobin A\",\n",
    "    \"Hb\": \"hemoglobin\",\n",
    "    \"HGB\": \"hemoglobin\",\n",
    "    \"MCGF\": \"Mast cell growth factor\",\n",
    "    \"HbS\": \"Hemoglobin S\",\n",
    "    \"LAF\": \"Lymphocyte activating factor\",\n",
    "    \"SmC\": \"Somatomedin C\",\n",
    "    \"IGF\": \"Insulin-like growth factor\",\n",
    "    \"HUS\": \"Hemolytic uremic syndrome\",\n",
    "    \"HIV\": \"Human immunodeficiency virus\",\n",
    "    \"SD\": \"Serologically defined locus\",\n",
    "    \"HLA\": \"Human leukocyte antigen\",\n",
    "    \"HTLV\": \"Human T-cell lymphotropic virus\",\n",
    "    \"HMSN\": \"Hereditary motor and sensory neuropathy\",\n",
    "    \"HSAN\": \"Hereditary sensory and autonomic neuropathy\",\n",
    "    \"IGF1\": \"Insulin like growth factor 1\",\n",
    "    \"HCTZ\": \"Hydrochlorothiazide\",\n",
    "    \"pH\": \"Hydrogen ion concentration\",\n",
    "    \"HETE\": \"Hydroxyeicosatetraenoic acid\",\n",
    "    \"HES\": \"Hydroxyethyl starch\",\n",
    "    \"IVI\": \"Intravenous infusion\",\n",
    "    \"IgG1\": \"Immunoglobulin G1\",\n",
    "    \"IgG2\": \"Immunoglobulin G2\",\n",
    "    \"IgM\": \"Immunoglobulin M\",\n",
    "    \"BHV-1\": \"Bovid herpesvirus 1\",\n",
    "    \"HD\": \"Hemodialysis\",\n",
    "    \"VSD\": \"Ventricular septal defect\",\n",
    "    \"FHR\": \"Fetal heart rate\",\n",
    "    \"ASD\": \"Atrial septal defect\",\n",
    "    \"HF\": \"Heart failure\",\n",
    "    \"SND\": \"Sensorineural deafness\",\n",
    "    \"CCA\": \"Cardiac catheterization\",\n",
    "    \"SNHL\": \"Sensorineural hearing loss\",\n",
    "    \"HB\": \"Heart block\",\n",
    "    \"PD\": \"Perceptive deafness\",\n",
    "    \"HT\": \"Hearing test\",\n",
    "    \"NIHL\": \"Noise-induced hearing loss\",\n",
    "    \"CHL\": \"Conductive hearing loss\",\n",
    "    \"NOHL\": \"Non-organic hearing loss\",\n",
    "    \"FHL\": \"Functional hearing loss\",\n",
    "    \"CD\": \"Conductive deafness\",\n",
    "    \"CTx\": \"Cardiac transplant\",\n",
    "    \"HS\": \"Heart sounds\",\n",
    "    \"HTx\": \"Heart transplant\",\n",
    "    \"SDH\": \"Subdural hematoma\",\n",
    "    \"He\": \"Helium\",\n",
    "    \"WBC\": \"White blood cell\",\n",
    "    \"WCC\": \"White blood cell\",\n",
    "    \"LAF\": \"Lymphocyte activating factor\",\n",
    "    \"TCGF\": \"T cell growth factor\",\n",
    "    \"TSF\": \"T-stimulating factor\",\n",
    "    \"BCAF\": \"B-cell activating factor\",\n",
    "    \"BCGF\": \"B-cell growth factor\",\n",
    "    \"MGI\": \"Monocyte-granulocyte inducer\",\n",
    "    \"Eo-CSF\": \"Eosinophil colony stimulating factor\",\n",
    "    \"NADPH\": \"Reduced nicotinamide adenine dinucleotide phosphate\",\n",
    "    \"AGP\": \"alpha-1 acid glycoprotein\",\n",
    "    \"NADP\": \"Reduced nicotinamide adenine dinucleotide phosphate\",\n",
    "    \"O2\": \"oxygen\",\n",
    "    \"O 2\": \"oxygen\",\n",
    "    \"O 2 Hb\": \"Oxyhemoglobin\",\n",
    "    \"HbO2\": \"Oxyhemoglobin\",\n",
    "    \"PIO\": \"Phenylisohydantoin\",\n",
    "    \"O3\": \"ozone\",\n",
    "    \"APPG\": \"Aqueous procaine penicillin G\",\n",
    "    \"PETN\": \"Pentaerithrityl tetranitrate\",\n",
    "    \"DPH\": \"Diphenylhydantoin\",\n",
    "    \"IFN\": \"Interferon\",\n",
    "    \"INH\": \"Isonicotinic acid hydrazide\",\n",
    "    \"HGF\": \"Hybridoma/plasmocytoma growth factor\",\n",
    "    \"PCT-GF\": \"Hybridoma/plasmocytoma growth factor\",\n",
    "    \"HSF\": \"Hybridoma/plasmocytoma growth factor\",\n",
    "    \"HPGF\": \"Hybridoma/plasmocytoma growth factor\",\n",
    "    \"IL-HP1\": \"Hybridoma/plasmocytoma growth factor\",\n",
    "    \"LDH1\": \"Lactate dehydrogenase isoenzyme 1\",\n",
    "    \"LTC\": \"Leukotriene C\",\n",
    "    \"LTB\": \"Leukotriene B\",\n",
    "    \"LTD\": \"Leukotriene D\",\n",
    "    \"MLC\": \"Mixed lymphocyte culture\",\n",
    "    \"L-dopa\": \"Levodopa\",\n",
    "    \"HDL3\": \"High density lipoprotein subfraction 3\",\n",
    "    \"HDL\": \"High density lipoprotein\",\n",
    "    \"LH\": \"Luteinizing hormone\",\n",
    "    \"ICSH\": \"Luteinizing hormone\",\n",
    "    \"LDL\": \"Low density lipoprotein\",\n",
    "    \"VLDL\": \"Very low density lipoprotein\",\n",
    "    \"TNF\": \"Tumor necrosis factor\",\n",
    "    \"LSD\": \"Lysergic acid diethylamide\",\n",
    "    \"LDH5\": \"Lactate dehydrogenase isoenzyme 5\",\n",
    "    \"HN\": \"Nitrogen mustard\",\n",
    "    \"NAD^+^ nucleosidase\": \"Nicotinamide adenine dinucleotide ^+^ nucleosidase\"\n",
    "\n",
    "}\n"
   ]
  },
  {
   "cell_type": "code",
   "execution_count": null,
   "metadata": {},
   "outputs": [],
   "source": [
    "# a case-insensitive abbreviation lookup dictionary\n",
    "from collections import defaultdict\n",
    "\n",
    "abbr_lookup = defaultdict(list)\n",
    "for abbr, meanings in abbr_dict.items():\n",
    "    if isinstance(meanings, list):\n",
    "        for m in meanings:\n",
    "            abbr_lookup[abbr.lower()].append(m.lower())\n",
    "    else:\n",
    "        abbr_lookup[abbr.lower()].append(meanings.lower())\n"
   ]
  },
  {
   "cell_type": "code",
   "execution_count": null,
   "metadata": {},
   "outputs": [],
   "source": [
    "# Expand all abbreviations in text using the abbreviation lookup\n",
    "def expand_abbreviation_all(text):\n",
    "    words = text.lower().split()\n",
    "    expanded_words = []\n",
    "    for w in words:\n",
    "        if w in abbr_lookup:\n",
    "            expanded_words.append(\"/\".join(abbr_lookup[w]))\n",
    "        else:\n",
    "            expanded_words.append(w)\n",
    "    return \" \".join(expanded_words)\n"
   ]
  },
  {
   "cell_type": "code",
   "execution_count": 44,
   "metadata": {},
   "outputs": [],
   "source": [
    "df_snomed['STR'] = df_snomed['STR'].apply(expand_abbreviation_all)"
   ]
  },
  {
   "cell_type": "code",
   "execution_count": 17,
   "metadata": {},
   "outputs": [],
   "source": [
    "df_rxnorm['STR'] = df_rxnorm['STR'].apply(expand_abbreviation_all)"
   ]
  },
  {
   "cell_type": "markdown",
   "metadata": {},
   "source": [
    "## Preprocessing"
   ]
  },
  {
   "cell_type": "code",
   "execution_count": 18,
   "metadata": {},
   "outputs": [],
   "source": [
    "def to_lowercase(text):\n",
    "    return text.lower()"
   ]
  },
  {
   "cell_type": "code",
   "execution_count": null,
   "metadata": {},
   "outputs": [
    {
     "name": "stdout",
     "output_type": "stream",
     "text": [
      "Defaulting to user installation because normal site-packages is not writeable\n",
      "Collecting nltk\n",
      "  Downloading nltk-3.9.1-py3-none-any.whl.metadata (2.9 kB)\n",
      "Collecting click (from nltk)\n",
      "  Downloading click-8.3.0-py3-none-any.whl.metadata (2.6 kB)\n",
      "Collecting joblib (from nltk)\n",
      "  Downloading joblib-1.5.2-py3-none-any.whl.metadata (5.6 kB)\n",
      "Collecting regex>=2021.8.3 (from nltk)\n",
      "  Downloading regex-2025.9.18-cp313-cp313-win_amd64.whl.metadata (41 kB)\n",
      "Requirement already satisfied: tqdm in c:\\users\\nandu\\appdata\\roaming\\python\\python313\\site-packages (from nltk) (4.67.1)\n",
      "Requirement already satisfied: colorama in c:\\users\\nandu\\appdata\\roaming\\python\\python313\\site-packages (from click->nltk) (0.4.6)\n",
      "Downloading nltk-3.9.1-py3-none-any.whl (1.5 MB)\n",
      "   ---------------------------------------- 0.0/1.5 MB ? eta -:--:--\n",
      "   ---------------------------------------- 0.0/1.5 MB ? eta -:--:--\n",
      "   ------ --------------------------------- 0.3/1.5 MB ? eta -:--:--\n",
      "   ------ --------------------------------- 0.3/1.5 MB ? eta -:--:--\n",
      "   ------------- -------------------------- 0.5/1.5 MB 805.0 kB/s eta 0:00:02\n",
      "   -------------------- ------------------- 0.8/1.5 MB 890.1 kB/s eta 0:00:01\n",
      "   --------------------------- ------------ 1.0/1.5 MB 947.7 kB/s eta 0:00:01\n",
      "   ---------------------------------- ----- 1.3/1.5 MB 981.8 kB/s eta 0:00:01\n",
      "   ---------------------------------------- 1.5/1.5 MB 961.5 kB/s eta 0:00:00\n",
      "Downloading regex-2025.9.18-cp313-cp313-win_amd64.whl (275 kB)\n",
      "Downloading click-8.3.0-py3-none-any.whl (107 kB)\n",
      "Downloading joblib-1.5.2-py3-none-any.whl (308 kB)\n",
      "Installing collected packages: regex, joblib, click, nltk\n",
      "\n",
      "   ---------------------------------------- 0/4 [regex]\n",
      "   ---------------------------------------- 0/4 [regex]\n",
      "   ---------- ----------------------------- 1/4 [joblib]\n",
      "   ---------- ----------------------------- 1/4 [joblib]\n",
      "   ---------- ----------------------------- 1/4 [joblib]\n",
      "   ---------- ----------------------------- 1/4 [joblib]\n",
      "   ---------- ----------------------------- 1/4 [joblib]\n",
      "   ---------- ----------------------------- 1/4 [joblib]\n",
      "   ---------- ----------------------------- 1/4 [joblib]\n",
      "   ---------- ----------------------------- 1/4 [joblib]\n",
      "   ---------- ----------------------------- 1/4 [joblib]\n",
      "   ---------- ----------------------------- 1/4 [joblib]\n",
      "   ---------- ----------------------------- 1/4 [joblib]\n",
      "   ---------- ----------------------------- 1/4 [joblib]\n",
      "   ---------- ----------------------------- 1/4 [joblib]\n",
      "   ---------- ----------------------------- 1/4 [joblib]\n",
      "   ---------- ----------------------------- 1/4 [joblib]\n",
      "   ---------- ----------------------------- 1/4 [joblib]\n",
      "   ---------- ----------------------------- 1/4 [joblib]\n",
      "   -------------------- ------------------- 2/4 [click]\n",
      "   -------------------- ------------------- 2/4 [click]\n",
      "   -------------------- ------------------- 2/4 [click]\n",
      "   -------------------- ------------------- 2/4 [click]\n",
      "   ------------------------------ --------- 3/4 [nltk]\n",
      "   ------------------------------ --------- 3/4 [nltk]\n",
      "   ------------------------------ --------- 3/4 [nltk]\n",
      "   ------------------------------ --------- 3/4 [nltk]\n",
      "   ------------------------------ --------- 3/4 [nltk]\n",
      "   ------------------------------ --------- 3/4 [nltk]\n",
      "   ------------------------------ --------- 3/4 [nltk]\n",
      "   ------------------------------ --------- 3/4 [nltk]\n",
      "   ------------------------------ --------- 3/4 [nltk]\n",
      "   ------------------------------ --------- 3/4 [nltk]\n",
      "   ------------------------------ --------- 3/4 [nltk]\n",
      "   ------------------------------ --------- 3/4 [nltk]\n",
      "   ------------------------------ --------- 3/4 [nltk]\n",
      "   ------------------------------ --------- 3/4 [nltk]\n",
      "   ------------------------------ --------- 3/4 [nltk]\n",
      "   ------------------------------ --------- 3/4 [nltk]\n",
      "   ------------------------------ --------- 3/4 [nltk]\n",
      "   ------------------------------ --------- 3/4 [nltk]\n",
      "   ------------------------------ --------- 3/4 [nltk]\n",
      "   ------------------------------ --------- 3/4 [nltk]\n",
      "   ------------------------------ --------- 3/4 [nltk]\n",
      "   ------------------------------ --------- 3/4 [nltk]\n",
      "   ------------------------------ --------- 3/4 [nltk]\n",
      "   ------------------------------ --------- 3/4 [nltk]\n",
      "   ------------------------------ --------- 3/4 [nltk]\n",
      "   ------------------------------ --------- 3/4 [nltk]\n",
      "   ------------------------------ --------- 3/4 [nltk]\n",
      "   ------------------------------ --------- 3/4 [nltk]\n",
      "   ------------------------------ --------- 3/4 [nltk]\n",
      "   ------------------------------ --------- 3/4 [nltk]\n",
      "   ------------------------------ --------- 3/4 [nltk]\n",
      "   ------------------------------ --------- 3/4 [nltk]\n",
      "   ------------------------------ --------- 3/4 [nltk]\n",
      "   ------------------------------ --------- 3/4 [nltk]\n",
      "   ------------------------------ --------- 3/4 [nltk]\n",
      "   ------------------------------ --------- 3/4 [nltk]\n",
      "   ------------------------------ --------- 3/4 [nltk]\n",
      "   ------------------------------ --------- 3/4 [nltk]\n",
      "   ------------------------------ --------- 3/4 [nltk]\n",
      "   ------------------------------ --------- 3/4 [nltk]\n",
      "   ------------------------------ --------- 3/4 [nltk]\n",
      "   ------------------------------ --------- 3/4 [nltk]\n",
      "   ---------------------------------------- 4/4 [nltk]\n",
      "\n",
      "Successfully installed click-8.3.0 joblib-1.5.2 nltk-3.9.1 regex-2025.9.18\n",
      "Note: you may need to restart the kernel to use updated packages.\n"
     ]
    },
    {
     "name": "stderr",
     "output_type": "stream",
     "text": [
      "\n",
      "[notice] A new release of pip is available: 25.1.1 -> 25.2\n",
      "[notice] To update, run: python.exe -m pip install --upgrade pip\n"
     ]
    }
   ],
   "source": [
    "%pip install nltk"
   ]
  },
  {
   "cell_type": "code",
   "execution_count": null,
   "metadata": {},
   "outputs": [
    {
     "name": "stderr",
     "output_type": "stream",
     "text": [
      "[nltk_data] Downloading package stopwords to\n",
      "[nltk_data]     C:\\Users\\nandu\\AppData\\Roaming\\nltk_data...\n",
      "[nltk_data]   Unzipping corpora\\stopwords.zip.\n"
     ]
    },
    {
     "data": {
      "text/plain": [
       "True"
      ]
     },
     "metadata": {},
     "output_type": "display_data"
    }
   ],
   "source": [
    "import nltk\n",
    "nltk.download('stopwords')\n"
   ]
  },
  {
   "cell_type": "code",
   "execution_count": 19,
   "metadata": {},
   "outputs": [],
   "source": [
    "from nltk.corpus import stopwords\n",
    "import re\n",
    "\n",
    "stop_words = set(stopwords.words('english'))\n",
    "\n",
    "def remove_stopwords(text):\n",
    "    tokens = text.split()\n",
    "    filtered_tokens = [w for w in tokens if w not in stop_words]\n",
    "    return ' '.join(filtered_tokens)\n"
   ]
  },
  {
   "cell_type": "code",
   "execution_count": 20,
   "metadata": {},
   "outputs": [],
   "source": [
    "def remove_angle_brackets(text):\n",
    "    return text.replace('<', ' ').replace('>', ' ')"
   ]
  },
  {
   "cell_type": "code",
   "execution_count": null,
   "metadata": {},
   "outputs": [],
   "source": [
    "import unicodedata\n",
    "\n",
    "# Normalize text by removing Unicode accents and diacritics\n",
    "def normalize_unicode(text):\n",
    "    text = unicodedata.normalize('NFKD', text)\n",
    "    text = ''.join([c for c in text if not unicodedata.combining(c)])\n",
    "    return text\n"
   ]
  },
  {
   "cell_type": "code",
   "execution_count": null,
   "metadata": {},
   "outputs": [],
   "source": [
    "# Tokenize text into words using NLTK\n",
    "from nltk.tokenize import word_tokenize\n",
    "\n",
    "def tokenize(text):\n",
    "    return word_tokenize(text)\n"
   ]
  },
  {
   "cell_type": "code",
   "execution_count": 23,
   "metadata": {},
   "outputs": [],
   "source": [
    "from nltk.stem import WordNetLemmatizer\n",
    "from nltk.corpus import wordnet\n",
    "\n",
    "lemmatizer = WordNetLemmatizer()\n",
    "\n",
    "def get_wordnet_pos(tag):\n",
    "    \"\"\"Map POS tag to WordNet POS tag for lemmatization\"\"\"\n",
    "    if tag.startswith('J'):\n",
    "        return wordnet.ADJ\n",
    "    elif tag.startswith('V'):\n",
    "        return wordnet.VERB\n",
    "    elif tag.startswith('N'):\n",
    "        return wordnet.NOUN\n",
    "    elif tag.startswith('R'):\n",
    "        return wordnet.ADV\n",
    "    else:\n",
    "        return wordnet.NOUN\n",
    "\n",
    "from nltk import pos_tag\n",
    "\n",
    "def lemmatize_tokens(tokens):\n",
    "    pos_tags = pos_tag(tokens)\n",
    "    return [lemmatizer.lemmatize(word, get_wordnet_pos(pos)) for word, pos in pos_tags]\n"
   ]
  },
  {
   "cell_type": "code",
   "execution_count": null,
   "metadata": {},
   "outputs": [],
   "source": [
    "def combine_tokens(tokens):\n",
    "    # Sort tokens and join with space\n",
    "    return ' '.join(tokens)"
   ]
  },
  {
   "cell_type": "code",
   "execution_count": null,
   "metadata": {},
   "outputs": [
    {
     "name": "stderr",
     "output_type": "stream",
     "text": [
      "[nltk_data] Downloading package punkt to\n",
      "[nltk_data]     C:\\Users\\nandu\\AppData\\Roaming\\nltk_data...\n",
      "[nltk_data]   Unzipping tokenizers\\punkt.zip.\n",
      "[nltk_data] Downloading package punkt_tab to\n",
      "[nltk_data]     C:\\Users\\nandu\\AppData\\Roaming\\nltk_data...\n",
      "[nltk_data]   Unzipping tokenizers\\punkt_tab.zip.\n"
     ]
    },
    {
     "data": {
      "text/plain": [
       "True"
      ]
     },
     "metadata": {},
     "output_type": "display_data"
    }
   ],
   "source": [
    "import nltk\n",
    "nltk.download('punkt')\n",
    "nltk.download('punkt_tab')\n"
   ]
  },
  {
   "cell_type": "code",
   "execution_count": null,
   "metadata": {},
   "outputs": [
    {
     "name": "stderr",
     "output_type": "stream",
     "text": [
      "[nltk_data] Downloading package averaged_perceptron_tagger_eng to\n",
      "[nltk_data]     C:\\Users\\nandu\\AppData\\Roaming\\nltk_data...\n",
      "[nltk_data]   Unzipping taggers\\averaged_perceptron_tagger_eng.zip.\n",
      "[nltk_data] Downloading package wordnet to\n",
      "[nltk_data]     C:\\Users\\nandu\\AppData\\Roaming\\nltk_data...\n",
      "[nltk_data] Downloading package omw-1.4 to\n",
      "[nltk_data]     C:\\Users\\nandu\\AppData\\Roaming\\nltk_data...\n"
     ]
    },
    {
     "data": {
      "text/plain": [
       "True"
      ]
     },
     "metadata": {},
     "output_type": "display_data"
    }
   ],
   "source": [
    "import nltk\n",
    "\n",
    "# Download necessary resources\n",
    "nltk.download('averaged_perceptron_tagger_eng')   # For POS tagging\n",
    "nltk.download('wordnet')                          # For lemmatization\n",
    "nltk.download('omw-1.4')                          # WordNet multilingual data\n"
   ]
  },
  {
   "cell_type": "code",
   "execution_count": 45,
   "metadata": {},
   "outputs": [],
   "source": [
    "df_snomed['STR'] = df_snomed['STR'].apply(to_lowercase)\n",
    "df_snomed['STR'] = df_snomed['STR'].apply(remove_stopwords)\n",
    "df_snomed['STR'] = df_snomed['STR'].apply(remove_angle_brackets)\n",
    "df_snomed['STR'] = df_snomed['STR'].apply(normalize_unicode)\n",
    "df_snomed['STR'] = df_snomed['STR'].apply(tokenize)\n",
    "df_snomed['STR'] = df_snomed['STR'].apply(lemmatize_tokens)\n",
    "df_snomed['STR'] = df_snomed['STR'].apply(combine_tokens)"
   ]
  },
  {
   "cell_type": "code",
   "execution_count": 60,
   "metadata": {},
   "outputs": [
    {
     "data": {
      "application/vnd.microsoft.datawrangler.viewer.v0+json": {
       "columns": [
        {
         "name": "index",
         "rawType": "int64",
         "type": "integer"
        },
        {
         "name": "CUI",
         "rawType": "object",
         "type": "string"
        },
        {
         "name": "System",
         "rawType": "object",
         "type": "string"
        },
        {
         "name": "TTY",
         "rawType": "object",
         "type": "string"
        },
        {
         "name": "CODE",
         "rawType": "object",
         "type": "string"
        },
        {
         "name": "STR",
         "rawType": "object",
         "type": "string"
        },
        {
         "name": "STY",
         "rawType": "object",
         "type": "string"
        }
       ],
       "ref": "c4bad07e-7609-4d90-ace4-8ac4a6b4f70e",
       "rows": [
        [
         "0",
         "C0000052",
         "SNOMEDCT_US",
         "PT",
         "58488005",
         "1,4-alpha-glucan branching enzyme",
         "Amino Acid, Peptide, or Protein"
        ],
        [
         "1",
         "C0000052",
         "SNOMEDCT_US",
         "PT",
         "58488005",
         "1,4-alpha-glucan branching enzyme",
         "Enzyme"
        ],
        [
         "2",
         "C0000052",
         "SNOMEDCT_US",
         "SY",
         "58488005",
         "branch enzyme",
         "Amino Acid, Peptide, or Protein"
        ],
        [
         "3",
         "C0000052",
         "SNOMEDCT_US",
         "SY",
         "58488005",
         "branch enzyme",
         "Enzyme"
        ],
        [
         "4",
         "C0000052",
         "SNOMEDCT_US",
         "SY",
         "58488005",
         "amylo- ( 1,4,6 ) -transglycosylase",
         "Amino Acid, Peptide, or Protein"
        ],
        [
         "5",
         "C0000052",
         "SNOMEDCT_US",
         "SY",
         "58488005",
         "amylo- ( 1,4,6 ) -transglycosylase",
         "Enzyme"
        ],
        [
         "6",
         "C0000052",
         "SNOMEDCT_US",
         "FN",
         "58488005",
         "1,4-alpha-glucan branching enzyme ( substance )",
         "Amino Acid, Peptide, or Protein"
        ],
        [
         "7",
         "C0000052",
         "SNOMEDCT_US",
         "FN",
         "58488005",
         "1,4-alpha-glucan branching enzyme ( substance )",
         "Enzyme"
        ],
        [
         "8",
         "C0000097",
         "SNOMEDCT_US",
         "PT",
         "285407008",
         "methylphenyltetrahydropyridine",
         "Organic Chemical"
        ],
        [
         "9",
         "C0000097",
         "SNOMEDCT_US",
         "PT",
         "285407008",
         "methylphenyltetrahydropyridine",
         "Hazardous or Poisonous Substance"
        ],
        [
         "10",
         "C0000097",
         "SNOMEDCT_US",
         "FN",
         "285407008",
         "methylphenyltetrahydropyridine ( substance )",
         "Organic Chemical"
        ],
        [
         "11",
         "C0000097",
         "SNOMEDCT_US",
         "FN",
         "285407008",
         "methylphenyltetrahydropyridine ( substance )",
         "Hazardous or Poisonous Substance"
        ],
        [
         "12",
         "C0000102",
         "SNOMEDCT_US",
         "PT",
         "13579002",
         "1-naphthylamine",
         "Organic Chemical"
        ],
        [
         "13",
         "C0000102",
         "SNOMEDCT_US",
         "PT",
         "13579002",
         "1-naphthylamine",
         "Hazardous or Poisonous Substance"
        ],
        [
         "14",
         "C0000102",
         "SNOMEDCT_US",
         "SY",
         "13579002",
         "alpha-naphthylamine",
         "Organic Chemical"
        ],
        [
         "15",
         "C0000102",
         "SNOMEDCT_US",
         "SY",
         "13579002",
         "alpha-naphthylamine",
         "Hazardous or Poisonous Substance"
        ],
        [
         "16",
         "C0000102",
         "SNOMEDCT_US",
         "SY",
         "13579002",
         "a- naphthylamine",
         "Organic Chemical"
        ],
        [
         "17",
         "C0000102",
         "SNOMEDCT_US",
         "SY",
         "13579002",
         "a- naphthylamine",
         "Hazardous or Poisonous Substance"
        ],
        [
         "18",
         "C0000102",
         "SNOMEDCT_US",
         "FN",
         "13579002",
         "1-naphthylamine ( substance )",
         "Organic Chemical"
        ],
        [
         "19",
         "C0000102",
         "SNOMEDCT_US",
         "FN",
         "13579002",
         "1-naphthylamine ( substance )",
         "Hazardous or Poisonous Substance"
        ],
        [
         "20",
         "C0000163",
         "SNOMEDCT_US",
         "PT",
         "112116001",
         "17-hydroxycorticosteroid",
         "Organic Chemical"
        ],
        [
         "21",
         "C0000163",
         "SNOMEDCT_US",
         "PT",
         "112116001",
         "17-hydroxycorticosteroid",
         "Hormone"
        ],
        [
         "22",
         "C0000163",
         "SNOMEDCT_US",
         "SY",
         "112116001",
         "17-hydrocorticosteroid",
         "Organic Chemical"
        ],
        [
         "23",
         "C0000163",
         "SNOMEDCT_US",
         "SY",
         "112116001",
         "17-hydrocorticosteroid",
         "Hormone"
        ],
        [
         "24",
         "C0000163",
         "SNOMEDCT_US",
         "SY",
         "112116001",
         "17-hydroxycorticoid",
         "Organic Chemical"
        ],
        [
         "25",
         "C0000163",
         "SNOMEDCT_US",
         "SY",
         "112116001",
         "17-hydroxycorticoid",
         "Hormone"
        ],
        [
         "26",
         "C0000163",
         "SNOMEDCT_US",
         "FN",
         "112116001",
         "17-hydroxycorticosteroid ( substance )",
         "Organic Chemical"
        ],
        [
         "27",
         "C0000163",
         "SNOMEDCT_US",
         "FN",
         "112116001",
         "17-hydroxycorticosteroid ( substance )",
         "Hormone"
        ],
        [
         "28",
         "C0000167",
         "SNOMEDCT_US",
         "PT",
         "46120009",
         "17-ketosteroid",
         "Organic Chemical"
        ],
        [
         "29",
         "C0000167",
         "SNOMEDCT_US",
         "PT",
         "46120009",
         "17-ketosteroid",
         "Hormone"
        ],
        [
         "30",
         "C0000167",
         "SNOMEDCT_US",
         "SY",
         "46120009",
         "17-oxosteroid",
         "Organic Chemical"
        ],
        [
         "31",
         "C0000167",
         "SNOMEDCT_US",
         "SY",
         "46120009",
         "17-oxosteroid",
         "Hormone"
        ],
        [
         "32",
         "C0000167",
         "SNOMEDCT_US",
         "FN",
         "46120009",
         "17-ketosteroid ( substance )",
         "Organic Chemical"
        ],
        [
         "33",
         "C0000167",
         "SNOMEDCT_US",
         "FN",
         "46120009",
         "17-ketosteroid ( substance )",
         "Hormone"
        ],
        [
         "34",
         "C0000172",
         "SNOMEDCT_US",
         "PT",
         "103034000",
         "18-hydroxycorticosterone",
         "Organic Chemical"
        ],
        [
         "35",
         "C0000172",
         "SNOMEDCT_US",
         "PT",
         "103034000",
         "18-hydroxycorticosterone",
         "Pharmacologic Substance"
        ],
        [
         "36",
         "C0000172",
         "SNOMEDCT_US",
         "SY",
         "103034000",
         "11-beta,18,21-trihydroxypregn-4-ene-3,20-dione",
         "Organic Chemical"
        ],
        [
         "37",
         "C0000172",
         "SNOMEDCT_US",
         "SY",
         "103034000",
         "11-beta,18,21-trihydroxypregn-4-ene-3,20-dione",
         "Pharmacologic Substance"
        ],
        [
         "38",
         "C0000172",
         "SNOMEDCT_US",
         "FN",
         "103034000",
         "18-hydroxycorticosterone ( substance )",
         "Organic Chemical"
        ],
        [
         "39",
         "C0000172",
         "SNOMEDCT_US",
         "FN",
         "103034000",
         "18-hydroxycorticosterone ( substance )",
         "Pharmacologic Substance"
        ],
        [
         "40",
         "C0000215",
         "SNOMEDCT_US",
         "PT",
         "86884000",
         "2,4,5-trichlorophenoxyacetic acid",
         "Organic Chemical"
        ],
        [
         "41",
         "C0000215",
         "SNOMEDCT_US",
         "PT",
         "86884000",
         "2,4,5-trichlorophenoxyacetic acid",
         "Hazardous or Poisonous Substance"
        ],
        [
         "42",
         "C0000215",
         "SNOMEDCT_US",
         "SY",
         "86884000",
         "trichlorophenoxyacetic acid",
         "Organic Chemical"
        ],
        [
         "43",
         "C0000215",
         "SNOMEDCT_US",
         "SY",
         "86884000",
         "trichlorophenoxyacetic acid",
         "Hazardous or Poisonous Substance"
        ],
        [
         "44",
         "C0000215",
         "SNOMEDCT_US",
         "FN",
         "86884000",
         "2,4,5-trichlorophenoxyacetic acid ( substance )",
         "Organic Chemical"
        ],
        [
         "45",
         "C0000215",
         "SNOMEDCT_US",
         "FN",
         "86884000",
         "2,4,5-trichlorophenoxyacetic acid ( substance )",
         "Hazardous or Poisonous Substance"
        ],
        [
         "46",
         "C0000215",
         "SNOMEDCT_US",
         "SY",
         "86884000",
         "2,4,5-trichloroacetophenol",
         "Organic Chemical"
        ],
        [
         "47",
         "C0000215",
         "SNOMEDCT_US",
         "SY",
         "86884000",
         "2,4,5-trichloroacetophenol",
         "Hazardous or Poisonous Substance"
        ],
        [
         "48",
         "C0000220",
         "SNOMEDCT_US",
         "PT",
         "18344000",
         "2,4-dichlorophenoxyacetic acid",
         "Organic Chemical"
        ],
        [
         "49",
         "C0000220",
         "SNOMEDCT_US",
         "PT",
         "18344000",
         "2,4-dichlorophenoxyacetic acid",
         "Hazardous or Poisonous Substance"
        ]
       ],
       "shape": {
        "columns": 6,
        "rows": 1035230
       }
      },
      "text/html": [
       "<div>\n",
       "<style scoped>\n",
       "    .dataframe tbody tr th:only-of-type {\n",
       "        vertical-align: middle;\n",
       "    }\n",
       "\n",
       "    .dataframe tbody tr th {\n",
       "        vertical-align: top;\n",
       "    }\n",
       "\n",
       "    .dataframe thead th {\n",
       "        text-align: right;\n",
       "    }\n",
       "</style>\n",
       "<table border=\"1\" class=\"dataframe\">\n",
       "  <thead>\n",
       "    <tr style=\"text-align: right;\">\n",
       "      <th></th>\n",
       "      <th>CUI</th>\n",
       "      <th>System</th>\n",
       "      <th>TTY</th>\n",
       "      <th>CODE</th>\n",
       "      <th>STR</th>\n",
       "      <th>STY</th>\n",
       "    </tr>\n",
       "  </thead>\n",
       "  <tbody>\n",
       "    <tr>\n",
       "      <th>0</th>\n",
       "      <td>C0000052</td>\n",
       "      <td>SNOMEDCT_US</td>\n",
       "      <td>PT</td>\n",
       "      <td>58488005</td>\n",
       "      <td>1,4-alpha-glucan branching enzyme</td>\n",
       "      <td>Amino Acid, Peptide, or Protein</td>\n",
       "    </tr>\n",
       "    <tr>\n",
       "      <th>1</th>\n",
       "      <td>C0000052</td>\n",
       "      <td>SNOMEDCT_US</td>\n",
       "      <td>PT</td>\n",
       "      <td>58488005</td>\n",
       "      <td>1,4-alpha-glucan branching enzyme</td>\n",
       "      <td>Enzyme</td>\n",
       "    </tr>\n",
       "    <tr>\n",
       "      <th>2</th>\n",
       "      <td>C0000052</td>\n",
       "      <td>SNOMEDCT_US</td>\n",
       "      <td>SY</td>\n",
       "      <td>58488005</td>\n",
       "      <td>branch enzyme</td>\n",
       "      <td>Amino Acid, Peptide, or Protein</td>\n",
       "    </tr>\n",
       "    <tr>\n",
       "      <th>3</th>\n",
       "      <td>C0000052</td>\n",
       "      <td>SNOMEDCT_US</td>\n",
       "      <td>SY</td>\n",
       "      <td>58488005</td>\n",
       "      <td>branch enzyme</td>\n",
       "      <td>Enzyme</td>\n",
       "    </tr>\n",
       "    <tr>\n",
       "      <th>4</th>\n",
       "      <td>C0000052</td>\n",
       "      <td>SNOMEDCT_US</td>\n",
       "      <td>SY</td>\n",
       "      <td>58488005</td>\n",
       "      <td>amylo- ( 1,4,6 ) -transglycosylase</td>\n",
       "      <td>Amino Acid, Peptide, or Protein</td>\n",
       "    </tr>\n",
       "    <tr>\n",
       "      <th>...</th>\n",
       "      <td>...</td>\n",
       "      <td>...</td>\n",
       "      <td>...</td>\n",
       "      <td>...</td>\n",
       "      <td>...</td>\n",
       "      <td>...</td>\n",
       "    </tr>\n",
       "    <tr>\n",
       "      <th>1035225</th>\n",
       "      <td>C5942197</td>\n",
       "      <td>SNOMEDCT_US</td>\n",
       "      <td>PT</td>\n",
       "      <td>851331000124101</td>\n",
       "      <td>provision payment housing mold remediation fee</td>\n",
       "      <td>Occupational Activity</td>\n",
       "    </tr>\n",
       "    <tr>\n",
       "      <th>1035226</th>\n",
       "      <td>C5942197</td>\n",
       "      <td>SNOMEDCT_US</td>\n",
       "      <td>FN</td>\n",
       "      <td>851331000124101</td>\n",
       "      <td>provision payment housing mold remediation fee...</td>\n",
       "      <td>Occupational Activity</td>\n",
       "    </tr>\n",
       "    <tr>\n",
       "      <th>1035227</th>\n",
       "      <td>C5942198</td>\n",
       "      <td>SNOMEDCT_US</td>\n",
       "      <td>PT</td>\n",
       "      <td>861171000124107</td>\n",
       "      <td>inadequate digital access due inadequate inter...</td>\n",
       "      <td>Finding</td>\n",
       "    </tr>\n",
       "    <tr>\n",
       "      <th>1035228</th>\n",
       "      <td>C5942198</td>\n",
       "      <td>SNOMEDCT_US</td>\n",
       "      <td>FN</td>\n",
       "      <td>861171000124107</td>\n",
       "      <td>inadequate digital access due inadequate inter...</td>\n",
       "      <td>Finding</td>\n",
       "    </tr>\n",
       "    <tr>\n",
       "      <th>1035229</th>\n",
       "      <td>C5942198</td>\n",
       "      <td>SNOMEDCT_US</td>\n",
       "      <td>SY</td>\n",
       "      <td>861171000124107</td>\n",
       "      <td>inadequate digital access due inadequate regio...</td>\n",
       "      <td>Finding</td>\n",
       "    </tr>\n",
       "  </tbody>\n",
       "</table>\n",
       "<p>1035230 rows × 6 columns</p>\n",
       "</div>"
      ],
      "text/plain": [
       "              CUI       System TTY             CODE  \\\n",
       "0        C0000052  SNOMEDCT_US  PT         58488005   \n",
       "1        C0000052  SNOMEDCT_US  PT         58488005   \n",
       "2        C0000052  SNOMEDCT_US  SY         58488005   \n",
       "3        C0000052  SNOMEDCT_US  SY         58488005   \n",
       "4        C0000052  SNOMEDCT_US  SY         58488005   \n",
       "...           ...          ...  ..              ...   \n",
       "1035225  C5942197  SNOMEDCT_US  PT  851331000124101   \n",
       "1035226  C5942197  SNOMEDCT_US  FN  851331000124101   \n",
       "1035227  C5942198  SNOMEDCT_US  PT  861171000124107   \n",
       "1035228  C5942198  SNOMEDCT_US  FN  861171000124107   \n",
       "1035229  C5942198  SNOMEDCT_US  SY  861171000124107   \n",
       "\n",
       "                                                       STR  \\\n",
       "0                        1,4-alpha-glucan branching enzyme   \n",
       "1                        1,4-alpha-glucan branching enzyme   \n",
       "2                                            branch enzyme   \n",
       "3                                            branch enzyme   \n",
       "4                       amylo- ( 1,4,6 ) -transglycosylase   \n",
       "...                                                    ...   \n",
       "1035225     provision payment housing mold remediation fee   \n",
       "1035226  provision payment housing mold remediation fee...   \n",
       "1035227  inadequate digital access due inadequate inter...   \n",
       "1035228  inadequate digital access due inadequate inter...   \n",
       "1035229  inadequate digital access due inadequate regio...   \n",
       "\n",
       "                                     STY  \n",
       "0        Amino Acid, Peptide, or Protein  \n",
       "1                                 Enzyme  \n",
       "2        Amino Acid, Peptide, or Protein  \n",
       "3                                 Enzyme  \n",
       "4        Amino Acid, Peptide, or Protein  \n",
       "...                                  ...  \n",
       "1035225            Occupational Activity  \n",
       "1035226            Occupational Activity  \n",
       "1035227                          Finding  \n",
       "1035228                          Finding  \n",
       "1035229                          Finding  \n",
       "\n",
       "[1035230 rows x 6 columns]"
      ]
     },
     "execution_count": 60,
     "metadata": {},
     "output_type": "execute_result"
    }
   ],
   "source": [
    "df_snomed"
   ]
  },
  {
   "cell_type": "code",
   "execution_count": 64,
   "metadata": {},
   "outputs": [],
   "source": [
    "df_rxnorm['STR'] = df_rxnorm['STR'].apply(to_lowercase)\n",
    "df_rxnorm['STR'] = df_rxnorm['STR'].apply(remove_stopwords)\n",
    "df_rxnorm['STR'] = df_rxnorm['STR'].apply(remove_angle_brackets)\n",
    "df_rxnorm['STR'] = df_rxnorm['STR'].apply(normalize_unicode)\n",
    "df_rxnorm['STR'] = df_rxnorm['STR'].apply(tokenize)\n",
    "df_rxnorm['STR'] = df_rxnorm['STR'].apply(lemmatize_tokens)\n",
    "df_rxnorm['STR'] = df_rxnorm['STR'].apply(combine_tokens)"
   ]
  },
  {
   "cell_type": "code",
   "execution_count": 66,
   "metadata": {},
   "outputs": [
    {
     "data": {
      "application/vnd.microsoft.datawrangler.viewer.v0+json": {
       "columns": [
        {
         "name": "index",
         "rawType": "int64",
         "type": "integer"
        },
        {
         "name": "CUI",
         "rawType": "object",
         "type": "string"
        },
        {
         "name": "System",
         "rawType": "object",
         "type": "string"
        },
        {
         "name": "TTY",
         "rawType": "object",
         "type": "string"
        },
        {
         "name": "CODE",
         "rawType": "object",
         "type": "string"
        },
        {
         "name": "STR",
         "rawType": "object",
         "type": "string"
        },
        {
         "name": "STY",
         "rawType": "object",
         "type": "string"
        }
       ],
       "ref": "c47589ec-08f7-4a53-a385-f21bbb60b3a1",
       "rows": [
        [
         "988",
         "C0001162",
         "SNOMEDCT_US",
         "SY",
         "8598002",
         "acoustic vestibular nerve",
         "Body Part, Organ, or Organ Component"
        ],
        [
         "989",
         "C0001162",
         "SNOMEDCT_US",
         "SY",
         "8598002",
         "acoustic vestibular nerve",
         "Body Part, Organ, or Organ Component"
        ],
        [
         "1315",
         "C0001428",
         "SNOMEDCT_US",
         "SY",
         "55940004",
         "adenoid",
         "Body Part, Organ, or Organ Component"
        ],
        [
         "1316",
         "C0001428",
         "SNOMEDCT_US",
         "SY",
         "55940004",
         "adenoid",
         "Body Part, Organ, or Organ Component"
        ],
        [
         "3885",
         "C0003062",
         "SNOMEDCT_US",
         "SY",
         "387961004",
         "animal",
         "Animal"
        ],
        [
         "3886",
         "C0003062",
         "SNOMEDCT_US",
         "SY",
         "387961004",
         "animal",
         "Animal"
        ],
        [
         "3951",
         "C0003119",
         "SNOMEDCT_US",
         "SY",
         "7183006",
         "congenital absence eye",
         "Congenital Abnormality"
        ],
        [
         "3952",
         "C0003119",
         "SNOMEDCT_US",
         "SY",
         "7183006",
         "congenital absence eye",
         "Congenital Abnormality"
        ],
        [
         "5097",
         "C0003903",
         "SNOMEDCT_US",
         "SY",
         "106762008",
         "arthropod",
         "Eukaryote"
        ],
        [
         "5098",
         "C0003903",
         "SNOMEDCT_US",
         "SY",
         "106762008",
         "arthropod",
         "Eukaryote"
        ],
        [
         "6231",
         "C0004781",
         "SNOMEDCT_US",
         "SY",
         "32610002",
         "basal ganglion",
         "Body Part, Organ, or Organ Component"
        ],
        [
         "6232",
         "C0004781",
         "SNOMEDCT_US",
         "SY",
         "32610002",
         "basal ganglion",
         "Body Part, Organ, or Organ Component"
        ],
        [
         "6235",
         "C0004781",
         "SNOMEDCT_US",
         "SY",
         "32610002",
         "basal nucleus structure",
         "Body Part, Organ, or Organ Component"
        ],
        [
         "6236",
         "C0004781",
         "SNOMEDCT_US",
         "SY",
         "32610002",
         "basal nucleus structure",
         "Body Part, Organ, or Organ Component"
        ],
        [
         "7453",
         "C0005790",
         "SNOMEDCT_US",
         "SY",
         "3116009",
         "clot screen",
         "Laboratory Procedure"
        ],
        [
         "7454",
         "C0005790",
         "SNOMEDCT_US",
         "SY",
         "3116009",
         "clot screen",
         "Laboratory Procedure"
        ],
        [
         "7481",
         "C0005821",
         "SNOMEDCT_US",
         "SY",
         "16378004",
         "plt - platelet",
         "Cell"
        ],
        [
         "7482",
         "C0005821",
         "SNOMEDCT_US",
         "SY",
         "16378004",
         "plt - platelet",
         "Cell"
        ],
        [
         "7687",
         "C0005978",
         "SNOMEDCT_US",
         "SY",
         "63112008",
         "wire",
         "Medical Device"
        ],
        [
         "7688",
         "C0005978",
         "SNOMEDCT_US",
         "SY",
         "63112008",
         "wire",
         "Medical Device"
        ],
        [
         "10298",
         "C0007634",
         "SNOMEDCT_US",
         "SY",
         "4421005",
         "cellular structure",
         "Cell"
        ],
        [
         "10299",
         "C0007634",
         "SNOMEDCT_US",
         "SY",
         "4421005",
         "cellular structure",
         "Cell"
        ],
        [
         "10818",
         "C0007965",
         "SNOMEDCT_US",
         "SY",
         "111396008",
         "beguez cesar disease",
         "Disease or Syndrome"
        ],
        [
         "10819",
         "C0007965",
         "SNOMEDCT_US",
         "SY",
         "111396008",
         "beguez cesar disease",
         "Disease or Syndrome"
        ],
        [
         "10820",
         "C0007965",
         "SNOMEDCT_US",
         "SY",
         "111396008",
         "chediak anomaly",
         "Disease or Syndrome"
        ],
        [
         "10821",
         "C0007965",
         "SNOMEDCT_US",
         "SY",
         "111396008",
         "chediak anomaly",
         "Disease or Syndrome"
        ],
        [
         "10822",
         "C0007965",
         "SNOMEDCT_US",
         "SY",
         "111396008",
         "chediak-steinbrinck anomaly",
         "Disease or Syndrome"
        ],
        [
         "10823",
         "C0007965",
         "SNOMEDCT_US",
         "SY",
         "111396008",
         "chediak-steinbrinck anomaly",
         "Disease or Syndrome"
        ],
        [
         "11389",
         "C0008297",
         "SNOMEDCT_US",
         "SY",
         "204508009",
         "atresia posterior naris",
         "Congenital Abnormality"
        ],
        [
         "11390",
         "C0008297",
         "SNOMEDCT_US",
         "SY",
         "204508009",
         "atresia posterior naris",
         "Congenital Abnormality"
        ],
        [
         "11506",
         "C0008338",
         "SNOMEDCT_US",
         "SY",
         "27191003",
         "suture gallbladder",
         "Therapeutic or Preventive Procedure"
        ],
        [
         "11507",
         "C0008338",
         "SNOMEDCT_US",
         "SY",
         "27191003",
         "suture gallbladder",
         "Therapeutic or Preventive Procedure"
        ],
        [
         "11572",
         "C0008380",
         "SNOMEDCT_US",
         "SY",
         "9556009",
         "acyl coa cholesterol acyltransferase",
         "Amino Acid, Peptide, or Protein"
        ],
        [
         "11573",
         "C0008380",
         "SNOMEDCT_US",
         "SY",
         "9556009",
         "acyl coa cholesterol acyltransferase",
         "Enzyme"
        ],
        [
         "11576",
         "C0008380",
         "SNOMEDCT_US",
         "SY",
         "9556009",
         "acyl coa cholesterol acyltransferase",
         "Amino Acid, Peptide, or Protein"
        ],
        [
         "11577",
         "C0008380",
         "SNOMEDCT_US",
         "SY",
         "9556009",
         "acyl coa cholesterol acyltransferase",
         "Enzyme"
        ],
        [
         "11711",
         "C0008475",
         "SNOMEDCT_US",
         "SY",
         "36071006",
         "chondromalacia patella",
         "Disease or Syndrome"
        ],
        [
         "11713",
         "C0008475",
         "SNOMEDCT_US",
         "SY",
         "36071006",
         "chondromalacia patella",
         "Disease or Syndrome"
        ],
        [
         "12505",
         "C0009053",
         "SNOMEDCT_US",
         "SY",
         "56355009",
         "collagenase",
         "Amino Acid, Peptide, or Protein"
        ],
        [
         "12506",
         "C0009053",
         "SNOMEDCT_US",
         "SY",
         "56355009",
         "collagenase",
         "Pharmacologic Substance"
        ],
        [
         "12507",
         "C0009053",
         "SNOMEDCT_US",
         "SY",
         "56355009",
         "collagenase",
         "Enzyme"
        ],
        [
         "12508",
         "C0009053",
         "SNOMEDCT_US",
         "SY",
         "56355009",
         "collagenase",
         "Amino Acid, Peptide, or Protein"
        ],
        [
         "12509",
         "C0009053",
         "SNOMEDCT_US",
         "SY",
         "56355009",
         "collagenase",
         "Pharmacologic Substance"
        ],
        [
         "12510",
         "C0009053",
         "SNOMEDCT_US",
         "SY",
         "56355009",
         "collagenase",
         "Enzyme"
        ],
        [
         "12636",
         "C0009144",
         "SNOMEDCT_US",
         "SY",
         "698193000",
         "coat tongue",
         "Finding"
        ],
        [
         "12637",
         "C0009144",
         "SNOMEDCT_US",
         "SY",
         "698193000",
         "coat tongue",
         "Finding"
        ],
        [
         "12864",
         "C0009276",
         "SNOMEDCT_US",
         "SY",
         "106765005",
         "beetle",
         "Eukaryote"
        ],
        [
         "12865",
         "C0009276",
         "SNOMEDCT_US",
         "SY",
         "106765005",
         "beetle",
         "Eukaryote"
        ],
        [
         "13370",
         "C0009663",
         "SNOMEDCT_US",
         "SY",
         "240542006",
         "anogenital wart",
         "Disease or Syndrome"
        ],
        [
         "13371",
         "C0009663",
         "SNOMEDCT_US",
         "SY",
         "240542006",
         "anogenital wart",
         "Disease or Syndrome"
        ]
       ],
       "shape": {
        "columns": 6,
        "rows": 1717
       }
      },
      "text/html": [
       "<div>\n",
       "<style scoped>\n",
       "    .dataframe tbody tr th:only-of-type {\n",
       "        vertical-align: middle;\n",
       "    }\n",
       "\n",
       "    .dataframe tbody tr th {\n",
       "        vertical-align: top;\n",
       "    }\n",
       "\n",
       "    .dataframe thead th {\n",
       "        text-align: right;\n",
       "    }\n",
       "</style>\n",
       "<table border=\"1\" class=\"dataframe\">\n",
       "  <thead>\n",
       "    <tr style=\"text-align: right;\">\n",
       "      <th></th>\n",
       "      <th>CUI</th>\n",
       "      <th>System</th>\n",
       "      <th>TTY</th>\n",
       "      <th>CODE</th>\n",
       "      <th>STR</th>\n",
       "      <th>STY</th>\n",
       "    </tr>\n",
       "  </thead>\n",
       "  <tbody>\n",
       "    <tr>\n",
       "      <th>988</th>\n",
       "      <td>C0001162</td>\n",
       "      <td>SNOMEDCT_US</td>\n",
       "      <td>SY</td>\n",
       "      <td>8598002</td>\n",
       "      <td>acoustic vestibular nerve</td>\n",
       "      <td>Body Part, Organ, or Organ Component</td>\n",
       "    </tr>\n",
       "    <tr>\n",
       "      <th>989</th>\n",
       "      <td>C0001162</td>\n",
       "      <td>SNOMEDCT_US</td>\n",
       "      <td>SY</td>\n",
       "      <td>8598002</td>\n",
       "      <td>acoustic vestibular nerve</td>\n",
       "      <td>Body Part, Organ, or Organ Component</td>\n",
       "    </tr>\n",
       "    <tr>\n",
       "      <th>1315</th>\n",
       "      <td>C0001428</td>\n",
       "      <td>SNOMEDCT_US</td>\n",
       "      <td>SY</td>\n",
       "      <td>55940004</td>\n",
       "      <td>adenoid</td>\n",
       "      <td>Body Part, Organ, or Organ Component</td>\n",
       "    </tr>\n",
       "    <tr>\n",
       "      <th>1316</th>\n",
       "      <td>C0001428</td>\n",
       "      <td>SNOMEDCT_US</td>\n",
       "      <td>SY</td>\n",
       "      <td>55940004</td>\n",
       "      <td>adenoid</td>\n",
       "      <td>Body Part, Organ, or Organ Component</td>\n",
       "    </tr>\n",
       "    <tr>\n",
       "      <th>3885</th>\n",
       "      <td>C0003062</td>\n",
       "      <td>SNOMEDCT_US</td>\n",
       "      <td>SY</td>\n",
       "      <td>387961004</td>\n",
       "      <td>animal</td>\n",
       "      <td>Animal</td>\n",
       "    </tr>\n",
       "    <tr>\n",
       "      <th>...</th>\n",
       "      <td>...</td>\n",
       "      <td>...</td>\n",
       "      <td>...</td>\n",
       "      <td>...</td>\n",
       "      <td>...</td>\n",
       "      <td>...</td>\n",
       "    </tr>\n",
       "    <tr>\n",
       "      <th>1018909</th>\n",
       "      <td>C5879565</td>\n",
       "      <td>SNOMEDCT_US</td>\n",
       "      <td>SY</td>\n",
       "      <td>688271000119100</td>\n",
       "      <td>sezary disease inguinal lymph node</td>\n",
       "      <td>Neoplastic Process</td>\n",
       "    </tr>\n",
       "    <tr>\n",
       "      <th>1034413</th>\n",
       "      <td>C5924747</td>\n",
       "      <td>SNOMEDCT_US</td>\n",
       "      <td>SY</td>\n",
       "      <td>1340080008</td>\n",
       "      <td>scar skin follow primovaccination</td>\n",
       "      <td>Acquired Abnormality</td>\n",
       "    </tr>\n",
       "    <tr>\n",
       "      <th>1034414</th>\n",
       "      <td>C5924747</td>\n",
       "      <td>SNOMEDCT_US</td>\n",
       "      <td>SY</td>\n",
       "      <td>1340080008</td>\n",
       "      <td>scar skin follow primovaccination</td>\n",
       "      <td>Acquired Abnormality</td>\n",
       "    </tr>\n",
       "    <tr>\n",
       "      <th>1034763</th>\n",
       "      <td>C5924873</td>\n",
       "      <td>SNOMEDCT_US</td>\n",
       "      <td>SY</td>\n",
       "      <td>1343305005</td>\n",
       "      <td>acquire immunodeficiency syndrome clinical tri...</td>\n",
       "      <td>Classification</td>\n",
       "    </tr>\n",
       "    <tr>\n",
       "      <th>1034764</th>\n",
       "      <td>C5924873</td>\n",
       "      <td>SNOMEDCT_US</td>\n",
       "      <td>SY</td>\n",
       "      <td>1343305005</td>\n",
       "      <td>acquire immunodeficiency syndrome clinical tri...</td>\n",
       "      <td>Classification</td>\n",
       "    </tr>\n",
       "  </tbody>\n",
       "</table>\n",
       "<p>1717 rows × 6 columns</p>\n",
       "</div>"
      ],
      "text/plain": [
       "              CUI       System TTY             CODE  \\\n",
       "988      C0001162  SNOMEDCT_US  SY          8598002   \n",
       "989      C0001162  SNOMEDCT_US  SY          8598002   \n",
       "1315     C0001428  SNOMEDCT_US  SY         55940004   \n",
       "1316     C0001428  SNOMEDCT_US  SY         55940004   \n",
       "3885     C0003062  SNOMEDCT_US  SY        387961004   \n",
       "...           ...          ...  ..              ...   \n",
       "1018909  C5879565  SNOMEDCT_US  SY  688271000119100   \n",
       "1034413  C5924747  SNOMEDCT_US  SY       1340080008   \n",
       "1034414  C5924747  SNOMEDCT_US  SY       1340080008   \n",
       "1034763  C5924873  SNOMEDCT_US  SY       1343305005   \n",
       "1034764  C5924873  SNOMEDCT_US  SY       1343305005   \n",
       "\n",
       "                                                       STR  \\\n",
       "988                              acoustic vestibular nerve   \n",
       "989                              acoustic vestibular nerve   \n",
       "1315                                               adenoid   \n",
       "1316                                               adenoid   \n",
       "3885                                                animal   \n",
       "...                                                    ...   \n",
       "1018909                 sezary disease inguinal lymph node   \n",
       "1034413                  scar skin follow primovaccination   \n",
       "1034414                  scar skin follow primovaccination   \n",
       "1034763  acquire immunodeficiency syndrome clinical tri...   \n",
       "1034764  acquire immunodeficiency syndrome clinical tri...   \n",
       "\n",
       "                                          STY  \n",
       "988      Body Part, Organ, or Organ Component  \n",
       "989      Body Part, Organ, or Organ Component  \n",
       "1315     Body Part, Organ, or Organ Component  \n",
       "1316     Body Part, Organ, or Organ Component  \n",
       "3885                                   Animal  \n",
       "...                                       ...  \n",
       "1018909                    Neoplastic Process  \n",
       "1034413                  Acquired Abnormality  \n",
       "1034414                  Acquired Abnormality  \n",
       "1034763                        Classification  \n",
       "1034764                        Classification  \n",
       "\n",
       "[1717 rows x 6 columns]"
      ]
     },
     "execution_count": 66,
     "metadata": {},
     "output_type": "execute_result"
    }
   ],
   "source": [
    "df_snomed[df_snomed.duplicated(keep=False)]"
   ]
  },
  {
   "cell_type": "code",
   "execution_count": 67,
   "metadata": {},
   "outputs": [
    {
     "data": {
      "text/plain": [
       "np.int64(861)"
      ]
     },
     "execution_count": 67,
     "metadata": {},
     "output_type": "execute_result"
    }
   ],
   "source": [
    "df_snomed.duplicated().sum()"
   ]
  },
  {
   "cell_type": "code",
   "execution_count": 68,
   "metadata": {},
   "outputs": [
    {
     "data": {
      "text/plain": [
       "np.int64(5)"
      ]
     },
     "execution_count": 68,
     "metadata": {},
     "output_type": "execute_result"
    }
   ],
   "source": [
    "df_rxnorm.duplicated().sum()"
   ]
  },
  {
   "cell_type": "code",
   "execution_count": 46,
   "metadata": {},
   "outputs": [],
   "source": [
    "df_rxnorm = df_rxnorm.drop_duplicates().reset_index(drop=True)\n",
    "df_snomed = df_snomed.drop_duplicates().reset_index(drop=True)"
   ]
  },
  {
   "cell_type": "code",
   "execution_count": 28,
   "metadata": {},
   "outputs": [
    {
     "name": "stdout",
     "output_type": "stream",
     "text": [
      "Requirement already satisfied: rapidfuzz in c:\\users\\jiyaa\\appdata\\local\\programs\\python\\python312\\lib\\site-packages (3.14.1)\n",
      "Note: you may need to restart the kernel to use updated packages.\n"
     ]
    },
    {
     "name": "stderr",
     "output_type": "stream",
     "text": [
      "\n",
      "[notice] A new release of pip is available: 25.0.1 -> 25.2\n",
      "[notice] To update, run: python.exe -m pip install --upgrade pip\n"
     ]
    }
   ],
   "source": [
    "%pip install rapidfuzz"
   ]
  },
  {
   "cell_type": "code",
   "execution_count": null,
   "metadata": {},
   "outputs": [
    {
     "name": "stdout",
     "output_type": "stream",
     "text": [
      "Defaulting to user installation because normal site-packages is not writeable\n",
      "Requirement already satisfied: scikit-learn in c:\\users\\nandu\\appdata\\roaming\\python\\python313\\site-packages (1.7.2)\n",
      "Requirement already satisfied: numpy>=1.22.0 in c:\\users\\nandu\\appdata\\roaming\\python\\python313\\site-packages (from scikit-learn) (2.3.2)\n",
      "Requirement already satisfied: scipy>=1.8.0 in c:\\users\\nandu\\appdata\\roaming\\python\\python313\\site-packages (from scikit-learn) (1.16.2)\n",
      "Requirement already satisfied: joblib>=1.2.0 in c:\\users\\nandu\\appdata\\roaming\\python\\python313\\site-packages (from scikit-learn) (1.5.2)\n",
      "Requirement already satisfied: threadpoolctl>=3.1.0 in c:\\users\\nandu\\appdata\\roaming\\python\\python313\\site-packages (from scikit-learn) (3.6.0)\n",
      "Note: you may need to restart the kernel to use updated packages.\n"
     ]
    },
    {
     "name": "stderr",
     "output_type": "stream",
     "text": [
      "\n",
      "[notice] A new release of pip is available: 25.1.1 -> 25.2\n",
      "[notice] To update, run: python.exe -m pip install --upgrade pip\n"
     ]
    }
   ],
   "source": [
    "%pip install scikit-learn\n"
   ]
  },
  {
   "cell_type": "code",
   "execution_count": 30,
   "metadata": {},
   "outputs": [],
   "source": [
    "from sklearn.model_selection import train_test_split"
   ]
  },
  {
   "cell_type": "markdown",
   "metadata": {},
   "source": [
    "## snomed training"
   ]
  },
  {
   "cell_type": "code",
   "execution_count": null,
   "metadata": {},
   "outputs": [],
   "source": [
    "df_snomed = df_snomed.tail(10000)"
   ]
  },
  {
   "cell_type": "code",
   "execution_count": null,
   "metadata": {},
   "outputs": [],
   "source": [
    "train_df, test_df = train_test_split(df_snomed, test_size=0.2, random_state=42, shuffle=True)\n"
   ]
  },
  {
   "cell_type": "code",
   "execution_count": 174,
   "metadata": {},
   "outputs": [],
   "source": [
    "test_df = test_df.drop(columns = [\"CUI\",\"CODE\",\"STY\",\"TTY\",\"System\"])\n",
    "train_df = train_df.drop(columns = [\"CUI\",\"TTY\",\"STY\",\"System\"])"
   ]
  },
  {
   "cell_type": "code",
   "execution_count": 175,
   "metadata": {},
   "outputs": [
    {
     "data": {
      "application/vnd.microsoft.datawrangler.viewer.v0+json": {
       "columns": [
        {
         "name": "index",
         "rawType": "int64",
         "type": "integer"
        },
        {
         "name": "STR",
         "rawType": "object",
         "type": "string"
        }
       ],
       "ref": "813c6015-cf9a-4c72-8bec-fdff02ac9dba",
       "rows": [
        [
         "1030621",
         "entire blood vessel inguinal region ( body structure )"
        ],
        [
         "1029053",
         "tissue specimen leave breast ( specimen )"
        ],
        [
         "1026100",
         "structure cartilaginous portion leave pharyngotympanic tube"
        ],
        [
         "1029111",
         "extensor tendon leave foot"
        ],
        [
         "1028890",
         "disorder right femur follow poliomyelitis ( disorder )"
        ],
        [
         "1030709",
         "mri leave calcaneus"
        ],
        [
         "1024945",
         "plain x-ray biliary tract contrast request"
        ],
        [
         "1029571",
         "ct arthrogram bilateral wrist contrast"
        ],
        [
         "1030732",
         "traumatic myositis ossificans right upper arm"
        ],
        [
         "1024808",
         "postmortem plain x-ray teeth ( procedure )"
        ],
        [
         "1027119",
         "adenomatous polyp appendix"
        ],
        [
         "1031856",
         "paget disease foot"
        ],
        [
         "1029641",
         "diffusion weight mri breast"
        ],
        [
         "1030022",
         "ultrasonography transplant bilateral kidney contrast"
        ],
        [
         "1028368",
         "european committee antimicrobial susceptibility test category 2019 susceptible , increased exposure"
        ],
        [
         "1030402",
         "quantitative ultrasonography bilateral upper limb ( procedure )"
        ],
        [
         "1024951",
         "skeletal survey plain x-ray"
        ],
        [
         "1034299",
         "target joint leave knee"
        ],
        [
         "1031420",
         "melorheostosis leave rib ( disorder )"
        ],
        [
         "1032527",
         "pigment hairy epidermal nevus lip"
        ],
        [
         "1034265",
         "provision payment housing pest control fee"
        ],
        [
         "1026618",
         "foreign body skin leave forearm infection ( disorder )"
        ],
        [
         "1029009",
         "product contain precisely ibuprofen 150 milligram paracetamol 500 milligram/1 conventional release oral tablet ( clinical drug )"
        ],
        [
         "1033854",
         "entire soft tissue back abdominopelvic segment trunk"
        ],
        [
         "1029316",
         "right shoulder tendon laceration"
        ],
        [
         "1034289",
         "target joint right wrist"
        ],
        [
         "1026332",
         "rupture ligament little finger leave hand ( disorder )"
        ],
        [
         "1032612",
         "fluoroscopy trachea contrast ( procedure )"
        ],
        [
         "1030959",
         "entire mucous membrane labium majus ( body structure )"
        ],
        [
         "1033216",
         "structure phalanx right little toe"
        ],
        [
         "1024690",
         "plain x-ray sternum"
        ],
        [
         "1027047",
         "enucleation right eyeball"
        ],
        [
         "1028994",
         "structure principal gastric gland"
        ],
        [
         "1029318",
         "laceration tendon right shoulder ( disorder )"
        ],
        [
         "1032697",
         "metastatic spindle cell rhabdomyosarcoma ( disorder )"
        ],
        [
         "1027706",
         "endoscopic vaginal natural orifice transluminal hysterectomy ( procedure )"
        ],
        [
         "1029958",
         "ultrasonography guide right suprascapular nerve block"
        ],
        [
         "1024620",
         "structure flexor tendon within right thigh ( body structure )"
        ],
        [
         "1028342",
         "infiltrate duct carcinoma upper inner quadrant right breast ( disorder )"
        ],
        [
         "1030999",
         "history excision lamina vertebra"
        ],
        [
         "1029916",
         "product contain precisely amlodipine ( a amlodipine besilate ) 5 milligram perindopril tosilate 10 milligram/1 conventional release oral tablet ( clinical drug )"
        ],
        [
         "1024404",
         "plain x-ray external auditory canal opening"
        ],
        [
         "1032731",
         "metastatic lentigo maligna melanoma"
        ],
        [
         "1025882",
         "complete basic skill train program ( find )"
        ],
        [
         "1033686",
         "metformin therapy"
        ],
        [
         "1024408",
         "plain x-ray internal acoustic meatus temporal bone ( procedure )"
        ],
        [
         "1029188",
         "cut balloon dilation bilateral bronchus use fluoroscopic guidance ( procedure )"
        ],
        [
         "1027834",
         "structure apical inferior segment 16-segment model myocardium leave ventricle"
        ],
        [
         "1026129",
         "structure lumen osseous portion pharyngotympanic tube"
        ],
        [
         "1026673",
         "product contain cetalkonium choline salicylate oromucosal dose form ( medicinal product form )"
        ]
       ],
       "shape": {
        "columns": 1,
        "rows": 2000
       }
      },
      "text/html": [
       "<div>\n",
       "<style scoped>\n",
       "    .dataframe tbody tr th:only-of-type {\n",
       "        vertical-align: middle;\n",
       "    }\n",
       "\n",
       "    .dataframe tbody tr th {\n",
       "        vertical-align: top;\n",
       "    }\n",
       "\n",
       "    .dataframe thead th {\n",
       "        text-align: right;\n",
       "    }\n",
       "</style>\n",
       "<table border=\"1\" class=\"dataframe\">\n",
       "  <thead>\n",
       "    <tr style=\"text-align: right;\">\n",
       "      <th></th>\n",
       "      <th>STR</th>\n",
       "    </tr>\n",
       "  </thead>\n",
       "  <tbody>\n",
       "    <tr>\n",
       "      <th>1030621</th>\n",
       "      <td>entire blood vessel inguinal region ( body str...</td>\n",
       "    </tr>\n",
       "    <tr>\n",
       "      <th>1029053</th>\n",
       "      <td>tissue specimen leave breast ( specimen )</td>\n",
       "    </tr>\n",
       "    <tr>\n",
       "      <th>1026100</th>\n",
       "      <td>structure cartilaginous portion leave pharyngo...</td>\n",
       "    </tr>\n",
       "    <tr>\n",
       "      <th>1029111</th>\n",
       "      <td>extensor tendon leave foot</td>\n",
       "    </tr>\n",
       "    <tr>\n",
       "      <th>1028890</th>\n",
       "      <td>disorder right femur follow poliomyelitis ( di...</td>\n",
       "    </tr>\n",
       "    <tr>\n",
       "      <th>...</th>\n",
       "      <td>...</td>\n",
       "    </tr>\n",
       "    <tr>\n",
       "      <th>1030781</th>\n",
       "      <td>self-reported crq ( chronic respiratory questi...</td>\n",
       "    </tr>\n",
       "    <tr>\n",
       "      <th>1032654</th>\n",
       "      <td>fluoroscopic lymphangiography leave half pelvi...</td>\n",
       "    </tr>\n",
       "    <tr>\n",
       "      <th>1032222</th>\n",
       "      <td>specimen head</td>\n",
       "    </tr>\n",
       "    <tr>\n",
       "      <th>1025464</th>\n",
       "      <td>entire parietopontine fiber</td>\n",
       "    </tr>\n",
       "    <tr>\n",
       "      <th>1031298</th>\n",
       "      <td>history traumatic intraparenchymal cerebral he...</td>\n",
       "    </tr>\n",
       "  </tbody>\n",
       "</table>\n",
       "<p>2000 rows × 1 columns</p>\n",
       "</div>"
      ],
      "text/plain": [
       "                                                       STR\n",
       "1030621  entire blood vessel inguinal region ( body str...\n",
       "1029053          tissue specimen leave breast ( specimen )\n",
       "1026100  structure cartilaginous portion leave pharyngo...\n",
       "1029111                         extensor tendon leave foot\n",
       "1028890  disorder right femur follow poliomyelitis ( di...\n",
       "...                                                    ...\n",
       "1030781  self-reported crq ( chronic respiratory questi...\n",
       "1032654  fluoroscopic lymphangiography leave half pelvi...\n",
       "1032222                                      specimen head\n",
       "1025464                        entire parietopontine fiber\n",
       "1031298  history traumatic intraparenchymal cerebral he...\n",
       "\n",
       "[2000 rows x 1 columns]"
      ]
     },
     "execution_count": 175,
     "metadata": {},
     "output_type": "execute_result"
    }
   ],
   "source": [
    "test_df"
   ]
  },
  {
   "cell_type": "code",
   "execution_count": 176,
   "metadata": {},
   "outputs": [
    {
     "data": {
      "application/vnd.microsoft.datawrangler.viewer.v0+json": {
       "columns": [
        {
         "name": "index",
         "rawType": "int64",
         "type": "integer"
        },
        {
         "name": "CODE",
         "rawType": "object",
         "type": "string"
        },
        {
         "name": "STR",
         "rawType": "object",
         "type": "string"
        }
       ],
       "ref": "7c673f2d-a181-43d4-bf84-81765b366f41",
       "rows": [
        [
         "1033623",
         "343351000119105",
         "bilateral glaukomflecken"
        ],
        [
         "1025930",
         "1300137003",
         "adverse reaction tenecteplase"
        ],
        [
         "1026039",
         "1303097003",
         "coordination resource address homelessness"
        ],
        [
         "1030456",
         "52041000087106",
         "swab genital ulcer"
        ],
        [
         "1031038",
         "1332390002",
         "implantable cardiac defibrillator component ( physical object )"
        ],
        [
         "1030302",
         "1334014002",
         "percutaneous injection sclerosing agent bilateral great saphenous vein use ultrasound guidance"
        ],
        [
         "1033198",
         "46221000087106",
         "fracture phalanx leave third toe"
        ],
        [
         "1032314",
         "686321000119108",
         "primary malignant fibrous histiocytoma soft tissue hip ( disorder )"
        ],
        [
         "1027877",
         "1304201007",
         "physiotherapist neurology"
        ],
        [
         "1026371",
         "1303261003",
         "product contain guaifenesin levomenthol ( medicinal product )"
        ],
        [
         "1030235",
         "1333981007",
         "fluoroscopic direct puncture venography bilateral orbit contrast"
        ],
        [
         "1024537",
         "15669001000119106",
         "congenital absence bilateral pectoral muscle ( disorder )"
        ],
        [
         "1026957",
         "1303615008",
         "structure tendon sheath flexor pollicis longus within right thumb"
        ],
        [
         "1030274",
         "1334004006",
         "mark skin right carotid artery use ultrasound guidance"
        ],
        [
         "1033898",
         "1343303003",
         "durie-salmon staging system ( tumor stag )"
        ],
        [
         "1030753",
         "314231000119103",
         "traumatic myositis ossificans leave thigh"
        ],
        [
         "1032193",
         "1335906002",
         "rivaroxaban therapy ( procedure )"
        ],
        [
         "1034148",
         "1075431000202104",
         "product contain precisely empagliflozin 5 milligram metformin hydrochloride 850 milligram/1 conventional release oral tablet ( clinical drug )"
        ],
        [
         "1028998",
         "1331962009",
         "structure principal gastric gland stomach body"
        ],
        [
         "1032929",
         "1338039000",
         "ceftazidime therapy ( procedure )"
        ],
        [
         "1033660",
         "43001000087102",
         "foreign body leave breast"
        ],
        [
         "1031243",
         "15673681000119103",
         "foreign body granuloma soft tissue bilateral shoulder"
        ],
        [
         "1030890",
         "16005151000119101",
         "palindromic rheumatism joint shoulder region"
        ],
        [
         "1033348",
         "43311000087102",
         "foreign body right eye region ( disorder )"
        ],
        [
         "1031016",
         "53931000087108",
         "history amputation bilateral fifth toe ( situation )"
        ],
        [
         "1034194",
         "801141000124103",
         "congenital radioulnar synostosis leave arm"
        ],
        [
         "1024579",
         "318581000119107",
         "acquire postural hyperlordosis deformity lumbar sacral spine ( disorder )"
        ],
        [
         "1029647",
         "1333954007",
         "diffusion weight mri bilateral breast"
        ],
        [
         "1026288",
         "12217561000119107",
         "fracture bone adjacent leave elbow joint prosthesis ( disorder )"
        ],
        [
         "1025087",
         "1295522006",
         "ischemic anterior cord syndrome"
        ],
        [
         "1029237",
         "11777211000119105",
         "laceration leave triceps brachii muscle"
        ],
        [
         "1032203",
         "1335912007",
         "product contain precisely perindopril arginine 2.5 milligram/1 conventional release oral tablet ( clinical drug )"
        ],
        [
         "1025667",
         "15673841000119109",
         "infective myositis shoulder"
        ],
        [
         "1033562",
         "1340081007",
         "primary vaccination series"
        ],
        [
         "1028986",
         "1331957008",
         "excisional biopsy bone rib ( procedure )"
        ],
        [
         "1027497",
         "12199321000119100",
         "infection associate prosthetic joint leave wrist region"
        ],
        [
         "1034164",
         "781091000124107",
         "follow-up within 6 month ( find )"
        ],
        [
         "1028348",
         "1306573008",
         "infiltrate duct carcinoma lower outer quadrant right breast ( disorder )"
        ],
        [
         "1034293",
         "841311000124105",
         "target joint leave hip"
        ],
        [
         "1032686",
         "1336167003",
         "patient transfer operating room"
        ],
        [
         "1028762",
         "1306879000",
         "open angle glaucoma eye due ocular surgery"
        ],
        [
         "1025656",
         "1296941009",
         "presence direct invasion primary malignant neoplasm uterine adnexa surface right ovary"
        ],
        [
         "1028724",
         "1306844002",
         "allergy cetuximab due alpha-gal syndrome ( find )"
        ],
        [
         "1031382",
         "15722041000119101",
         "infective bursitis knee"
        ],
        [
         "1028254",
         "1306508000",
         "primary malignant neoplasm central portion leave breast ( disorder )"
        ],
        [
         "1030118",
         "1332174006",
         "structure lymphatic vessel right knee region ( body structure )"
        ],
        [
         "1033538",
         "1340072001",
         "find vaccine product"
        ],
        [
         "1026776",
         "1303458001",
         "moderate bronchopulmonary dysplasia newborn"
        ],
        [
         "1026382",
         "1303266008",
         "structure digital vessel right hand"
        ],
        [
         "1029522",
         "1333926000",
         "compute tomography arthrography right hip contrast ( procedure )"
        ]
       ],
       "shape": {
        "columns": 2,
        "rows": 8000
       }
      },
      "text/html": [
       "<div>\n",
       "<style scoped>\n",
       "    .dataframe tbody tr th:only-of-type {\n",
       "        vertical-align: middle;\n",
       "    }\n",
       "\n",
       "    .dataframe tbody tr th {\n",
       "        vertical-align: top;\n",
       "    }\n",
       "\n",
       "    .dataframe thead th {\n",
       "        text-align: right;\n",
       "    }\n",
       "</style>\n",
       "<table border=\"1\" class=\"dataframe\">\n",
       "  <thead>\n",
       "    <tr style=\"text-align: right;\">\n",
       "      <th></th>\n",
       "      <th>CODE</th>\n",
       "      <th>STR</th>\n",
       "    </tr>\n",
       "  </thead>\n",
       "  <tbody>\n",
       "    <tr>\n",
       "      <th>1033623</th>\n",
       "      <td>343351000119105</td>\n",
       "      <td>bilateral glaukomflecken</td>\n",
       "    </tr>\n",
       "    <tr>\n",
       "      <th>1025930</th>\n",
       "      <td>1300137003</td>\n",
       "      <td>adverse reaction tenecteplase</td>\n",
       "    </tr>\n",
       "    <tr>\n",
       "      <th>1026039</th>\n",
       "      <td>1303097003</td>\n",
       "      <td>coordination resource address homelessness</td>\n",
       "    </tr>\n",
       "    <tr>\n",
       "      <th>1030456</th>\n",
       "      <td>52041000087106</td>\n",
       "      <td>swab genital ulcer</td>\n",
       "    </tr>\n",
       "    <tr>\n",
       "      <th>1031038</th>\n",
       "      <td>1332390002</td>\n",
       "      <td>implantable cardiac defibrillator component ( ...</td>\n",
       "    </tr>\n",
       "    <tr>\n",
       "      <th>...</th>\n",
       "      <td>...</td>\n",
       "      <td>...</td>\n",
       "    </tr>\n",
       "    <tr>\n",
       "      <th>1030103</th>\n",
       "      <td>812244171000119104</td>\n",
       "      <td>history atypical fibroxanthoma skin</td>\n",
       "    </tr>\n",
       "    <tr>\n",
       "      <th>1029560</th>\n",
       "      <td>1333939001</td>\n",
       "      <td>ct arthrogram bilateral subtalar joint contrast</td>\n",
       "    </tr>\n",
       "    <tr>\n",
       "      <th>1029759</th>\n",
       "      <td>1332116004</td>\n",
       "      <td>dexketoprofen- tramadol-containing product</td>\n",
       "    </tr>\n",
       "    <tr>\n",
       "      <th>1025229</th>\n",
       "      <td>16054671000119108</td>\n",
       "      <td>paralytic strabismus bilateral eye</td>\n",
       "    </tr>\n",
       "    <tr>\n",
       "      <th>1031639</th>\n",
       "      <td>812500731000119109</td>\n",
       "      <td>chronic candidal vulvovaginitis pregnancy ( di...</td>\n",
       "    </tr>\n",
       "  </tbody>\n",
       "</table>\n",
       "<p>8000 rows × 2 columns</p>\n",
       "</div>"
      ],
      "text/plain": [
       "                       CODE                                                STR\n",
       "1033623     343351000119105                           bilateral glaukomflecken\n",
       "1025930          1300137003                      adverse reaction tenecteplase\n",
       "1026039          1303097003         coordination resource address homelessness\n",
       "1030456      52041000087106                                 swab genital ulcer\n",
       "1031038          1332390002  implantable cardiac defibrillator component ( ...\n",
       "...                     ...                                                ...\n",
       "1030103  812244171000119104                history atypical fibroxanthoma skin\n",
       "1029560          1333939001    ct arthrogram bilateral subtalar joint contrast\n",
       "1029759          1332116004         dexketoprofen- tramadol-containing product\n",
       "1025229   16054671000119108                 paralytic strabismus bilateral eye\n",
       "1031639  812500731000119109  chronic candidal vulvovaginitis pregnancy ( di...\n",
       "\n",
       "[8000 rows x 2 columns]"
      ]
     },
     "execution_count": 176,
     "metadata": {},
     "output_type": "execute_result"
    }
   ],
   "source": [
    "train_df"
   ]
  },
  {
   "cell_type": "code",
   "execution_count": 149,
   "metadata": {},
   "outputs": [
    {
     "name": "stdout",
     "output_type": "stream",
     "text": [
      "Requirement already satisfied: fuzzywuzzy in c:\\users\\jiyaa\\appdata\\local\\programs\\python\\python312\\lib\\site-packages (0.18.0)\n",
      "Note: you may need to restart the kernel to use updated packages.\n"
     ]
    },
    {
     "name": "stderr",
     "output_type": "stream",
     "text": [
      "\n",
      "[notice] A new release of pip is available: 25.0.1 -> 25.2\n",
      "[notice] To update, run: python.exe -m pip install --upgrade pip\n"
     ]
    }
   ],
   "source": [
    "%pip install fuzzywuzzy"
   ]
  },
  {
   "cell_type": "code",
   "execution_count": 177,
   "metadata": {},
   "outputs": [
    {
     "name": "stdout",
     "output_type": "stream",
     "text": [
      "                                            Test_STR Predicted_CODE  \\\n",
      "0  entire blood vessel inguinal region ( body str...     1332251004   \n",
      "1          tissue specimen leave breast ( specimen )     1331991007   \n",
      "2  structure cartilaginous portion leave pharyngo...     1303175002   \n",
      "3                         extensor tendon leave foot     1332027004   \n",
      "4  disorder right femur follow poliomyelitis ( di...     1332311004   \n",
      "\n",
      "                                      Best_Match_STR  Fuzzy_Score  \n",
      "0             structure blood vessel inguinal region           86  \n",
      "1          tissue specimen right breast ( specimen )           86  \n",
      "2  structure lumen cartilaginous portion pharyngo...           95  \n",
      "3                         extensor tendon right foot           81  \n",
      "4   disorder femur follow poliomyelitis ( disorder )           94  \n"
     ]
    }
   ],
   "source": [
    "from fuzzywuzzy import fuzz\n",
    "import pandas as pd\n",
    "\n",
    "def map_to_code(test_df, train_df):\n",
    "    results = []\n",
    "    \n",
    "    for _, test_row in test_df.iterrows():\n",
    "        test_str = test_row[\"STR\"]\n",
    "        \n",
    "        best_score = 0\n",
    "        best_code = None\n",
    "        best_train_str = None\n",
    "        \n",
    "        for _, train_row in train_df.iterrows():\n",
    "            train_str = train_row[\"STR\"]\n",
    "            score = fuzz.token_sort_ratio(test_str, train_str)  # fuzzy score\n",
    "            \n",
    "            if score > best_score:\n",
    "                best_score = score\n",
    "                best_code = train_row[\"CODE\"]\n",
    "                best_train_str = train_str\n",
    "        \n",
    "        results.append({\n",
    "            \"Test_STR\": test_str,\n",
    "            \"Predicted_CODE\": best_code,\n",
    "            \"Best_Match_STR\": best_train_str,\n",
    "            \"Fuzzy_Score\": best_score\n",
    "        })\n",
    "    \n",
    "    return pd.DataFrame(results)\n",
    "\n",
    "# Run mapping\n",
    "mapped_df = map_to_code(test_df, train_df)\n",
    "print(mapped_df.head())\n"
   ]
  },
  {
   "cell_type": "code",
   "execution_count": 179,
   "metadata": {},
   "outputs": [
    {
     "data": {
      "application/vnd.microsoft.datawrangler.viewer.v0+json": {
       "columns": [
        {
         "name": "index",
         "rawType": "int64",
         "type": "integer"
        },
        {
         "name": "Test_STR",
         "rawType": "object",
         "type": "string"
        },
        {
         "name": "Predicted_CODE",
         "rawType": "object",
         "type": "string"
        },
        {
         "name": "Best_Match_STR",
         "rawType": "object",
         "type": "string"
        },
        {
         "name": "Fuzzy_Score",
         "rawType": "int64",
         "type": "integer"
        }
       ],
       "ref": "e6b975dc-2788-47c0-8b0e-5b82ae5185ab",
       "rows": [
        [
         "0",
         "entire blood vessel inguinal region ( body structure )",
         "1332251004",
         "structure blood vessel inguinal region",
         "86"
        ],
        [
         "1",
         "tissue specimen leave breast ( specimen )",
         "1331991007",
         "tissue specimen right breast ( specimen )",
         "86"
        ],
        [
         "2",
         "structure cartilaginous portion leave pharyngotympanic tube",
         "1303175002",
         "structure lumen cartilaginous portion pharyngotympanic tube",
         "95"
        ],
        [
         "3",
         "extensor tendon leave foot",
         "1332027004",
         "extensor tendon right foot",
         "81"
        ],
        [
         "4",
         "disorder right femur follow poliomyelitis ( disorder )",
         "1332311004",
         "disorder femur follow poliomyelitis ( disorder )",
         "94"
        ],
        [
         "5",
         "mri leave calcaneus",
         "52221000087109",
         "mri right calcaneus",
         "68"
        ],
        [
         "6",
         "plain x-ray biliary tract contrast request",
         "1295424005",
         "plain x-ray biliary tract contrast",
         "89"
        ],
        [
         "7",
         "ct arthrogram bilateral wrist contrast",
         "1333942007",
         "ct arthrography bilateral wrist contrast",
         "95"
        ],
        [
         "8",
         "traumatic myositis ossificans right upper arm",
         "15707521000119109",
         "traumatic myositis ossificans upper arm",
         "93"
        ],
        [
         "9",
         "postmortem plain x-ray teeth ( procedure )",
         "1295396002",
         "postmortem plain x-ray ( procedure )",
         "91"
        ],
        [
         "10",
         "adenomatous polyp appendix",
         "1303692005",
         "adenomatous polyp appendix ( disorder )",
         "85"
        ],
        [
         "11",
         "paget disease foot",
         "16034871000119106",
         "paget 's disease foot",
         "95"
        ],
        [
         "12",
         "diffusion weight mri breast",
         "1333953001",
         "diffusion weight mri right breast",
         "90"
        ],
        [
         "13",
         "ultrasonography transplant bilateral kidney contrast",
         "1334077000",
         "ultrasound bilateral transplant kidney contrast",
         "91"
        ],
        [
         "14",
         "european committee antimicrobial susceptibility test category 2019 susceptible , increased exposure",
         "1306583007",
         "( susceptible , increased exposure ) eucast ( european committee antimicrobial susceptibility test ) category 2019",
         "97"
        ],
        [
         "15",
         "quantitative ultrasonography bilateral upper limb ( procedure )",
         "1334057007",
         "quantitative ultrasonography leave upper limb ( procedure )",
         "93"
        ],
        [
         "16",
         "skeletal survey plain x-ray",
         "1295429000",
         "plain x-ray skeletal survey",
         "100"
        ],
        [
         "17",
         "target joint leave knee",
         "841311000124105",
         "target joint leave hip",
         "80"
        ],
        [
         "18",
         "melorheostosis leave rib ( disorder )",
         "1332539002",
         "melorheostosis rib ( disorder )",
         "90"
        ],
        [
         "19",
         "pigment hairy epidermal nevus lip",
         "687501000119106",
         "pigment hairy epidermal nevus ear",
         "88"
        ],
        [
         "20",
         "provision payment housing pest control fee",
         "841201000124104",
         "provision payment housing pest control fee ( procedure )",
         "89"
        ],
        [
         "21",
         "foreign body skin leave forearm infection ( disorder )",
         "11776171000119105",
         "foreign body skin leave forearm infection",
         "90"
        ],
        [
         "22",
         "product contain precisely ibuprofen 150 milligram paracetamol 500 milligram/1 conventional release oral tablet ( clinical drug )",
         "1332524003",
         "product contain precisely indapamide 2.5 milligram perindopril arginine 10 milligram/1 conventional release oral tablet ( clinical drug )",
         "84"
        ],
        [
         "23",
         "entire soft tissue back abdominopelvic segment trunk",
         "1342371007",
         "entire soft tissue back abdominopelvic segment trunk ( body structure )",
         "87"
        ],
        [
         "24",
         "right shoulder tendon laceration",
         "11776571000119101",
         "laceration tendon right shoulder",
         "100"
        ],
        [
         "25",
         "target joint right wrist",
         "841291000124106",
         "target joint leave wrist",
         "79"
        ],
        [
         "26",
         "rupture ligament little finger leave hand ( disorder )",
         "11814181000119105",
         "rupture ligament finger leave hand ( disorder )",
         "92"
        ],
        [
         "27",
         "fluoroscopy trachea contrast ( procedure )",
         "1338009005",
         "fluoroscopy va deferens contrast ( procedure )",
         "80"
        ],
        [
         "28",
         "entire mucous membrane labium majus ( body structure )",
         "1332360009",
         "structure mucous membrane labium majus",
         "86"
        ],
        [
         "29",
         "structure phalanx right little toe",
         "1339081002",
         "structure phalanx right fourth toe",
         "85"
        ],
        [
         "30",
         "plain x-ray sternum",
         "1295280002",
         "plain x-ray toe",
         "82"
        ],
        [
         "31",
         "enucleation right eyeball",
         "1303652008",
         "enucleation right eyeball ( procedure )",
         "83"
        ],
        [
         "32",
         "structure principal gastric gland",
         "1331961002",
         "entire principal gastric gland ( body structure )",
         "85"
        ],
        [
         "33",
         "laceration tendon right shoulder ( disorder )",
         "11776571000119101",
         "laceration tendon right shoulder",
         "88"
        ],
        [
         "34",
         "metastatic spindle cell rhabdomyosarcoma ( disorder )",
         "52201000146102",
         "metastatic spindle cell rhabdomyosarcoma",
         "90"
        ],
        [
         "35",
         "endoscopic vaginal natural orifice transluminal hysterectomy ( procedure )",
         "1304071003",
         "endoscopic vaginal natural orifice transluminal hysterectomy",
         "92"
        ],
        [
         "36",
         "ultrasonography guide right suprascapular nerve block",
         "844541000000109",
         "ultrasonography guide suprascapular nerve block",
         "94"
        ],
        [
         "37",
         "structure flexor tendon within right thigh ( body structure )",
         "1293236004",
         "structure extensor tendon within right thigh ( body structure )",
         "95"
        ],
        [
         "38",
         "infiltrate duct carcinoma upper inner quadrant right breast ( disorder )",
         "1306566003",
         "infiltrate duct carcinoma upper outer quadrant right breast ( disorder )",
         "96"
        ],
        [
         "39",
         "history excision lamina vertebra",
         "53761000087103",
         "history laminectomy",
         "59"
        ],
        [
         "40",
         "product contain precisely amlodipine ( a amlodipine besilate ) 5 milligram perindopril tosilate 10 milligram/1 conventional release oral tablet ( clinical drug )",
         "1332152000",
         "product contain precisely amlodipine ( a amlodipine besilate ) 5 milligram perindopril tosilate 5 milligram/1 conventional release oral tablet ( clinical drug )",
         "99"
        ],
        [
         "41",
         "plain x-ray external auditory canal opening",
         "1293079009",
         "plain x-ray internal auditory canal",
         "85"
        ],
        [
         "42",
         "metastatic lentigo maligna melanoma",
         "140251000146107",
         "metastatic lentigo maligna melanoma",
         "100"
        ],
        [
         "43",
         "complete basic skill train program ( find )",
         "1300114009",
         "education basic skill train program",
         "78"
        ],
        [
         "44",
         "metformin therapy",
         "1340186004",
         "metformin therapy ( procedure )",
         "77"
        ],
        [
         "45",
         "plain x-ray internal acoustic meatus temporal bone ( procedure )",
         "1334084008",
         "plain x-ray sesamoid bone leave foot ( procedure )",
         "66"
        ],
        [
         "46",
         "cut balloon dilation bilateral bronchus use fluoroscopic guidance ( procedure )",
         "1147151000000103",
         "balloon dilation bilateral bronchus use fluoroscopic guidance ( procedure )",
         "97"
        ],
        [
         "47",
         "structure apical inferior segment 16-segment model myocardium leave ventricle",
         "1304193006",
         "structure apical inferior segment 18-segment model myocardium leave ventricle",
         "99"
        ],
        [
         "48",
         "structure lumen osseous portion pharyngotympanic tube",
         "1303182003",
         "structure lumen osseous portion pharyngotympanic tube ( body structure )",
         "88"
        ],
        [
         "49",
         "product contain cetalkonium choline salicylate oromucosal dose form ( medicinal product form )",
         "1303371004",
         "product contain cetalkonium choline salicylate oromucosal dose form ( medicinal product form )",
         "100"
        ]
       ],
       "shape": {
        "columns": 4,
        "rows": 2000
       }
      },
      "text/html": [
       "<div>\n",
       "<style scoped>\n",
       "    .dataframe tbody tr th:only-of-type {\n",
       "        vertical-align: middle;\n",
       "    }\n",
       "\n",
       "    .dataframe tbody tr th {\n",
       "        vertical-align: top;\n",
       "    }\n",
       "\n",
       "    .dataframe thead th {\n",
       "        text-align: right;\n",
       "    }\n",
       "</style>\n",
       "<table border=\"1\" class=\"dataframe\">\n",
       "  <thead>\n",
       "    <tr style=\"text-align: right;\">\n",
       "      <th></th>\n",
       "      <th>Test_STR</th>\n",
       "      <th>Predicted_CODE</th>\n",
       "      <th>Best_Match_STR</th>\n",
       "      <th>Fuzzy_Score</th>\n",
       "    </tr>\n",
       "  </thead>\n",
       "  <tbody>\n",
       "    <tr>\n",
       "      <th>0</th>\n",
       "      <td>entire blood vessel inguinal region ( body str...</td>\n",
       "      <td>1332251004</td>\n",
       "      <td>structure blood vessel inguinal region</td>\n",
       "      <td>86</td>\n",
       "    </tr>\n",
       "    <tr>\n",
       "      <th>1</th>\n",
       "      <td>tissue specimen leave breast ( specimen )</td>\n",
       "      <td>1331991007</td>\n",
       "      <td>tissue specimen right breast ( specimen )</td>\n",
       "      <td>86</td>\n",
       "    </tr>\n",
       "    <tr>\n",
       "      <th>2</th>\n",
       "      <td>structure cartilaginous portion leave pharyngo...</td>\n",
       "      <td>1303175002</td>\n",
       "      <td>structure lumen cartilaginous portion pharyngo...</td>\n",
       "      <td>95</td>\n",
       "    </tr>\n",
       "    <tr>\n",
       "      <th>3</th>\n",
       "      <td>extensor tendon leave foot</td>\n",
       "      <td>1332027004</td>\n",
       "      <td>extensor tendon right foot</td>\n",
       "      <td>81</td>\n",
       "    </tr>\n",
       "    <tr>\n",
       "      <th>4</th>\n",
       "      <td>disorder right femur follow poliomyelitis ( di...</td>\n",
       "      <td>1332311004</td>\n",
       "      <td>disorder femur follow poliomyelitis ( disorder )</td>\n",
       "      <td>94</td>\n",
       "    </tr>\n",
       "    <tr>\n",
       "      <th>...</th>\n",
       "      <td>...</td>\n",
       "      <td>...</td>\n",
       "      <td>...</td>\n",
       "      <td>...</td>\n",
       "    </tr>\n",
       "    <tr>\n",
       "      <th>1995</th>\n",
       "      <td>self-reported crq ( chronic respiratory questi...</td>\n",
       "      <td>1332319002</td>\n",
       "      <td>crq-sr ( chronic respiratory questionnaire sel...</td>\n",
       "      <td>98</td>\n",
       "    </tr>\n",
       "    <tr>\n",
       "      <th>1996</th>\n",
       "      <td>fluoroscopic lymphangiography leave half pelvi...</td>\n",
       "      <td>1336156004</td>\n",
       "      <td>fluoroscopic lymphangiogram leave half pelvis ...</td>\n",
       "      <td>96</td>\n",
       "    </tr>\n",
       "    <tr>\n",
       "      <th>1997</th>\n",
       "      <td>specimen head</td>\n",
       "      <td>1343301001</td>\n",
       "      <td>eyelash specimen</td>\n",
       "      <td>69</td>\n",
       "    </tr>\n",
       "    <tr>\n",
       "      <th>1998</th>\n",
       "      <td>entire parietopontine fiber</td>\n",
       "      <td>1296815002</td>\n",
       "      <td>entire frontopontine fiber</td>\n",
       "      <td>87</td>\n",
       "    </tr>\n",
       "    <tr>\n",
       "      <th>1999</th>\n",
       "      <td>history traumatic intraparenchymal cerebral he...</td>\n",
       "      <td>350918091000119101</td>\n",
       "      <td>history traumatic intraparenchymal cerebral he...</td>\n",
       "      <td>92</td>\n",
       "    </tr>\n",
       "  </tbody>\n",
       "</table>\n",
       "<p>2000 rows × 4 columns</p>\n",
       "</div>"
      ],
      "text/plain": [
       "                                               Test_STR      Predicted_CODE  \\\n",
       "0     entire blood vessel inguinal region ( body str...          1332251004   \n",
       "1             tissue specimen leave breast ( specimen )          1331991007   \n",
       "2     structure cartilaginous portion leave pharyngo...          1303175002   \n",
       "3                            extensor tendon leave foot          1332027004   \n",
       "4     disorder right femur follow poliomyelitis ( di...          1332311004   \n",
       "...                                                 ...                 ...   \n",
       "1995  self-reported crq ( chronic respiratory questi...          1332319002   \n",
       "1996  fluoroscopic lymphangiography leave half pelvi...          1336156004   \n",
       "1997                                      specimen head          1343301001   \n",
       "1998                        entire parietopontine fiber          1296815002   \n",
       "1999  history traumatic intraparenchymal cerebral he...  350918091000119101   \n",
       "\n",
       "                                         Best_Match_STR  Fuzzy_Score  \n",
       "0                structure blood vessel inguinal region           86  \n",
       "1             tissue specimen right breast ( specimen )           86  \n",
       "2     structure lumen cartilaginous portion pharyngo...           95  \n",
       "3                            extensor tendon right foot           81  \n",
       "4      disorder femur follow poliomyelitis ( disorder )           94  \n",
       "...                                                 ...          ...  \n",
       "1995  crq-sr ( chronic respiratory questionnaire sel...           98  \n",
       "1996  fluoroscopic lymphangiogram leave half pelvis ...           96  \n",
       "1997                                   eyelash specimen           69  \n",
       "1998                         entire frontopontine fiber           87  \n",
       "1999  history traumatic intraparenchymal cerebral he...           92  \n",
       "\n",
       "[2000 rows x 4 columns]"
      ]
     },
     "execution_count": 179,
     "metadata": {},
     "output_type": "execute_result"
    }
   ],
   "source": [
    "mapped_df"
   ]
  },
  {
   "cell_type": "markdown",
   "metadata": {},
   "source": [
    "## rxnorm training"
   ]
  },
  {
   "cell_type": "code",
   "execution_count": null,
   "metadata": {},
   "outputs": [],
   "source": [
    "df1 = df_rxnorm.tail(1000)"
   ]
  },
  {
   "cell_type": "code",
   "execution_count": null,
   "metadata": {},
   "outputs": [],
   "source": [
    "train_df, test_df = train_test_split(df1, test_size=0.2, random_state=42, shuffle=True)\n"
   ]
  },
  {
   "cell_type": "code",
   "execution_count": null,
   "metadata": {},
   "outputs": [],
   "source": [
    "test_df = test_df.drop(columns = [\"CUI\",\"CODE\",\"STY\",\"TTY\",\"System\"])\n",
    "train_df = train_df.drop(columns = [\"CUI\",\"TTY\",\"STY\",\"System\"])"
   ]
  },
  {
   "cell_type": "code",
   "execution_count": null,
   "metadata": {},
   "outputs": [
    {
     "data": {
      "application/vnd.microsoft.datawrangler.viewer.v0+json": {
       "columns": [
        {
         "name": "index",
         "rawType": "int64",
         "type": "integer"
        },
        {
         "name": "STR",
         "rawType": "object",
         "type": "string"
        }
       ],
       "ref": "735a6447-25ce-4fcc-a759-db3c8582088e",
       "rows": [
        [
         "379409",
         "chloroxylenol 0.35 % medicate liquid soap"
        ],
        [
         "379625",
         "seladelpar 10 mg oral capsule"
        ],
        [
         "379628",
         "lazertinib 80 mg oral tablet"
        ],
        [
         "379548",
         "nikita"
        ],
        [
         "379299",
         "camphor 0.06 mg/mg / menthol 0.019 mg/mg / methyl salicylate 0.1 mg/mg topical ointment"
        ],
        [
         "379566",
         "onyda"
        ],
        [
         "379514",
         "piper excelsum leaf extract"
        ],
        [
         "379401",
         "nikita 4 mg oral tablet"
        ],
        [
         "379747",
         "sars-cov-2 ( covid-19 ) vaccine , mrna-1273 omicron ( kp.2 ) prefilled syringe [ spikevax 2024-2025 ]"
        ],
        [
         "379024",
         "lumakras 240 mg oral tablet"
        ],
        [
         "379699",
         "vorasidenib 40 mg [ voranigo ]"
        ],
        [
         "378964",
         "fluarix 2024-2025 vaccine 0.5 ml prefilled syringe"
        ],
        [
         "379524",
         "0.2 ml adalimumab-ryvk 100 mg/ml prefilled syringe"
        ],
        [
         "379861",
         "sars-cov-2 ( covid-19 ) vaccine , mrna-bnt162b2 omicron ( kp.2 ) prefilled syringe"
        ],
        [
         "379826",
         "salicylic acid 0.063 mg/mg"
        ],
        [
         "379787",
         "methotrexate 100 mg/ml injection"
        ],
        [
         "379168",
         "donanemab-azbt"
        ],
        [
         "379771",
         "livdelzi oral product"
        ],
        [
         "379649",
         "0.3 ml sars-cov-2 ( covid-19 ) vaccine , mrna-bnt162b2 omicron ( kp.2 ) 0.1 mg/ml prefilled syringe"
        ],
        [
         "379207",
         "arginine 9.2 mg/ml"
        ],
        [
         "379437",
         "crexont 70 mg / 280 mg extend release oral capsule"
        ],
        [
         "379062",
         "tadalafil 20 mg chewable tablet [ chewtadzy ]"
        ],
        [
         "379259",
         "afluria 2024-2025 vaccine prefilled syringe"
        ],
        [
         "379415",
         "camphor 3 % / menthol 10 % / methyl salicylate 25 % topical ointment"
        ],
        [
         "379098",
         "felanorm"
        ],
        [
         "379123",
         "influenza virus a/california/122/2022 ( h3n2 ) antigen / influenza virus a/victoria/4897/2022 ( h1n1 ) antigen / influenza b virus b/michigan/01/2021 antigen injectable product"
        ],
        [
         "378989",
         "streptococcus pneumoniae serotype 17f capsular antigen diphtheria crm197 protein conjugate vaccine 0.008 mg/ml"
        ],
        [
         "379874",
         "biotin / minoxidil topical product"
        ],
        [
         "379790",
         "clonidine hydrochloride 0.1 mg/ml extend release suspension"
        ],
        [
         "379835",
         "sars-cov-2 ( covid-19 ) vaccine , mrna-bnt162b2 omicron ( kp.2 ) 0.1 mg/ml"
        ],
        [
         "379234",
         "influenza virus ( h1n1 ) antigen / influenza virus ( h3n2 ) antigen / influenza b virus antigen injectable suspension [ fluzone 2024-2025 ]"
        ],
        [
         "379027",
         "1 daytime ( acetaminophen 325 mg / dextromethorphan hbr 10 mg 15 ml oral solution ) / 1 nighttime ( acetaminophen 325 mg / dextromethorphan hbr 10 mg / doxylamine succinate 6.25 mg 15 ml oral solution ) pack"
        ],
        [
         "379509",
         "spikevax 2024-2025 vaccine , 0.5 ml injection , 12y+"
        ],
        [
         "379387",
         "posfrea 0.075 mg per 1.5 ml injection"
        ],
        [
         "379258",
         "influenza virus a/thailand/8/2022 ( h3n2 ) antigen 0.03 mg/ml / influenza virus a/victoria/4897/2022 ( h1n1 ) antigen 0.03 mg/ml / influenza b virus b/austria/1359417/2021 antigen 0.03 mg/ml prefilled syringe [ afluria 2024-2025 ]"
        ],
        [
         "379086",
         "methimazole 5 mg/ml"
        ],
        [
         "379575",
         "comirnaty 2024-2025"
        ],
        [
         "379472",
         "dolobid 375 mg oral tablet"
        ],
        [
         "379789",
         "clonidine hydrochloride 0.1 mg/ml extend release suspension"
        ],
        [
         "378947",
         "streptococcus pneumoniae serotype 15b ( de-o-acetylated ) capsular antigen diphtheria crm197 protein conjugate vaccine"
        ],
        [
         "379216",
         "proline 5.44 mg/ml"
        ],
        [
         "378984",
         "streptococcus pneumoniae serotype 11a capsular antigen diphtheria crm197 protein conjugate vaccine 0.008 mg/ml"
        ],
        [
         "379200",
         "camphor 100 mg/ml / menthol 80 mg/ml topical spray"
        ],
        [
         "379862",
         "influenza virus a/norway/31694/2022 ( h1n1 ) antigen / influenza virus a/thailand/8/2022 ( h3n2 ) antigen / influenza b virus b/austria/1359417/2021 antigen nasal spray"
        ],
        [
         "379187",
         "kisunla 350 mg 20 ml injection"
        ],
        [
         "379165",
         "flublok 2024-2025 vaccine prefilled syringe"
        ],
        [
         "379812",
         "carbidopa 52.5 mg"
        ],
        [
         "379489",
         "maropitant 16 mg oral tablet [ emeprev ]"
        ],
        [
         "379327",
         "fluzone quadrivalent 2024-2025"
        ],
        [
         "379725",
         "afamitresgene autoleucel injection [ tecelra ]"
        ]
       ],
       "shape": {
        "columns": 1,
        "rows": 200
       }
      },
      "text/html": [
       "<div>\n",
       "<style scoped>\n",
       "    .dataframe tbody tr th:only-of-type {\n",
       "        vertical-align: middle;\n",
       "    }\n",
       "\n",
       "    .dataframe tbody tr th {\n",
       "        vertical-align: top;\n",
       "    }\n",
       "\n",
       "    .dataframe thead th {\n",
       "        text-align: right;\n",
       "    }\n",
       "</style>\n",
       "<table border=\"1\" class=\"dataframe\">\n",
       "  <thead>\n",
       "    <tr style=\"text-align: right;\">\n",
       "      <th></th>\n",
       "      <th>STR</th>\n",
       "    </tr>\n",
       "  </thead>\n",
       "  <tbody>\n",
       "    <tr>\n",
       "      <th>379409</th>\n",
       "      <td>chloroxylenol 0.35 % medicate liquid soap</td>\n",
       "    </tr>\n",
       "    <tr>\n",
       "      <th>379625</th>\n",
       "      <td>seladelpar 10 mg oral capsule</td>\n",
       "    </tr>\n",
       "    <tr>\n",
       "      <th>379628</th>\n",
       "      <td>lazertinib 80 mg oral tablet</td>\n",
       "    </tr>\n",
       "    <tr>\n",
       "      <th>379548</th>\n",
       "      <td>nikita</td>\n",
       "    </tr>\n",
       "    <tr>\n",
       "      <th>379299</th>\n",
       "      <td>camphor 0.06 mg/mg / menthol 0.019 mg/mg / met...</td>\n",
       "    </tr>\n",
       "    <tr>\n",
       "      <th>...</th>\n",
       "      <td>...</td>\n",
       "    </tr>\n",
       "    <tr>\n",
       "      <th>379296</th>\n",
       "      <td>salicylic acid 15 % medicate patch</td>\n",
       "    </tr>\n",
       "    <tr>\n",
       "      <th>379220</th>\n",
       "      <td>tyrosine 0.32 mg/ml</td>\n",
       "    </tr>\n",
       "    <tr>\n",
       "      <th>379096</th>\n",
       "      <td>methimazole 5 mg per 1 ml oral solution</td>\n",
       "    </tr>\n",
       "    <tr>\n",
       "      <th>379501</th>\n",
       "      <td>nemolizumab-ilto 30 mg auto-injector [ nemluvio ]</td>\n",
       "    </tr>\n",
       "    <tr>\n",
       "      <th>378966</th>\n",
       "      <td>influenza virus a/thailand/8/2022 ( h3n2 ) ant...</td>\n",
       "    </tr>\n",
       "  </tbody>\n",
       "</table>\n",
       "<p>200 rows × 1 columns</p>\n",
       "</div>"
      ],
      "text/plain": [
       "                                                      STR\n",
       "379409          chloroxylenol 0.35 % medicate liquid soap\n",
       "379625                      seladelpar 10 mg oral capsule\n",
       "379628                       lazertinib 80 mg oral tablet\n",
       "379548                                             nikita\n",
       "379299  camphor 0.06 mg/mg / menthol 0.019 mg/mg / met...\n",
       "...                                                   ...\n",
       "379296                 salicylic acid 15 % medicate patch\n",
       "379220                                tyrosine 0.32 mg/ml\n",
       "379096            methimazole 5 mg per 1 ml oral solution\n",
       "379501  nemolizumab-ilto 30 mg auto-injector [ nemluvio ]\n",
       "378966  influenza virus a/thailand/8/2022 ( h3n2 ) ant...\n",
       "\n",
       "[200 rows x 1 columns]"
      ]
     },
     "metadata": {},
     "output_type": "display_data"
    }
   ],
   "source": [
    "test_df"
   ]
  },
  {
   "cell_type": "code",
   "execution_count": null,
   "metadata": {},
   "outputs": [
    {
     "data": {
      "application/vnd.microsoft.datawrangler.viewer.v0+json": {
       "columns": [
        {
         "name": "index",
         "rawType": "int64",
         "type": "integer"
        },
        {
         "name": "CODE",
         "rawType": "object",
         "type": "string"
        },
        {
         "name": "STR",
         "rawType": "object",
         "type": "string"
        }
       ],
       "ref": "6da2d416-437c-4e67-8d2a-ffa72b913bfb",
       "rows": [
        [
         "378917",
         "2686918",
         "streptococcus pneumoniae serotype 16f capsular antigen diphtheria crm197 protein conjugate vaccine"
        ],
        [
         "379423",
         "2689928",
         "cyclosporine , modify 100 mg/ml oral solution [ modulis ]"
        ],
        [
         "379583",
         "2691151",
         "lazertinib mesylate"
        ],
        [
         "379445",
         "2690642",
         "zunveyl 10 mg delay release oral tablet"
        ],
        [
         "379724",
         "2690264",
         "carbidopa / levodopa extend release oral capsule [ crexont ]"
        ],
        [
         "379484",
         "2691162",
         "lazcluze 80 mg oral tablet"
        ],
        [
         "379053",
         "2687295",
         "chewtadzy pill"
        ],
        [
         "379806",
         "2689323",
         "sofpironium 72 mg/actuat"
        ],
        [
         "379383",
         "2688831",
         "fluzone quadrivalent 2024-2025 high dose vaccine 0.7 ml prefilled syringe"
        ],
        [
         "379712",
         "2691293",
         "maropitant 24 mg [ emeprev ]"
        ],
        [
         "378953",
         "2686931",
         "influenza virus vaccine 2024-2025 ( thailand/victoria/austria ) 0.5 ml prefilled syringe"
        ],
        [
         "379029",
         "2687219",
         "ensifentrine inhalant product"
        ],
        [
         "379813",
         "2690278",
         "levodopa 210 mg"
        ],
        [
         "379715",
         "2691318",
         "nemolizumab-ilto 30 mg [ nemluvio ]"
        ],
        [
         "379543",
         "2690661",
         "vorasidenib 40 mg oral tablet"
        ],
        [
         "379219",
         "2688039",
         "tryptophan 1.44 mg/ml"
        ],
        [
         "379552",
         "2689291",
         "letybo"
        ],
        [
         "379137",
         "2687728",
         "influenza virus a/california/122/2022 ( h3n2 ) antigen / influenza virus a/victoria/4897/2022 ( h1n1 ) antigen / influenza b virus b/michigan/01/2021 antigen prefilled syringe [ fluzone 2024-2025 ]"
        ],
        [
         "379795",
         "2691216",
         "sars-cov-2 ( covid-19 ) vaccine , mrna-bnt162b2 omicron ( kp.2 ) 0.1 mg/ml injection"
        ],
        [
         "379596",
         "2688832",
         "fluzone quadrivalent 2024-2025 high dose vaccine prefilled syringe"
        ],
        [
         "379193",
         "2688017",
         "cupric chloride 1.07 mg/ml injection"
        ],
        [
         "379622",
         "2690290",
         "carbidopa 87.5 mg / levodopa 350 mg extend release oral capsule"
        ],
        [
         "379863",
         "2691324",
         "nemolizumab-ilto auto-injector"
        ],
        [
         "378937",
         "2686925",
         "streptococcus pneumoniae serotype 35b capsular antigen diphtheria crm197 protein conjugate vaccine"
        ],
        [
         "379784",
         "2688948",
         "dibasic potassium phosphate 4.72 mg/ml / monobasic potassium phosphate 4.48 mg/ml injection"
        ],
        [
         "378890",
         "2686632",
         "crovalimab-akkz injection [ piasky ]"
        ],
        [
         "379432",
         "2690281",
         "crexont ( carbidopa 52.5 mg / levodopa 210 mg ) extend release oral capsule"
        ],
        [
         "379238",
         "2688053",
         "fluzone 2024-2025 trivalent vaccine injectable suspension"
        ],
        [
         "379792",
         "2691186",
         "sars-cov-2 ( covid-19 ) vaccine , mrna-1273 omicron ( kp.2 ) 0.1 mg/ml injection"
        ],
        [
         "379424",
         "2689928",
         "cyclosporine , modify 100 mg/ml oral solution [ modulis ]"
        ],
        [
         "379232",
         "2688049",
         "influenza virus vaccine 2024-2025 ( trivalent - california/victoria/michigan ) injectable suspension"
        ],
        [
         "379882",
         "2690725",
         "clonidine hydrochloride oral liquid product"
        ],
        [
         "379369",
         "2691308",
         "flumist 2024-2025 formula nasal spray"
        ],
        [
         "379463",
         "2691006",
         "salicylic acid 6.3 % topical gel"
        ],
        [
         "378921",
         "2686919",
         "streptococcus pneumoniae serotype 17f capsular antigen diphtheria crm197 protein conjugate vaccine"
        ],
        [
         "378919",
         "2686919",
         "streptococcus pneumoniae serotype 17f capsular antigen diphtheria crm197 protein conjugate vaccine"
        ],
        [
         "379119",
         "2687714",
         "influenza virus a/massachusetts/18/2022 ( h3n2 ) antigen"
        ],
        [
         "379851",
         "2691323",
         "nemolizumab auto-injector"
        ],
        [
         "379080",
         "2687364",
         "fluad 2024-2025 vaccine 0.5 ml prefilled syringe"
        ],
        [
         "379221",
         "2688041",
         "valine 4.64 mg/ml"
        ],
        [
         "378891",
         "2686633",
         "2 ml crovalimab-akkz 170 mg/ml injection [ piasky ]"
        ],
        [
         "379092",
         "2687699",
         "methimazole 5 mg/ml oral solution"
        ],
        [
         "379402",
         "2689128",
         "camphor 5 mg/ml / menthol 30 mg/ml topical solution"
        ],
        [
         "379687",
         "2689329",
         "sofpironium 72 mg/actuat [ sofdra ]"
        ],
        [
         "379194",
         "2688020",
         "sodium hydrolyze potato starch dodecenylsuccinate"
        ],
        [
         "378997",
         "2686967",
         "streptococcus pneumoniae serotype 33f capsular antigen diphtheria crm197 protein conjugate vaccine 0.008 mg/ml"
        ],
        [
         "379318",
         "2688632",
         "vancomycin 1750 mg injection"
        ],
        [
         "378965",
         "2686938",
         "fluarix 2024-2025 vaccine 0.5 ml prefilled syringe"
        ],
        [
         "378972",
         "2686943",
         "influenza virus ( h1n1 ) antigen / influenza virus ( h3n2 ) antigen / influenza b virus antigen prefilled syringe [ flulaval 2024-2025 ]"
        ],
        [
         "379174",
         "2687972",
         "20 ml donanemab-azbt 17.5 mg/ml injection"
        ]
       ],
       "shape": {
        "columns": 2,
        "rows": 800
       }
      },
      "text/html": [
       "<div>\n",
       "<style scoped>\n",
       "    .dataframe tbody tr th:only-of-type {\n",
       "        vertical-align: middle;\n",
       "    }\n",
       "\n",
       "    .dataframe tbody tr th {\n",
       "        vertical-align: top;\n",
       "    }\n",
       "\n",
       "    .dataframe thead th {\n",
       "        text-align: right;\n",
       "    }\n",
       "</style>\n",
       "<table border=\"1\" class=\"dataframe\">\n",
       "  <thead>\n",
       "    <tr style=\"text-align: right;\">\n",
       "      <th></th>\n",
       "      <th>CODE</th>\n",
       "      <th>STR</th>\n",
       "    </tr>\n",
       "  </thead>\n",
       "  <tbody>\n",
       "    <tr>\n",
       "      <th>378917</th>\n",
       "      <td>2686918</td>\n",
       "      <td>streptococcus pneumoniae serotype 16f capsular...</td>\n",
       "    </tr>\n",
       "    <tr>\n",
       "      <th>379423</th>\n",
       "      <td>2689928</td>\n",
       "      <td>cyclosporine , modify 100 mg/ml oral solution ...</td>\n",
       "    </tr>\n",
       "    <tr>\n",
       "      <th>379583</th>\n",
       "      <td>2691151</td>\n",
       "      <td>lazertinib mesylate</td>\n",
       "    </tr>\n",
       "    <tr>\n",
       "      <th>379445</th>\n",
       "      <td>2690642</td>\n",
       "      <td>zunveyl 10 mg delay release oral tablet</td>\n",
       "    </tr>\n",
       "    <tr>\n",
       "      <th>379724</th>\n",
       "      <td>2690264</td>\n",
       "      <td>carbidopa / levodopa extend release oral capsu...</td>\n",
       "    </tr>\n",
       "    <tr>\n",
       "      <th>...</th>\n",
       "      <td>...</td>\n",
       "      <td>...</td>\n",
       "    </tr>\n",
       "    <tr>\n",
       "      <th>378994</th>\n",
       "      <td>2686964</td>\n",
       "      <td>streptococcus pneumoniae serotype 23b capsular...</td>\n",
       "    </tr>\n",
       "    <tr>\n",
       "      <th>379158</th>\n",
       "      <td>2687740</td>\n",
       "      <td>influenza virus ( h1n1 ) antigen / influenza v...</td>\n",
       "    </tr>\n",
       "    <tr>\n",
       "      <th>379748</th>\n",
       "      <td>2691188</td>\n",
       "      <td>sars-cov-2 ( covid-19 ) vaccine , mrna-1273 om...</td>\n",
       "    </tr>\n",
       "    <tr>\n",
       "      <th>379323</th>\n",
       "      <td>2688634</td>\n",
       "      <td>vancomycin ( a vancomycin hydrochloride ) 2 gm...</td>\n",
       "    </tr>\n",
       "    <tr>\n",
       "      <th>378990</th>\n",
       "      <td>2686960</td>\n",
       "      <td>streptococcus pneumoniae serotype 19a capsular...</td>\n",
       "    </tr>\n",
       "  </tbody>\n",
       "</table>\n",
       "<p>800 rows × 2 columns</p>\n",
       "</div>"
      ],
      "text/plain": [
       "           CODE                                                STR\n",
       "378917  2686918  streptococcus pneumoniae serotype 16f capsular...\n",
       "379423  2689928  cyclosporine , modify 100 mg/ml oral solution ...\n",
       "379583  2691151                                lazertinib mesylate\n",
       "379445  2690642            zunveyl 10 mg delay release oral tablet\n",
       "379724  2690264  carbidopa / levodopa extend release oral capsu...\n",
       "...         ...                                                ...\n",
       "378994  2686964  streptococcus pneumoniae serotype 23b capsular...\n",
       "379158  2687740  influenza virus ( h1n1 ) antigen / influenza v...\n",
       "379748  2691188  sars-cov-2 ( covid-19 ) vaccine , mrna-1273 om...\n",
       "379323  2688634  vancomycin ( a vancomycin hydrochloride ) 2 gm...\n",
       "378990  2686960  streptococcus pneumoniae serotype 19a capsular...\n",
       "\n",
       "[800 rows x 2 columns]"
      ]
     },
     "metadata": {},
     "output_type": "display_data"
    }
   ],
   "source": [
    "train_df"
   ]
  },
  {
   "cell_type": "code",
   "execution_count": null,
   "metadata": {},
   "outputs": [
    {
     "name": "stdout",
     "output_type": "stream",
     "text": [
      "                                            Test_STR Predicted_CODE  \\\n",
      "0          chloroxylenol 0.35 % medicate liquid soap        2689268   \n",
      "1                      seladelpar 10 mg oral capsule        2690875   \n",
      "2                       lazertinib 80 mg oral tablet        2691164   \n",
      "3                                             nikita        2689113   \n",
      "4  camphor 0.06 mg/mg / menthol 0.019 mg/mg / met...        2688458   \n",
      "\n",
      "                                      Best_Match_STR  Fuzzy_Score  \n",
      "0       chloroxylenol 3.5 mg/ml medicate liquid soap           89  \n",
      "1                      seladelpar 10 mg oral capsule          100  \n",
      "2                      lazertinib 240 mg oral tablet           95  \n",
      "3                                             nikita          100  \n",
      "4  camphor 6 % / menthol 1.9 % / methyl salicylat...           77  \n"
     ]
    }
   ],
   "source": [
    "mapped_df = map_to_code(test_df, train_df)\n",
    "print(mapped_df.head())\n"
   ]
  },
  {
   "cell_type": "code",
   "execution_count": null,
   "metadata": {},
   "outputs": [
    {
     "data": {
      "application/vnd.microsoft.datawrangler.viewer.v0+json": {
       "columns": [
        {
         "name": "index",
         "rawType": "int64",
         "type": "integer"
        },
        {
         "name": "Test_STR",
         "rawType": "object",
         "type": "string"
        },
        {
         "name": "Predicted_CODE",
         "rawType": "object",
         "type": "string"
        },
        {
         "name": "Best_Match_STR",
         "rawType": "object",
         "type": "string"
        },
        {
         "name": "Fuzzy_Score",
         "rawType": "int64",
         "type": "integer"
        }
       ],
       "ref": "93e91b07-a1ac-4a0b-90c1-806f658801e6",
       "rows": [
        [
         "0",
         "chloroxylenol 0.35 % medicate liquid soap",
         "2689268",
         "chloroxylenol 3.5 mg/ml medicate liquid soap",
         "89"
        ],
        [
         "1",
         "seladelpar 10 mg oral capsule",
         "2690875",
         "seladelpar 10 mg oral capsule",
         "100"
        ],
        [
         "2",
         "lazertinib 80 mg oral tablet",
         "2691164",
         "lazertinib 240 mg oral tablet",
         "95"
        ],
        [
         "3",
         "nikita",
         "2689113",
         "nikita",
         "100"
        ],
        [
         "4",
         "camphor 0.06 mg/mg / menthol 0.019 mg/mg / methyl salicylate 0.1 mg/mg topical ointment",
         "2688458",
         "camphor 6 % / menthol 1.9 % / methyl salicylate 10 % topical ointment",
         "77"
        ],
        [
         "5",
         "onyda",
         "2689328",
         "sofdra",
         "55"
        ],
        [
         "6",
         "piper excelsum leaf extract",
         "2690979",
         "ocimum basilicum root extract",
         "50"
        ],
        [
         "7",
         "nikita 4 mg oral tablet",
         "2689127",
         "nikita 4 mg oral tablet",
         "100"
        ],
        [
         "8",
         "sars-cov-2 ( covid-19 ) vaccine , mrna-1273 omicron ( kp.2 ) prefilled syringe [ spikevax 2024-2025 ]",
         "2691182",
         "sars-cov-2 ( covid-19 ) vaccine , mrna-1273 omicron ( kp.2 ) 0.1 mg/ml prefilled syringe [ spikevax 2024-2025 ]",
         "95"
        ],
        [
         "9",
         "lumakras 240 mg oral tablet",
         "2687207",
         "lumakras 240 mg oral tablet",
         "100"
        ],
        [
         "10",
         "vorasidenib 40 mg [ voranigo ]",
         "2690663",
         "vorasidenib 40 mg oral tablet [ voranigo ]",
         "81"
        ],
        [
         "11",
         "fluarix 2024-2025 vaccine 0.5 ml prefilled syringe",
         "2686938",
         "fluarix 2024-2025 vaccine 0.5 ml prefilled syringe",
         "100"
        ],
        [
         "12",
         "0.2 ml adalimumab-ryvk 100 mg/ml prefilled syringe",
         "2688828",
         "0.8 ml adalimumab-ryvk 100 mg/ml prefilled syringe",
         "98"
        ],
        [
         "13",
         "sars-cov-2 ( covid-19 ) vaccine , mrna-bnt162b2 omicron ( kp.2 ) prefilled syringe",
         "2691206",
         "sars-cov-2 ( covid-19 ) vaccine , mrna-bnt162b2 omicron ( kp.2 ) 0.1 mg/ml prefilled syringe",
         "94"
        ],
        [
         "14",
         "salicylic acid 0.063 mg/mg",
         "2691003",
         "salicylic acid 0.057 mg/mg",
         "92"
        ],
        [
         "15",
         "methotrexate 100 mg/ml injection",
         "2689141",
         "50 ml methotrexate 100 mg/ml injection",
         "91"
        ],
        [
         "16",
         "donanemab-azbt",
         "2687965",
         "donanemab-azbt",
         "100"
        ],
        [
         "17",
         "livdelzi oral product",
         "2689925",
         "modulis oral liquid product",
         "75"
        ],
        [
         "18",
         "0.3 ml sars-cov-2 ( covid-19 ) vaccine , mrna-bnt162b2 omicron ( kp.2 ) 0.1 mg/ml prefilled syringe",
         "2691206",
         "sars-cov-2 ( covid-19 ) vaccine , mrna-bnt162b2 omicron ( kp.2 ) 0.1 mg/ml prefilled syringe",
         "96"
        ],
        [
         "19",
         "arginine 9.2 mg/ml",
         "2688034",
         "methionine 3.2 mg/ml",
         "74"
        ],
        [
         "20",
         "crexont 70 mg / 280 mg extend release oral capsule",
         "2690281",
         "crexont 52.5 mg / 210 mg extend release oral capsule",
         "92"
        ],
        [
         "21",
         "tadalafil 20 mg chewable tablet [ chewtadzy ]",
         "2687304",
         "tadalafil 5 mg chewable tablet [ chewtadzy ]",
         "96"
        ],
        [
         "22",
         "afluria 2024-2025 vaccine prefilled syringe",
         "2688112",
         "afluria 2024-2025 vaccine prefilled syringe",
         "100"
        ],
        [
         "23",
         "camphor 3 % / menthol 10 % / methyl salicylate 25 % topical ointment",
         "2688458",
         "camphor 6 % / menthol 1.9 % / methyl salicylate 10 % topical ointment",
         "94"
        ],
        [
         "24",
         "felanorm",
         "2690995",
         "tanlor",
         "57"
        ],
        [
         "25",
         "influenza virus a/california/122/2022 ( h3n2 ) antigen / influenza virus a/victoria/4897/2022 ( h1n1 ) antigen / influenza b virus b/michigan/01/2021 antigen injectable product",
         "2688048",
         "influenza virus a/california/122/2022 ( h3n2 ) antigen / influenza virus a/victoria/4897/2022 ( h1n1 ) antigen / influenza b virus b/michigan/01/2021 antigen injectable suspension",
         "96"
        ],
        [
         "26",
         "streptococcus pneumoniae serotype 17f capsular antigen diphtheria crm197 protein conjugate vaccine 0.008 mg/ml",
         "2686950",
         "streptococcus pneumoniae serotype 7f capsular antigen diphtheria crm197 protein conjugate vaccine 0.008 mg/ml",
         "100"
        ],
        [
         "27",
         "biotin / minoxidil topical product",
         "2691096",
         "biotin / minoxidil topical solution",
         "86"
        ],
        [
         "28",
         "clonidine hydrochloride 0.1 mg/ml extend release suspension",
         "2690727",
         "clonidine hydrochloride 0.1 mg/ml 24hr extend release suspension",
         "96"
        ],
        [
         "29",
         "sars-cov-2 ( covid-19 ) vaccine , mrna-bnt162b2 omicron ( kp.2 ) 0.1 mg/ml",
         "2691193",
         "sars-cov-2 ( covid-19 ) vaccine , mrna-bnt162b2 omicron ( kp.2 ) 0.01 mg/ml",
         "99"
        ],
        [
         "30",
         "influenza virus ( h1n1 ) antigen / influenza virus ( h3n2 ) antigen / influenza b virus antigen injectable suspension [ fluzone 2024-2025 ]",
         "2688134",
         "influenza virus ( h1n1 ) antigen / influenza virus ( h3n2 ) antigen / influenza b virus antigen injectable suspension [ flucelvax 2024-2025 ]",
         "97"
        ],
        [
         "31",
         "1 daytime ( acetaminophen 325 mg / dextromethorphan hbr 10 mg 15 ml oral solution ) / 1 nighttime ( acetaminophen 325 mg / dextromethorphan hbr 10 mg / doxylamine succinate 6.25 mg 15 ml oral solution ) pack",
         "2687211",
         "1 daytime ( acetaminophen 325 mg / dextromethorphan hbr 10 mg per 15 ml oral solution ) / 1 nighttime ( acetaminophen 325 mg / dextromethorphan hbr 10 mg / doxylamine succinate 6.25 mg per 15 ml oral solution ) pack",
         "98"
        ],
        [
         "32",
         "spikevax 2024-2025 vaccine , 0.5 ml injection , 12y+",
         "2691189",
         "spikevax 2024-2025 vaccine , 0.5 ml injection , 12y+",
         "100"
        ],
        [
         "33",
         "posfrea 0.075 mg per 1.5 ml injection",
         "2688837",
         "posfrea 0.075 mg 1.5 ml injection",
         "94"
        ],
        [
         "34",
         "influenza virus a/thailand/8/2022 ( h3n2 ) antigen 0.03 mg/ml / influenza virus a/victoria/4897/2022 ( h1n1 ) antigen 0.03 mg/ml / influenza b virus b/austria/1359417/2021 antigen 0.03 mg/ml prefilled syringe [ afluria 2024-2025 ]",
         "2687365",
         "influenza virus a/thailand/8/2022 ( h3n2 ) antigen 0.03 mg/ml / influenza virus a/victoria/4897/2022 ( h1n1 ) antigen 0.03 mg/ml / influenza b virus b/austria/1359417/2021 antigen 0.03 mg/ml prefilled syringe [ fluad 2024-2025 ]",
         "97"
        ],
        [
         "35",
         "methimazole 5 mg/ml",
         "2687701",
         "methimazole 5 mg/ml [ felanorm ]",
         "81"
        ],
        [
         "36",
         "comirnaty 2024-2025",
         "2691207",
         "comirnaty 2024-2025",
         "100"
        ],
        [
         "37",
         "dolobid 375 mg oral tablet",
         "2691103",
         "diflunisal 375 mg oral tablet [ dolobid ]",
         "83"
        ],
        [
         "38",
         "clonidine hydrochloride 0.1 mg/ml extend release suspension",
         "2690727",
         "clonidine hydrochloride 0.1 mg/ml 24hr extend release suspension",
         "96"
        ],
        [
         "39",
         "streptococcus pneumoniae serotype 15b ( de-o-acetylated ) capsular antigen diphtheria crm197 protein conjugate vaccine",
         "2686927",
         "streptococcus pneumoniae serotype 15b ( de-o-acetylated ) capsular antigen diphtheria crm197 protein conjugate vaccine",
         "100"
        ],
        [
         "40",
         "proline 5.44 mg/ml",
         "2688037",
         "serine 4 mg/ml",
         "75"
        ],
        [
         "41",
         "streptococcus pneumoniae serotype 11a capsular antigen diphtheria crm197 protein conjugate vaccine 0.008 mg/ml",
         "2686966",
         "streptococcus pneumoniae serotype 31 capsular antigen diphtheria crm197 protein conjugate vaccine 0.008 mg/ml",
         "99"
        ],
        [
         "42",
         "camphor 100 mg/ml / menthol 80 mg/ml topical spray",
         "2688024",
         "camphor 10 % / menthol 8 % topical spray",
         "83"
        ],
        [
         "43",
         "influenza virus a/norway/31694/2022 ( h1n1 ) antigen / influenza virus a/thailand/8/2022 ( h3n2 ) antigen / influenza b virus b/austria/1359417/2021 antigen nasal spray",
         "2691298",
         "influenza virus a/norway/31694/2022 ( h1n1 ) antigen / influenza virus a/thailand/8/2022 ( h3n2 ) antigen / influenza b virus b/austria/1359417/2021 antigen inhalant product",
         "95"
        ],
        [
         "44",
         "kisunla 350 mg 20 ml injection",
         "2687979",
         "kisunla 350 mg per 20 ml injection",
         "94"
        ],
        [
         "45",
         "flublok 2024-2025 vaccine prefilled syringe",
         "2687743",
         "flublok 2024-2025 vaccine prefilled syringe",
         "100"
        ],
        [
         "46",
         "carbidopa 52.5 mg",
         "2690257",
         "carbidopa 35 mg",
         "88"
        ],
        [
         "47",
         "maropitant 16 mg oral tablet [ emeprev ]",
         "2691296",
         "maropitant 60 mg oral tablet [ emeprev ]",
         "97"
        ],
        [
         "48",
         "fluzone quadrivalent 2024-2025",
         "2688685",
         "fluzone quadrivalent 2024-2025",
         "100"
        ],
        [
         "49",
         "afamitresgene autoleucel injection [ tecelra ]",
         "2690268",
         "afamitresgene autoleucel injection",
         "89"
        ]
       ],
       "shape": {
        "columns": 4,
        "rows": 200
       }
      },
      "text/html": [
       "<div>\n",
       "<style scoped>\n",
       "    .dataframe tbody tr th:only-of-type {\n",
       "        vertical-align: middle;\n",
       "    }\n",
       "\n",
       "    .dataframe tbody tr th {\n",
       "        vertical-align: top;\n",
       "    }\n",
       "\n",
       "    .dataframe thead th {\n",
       "        text-align: right;\n",
       "    }\n",
       "</style>\n",
       "<table border=\"1\" class=\"dataframe\">\n",
       "  <thead>\n",
       "    <tr style=\"text-align: right;\">\n",
       "      <th></th>\n",
       "      <th>Test_STR</th>\n",
       "      <th>Predicted_CODE</th>\n",
       "      <th>Best_Match_STR</th>\n",
       "      <th>Fuzzy_Score</th>\n",
       "    </tr>\n",
       "  </thead>\n",
       "  <tbody>\n",
       "    <tr>\n",
       "      <th>0</th>\n",
       "      <td>chloroxylenol 0.35 % medicate liquid soap</td>\n",
       "      <td>2689268</td>\n",
       "      <td>chloroxylenol 3.5 mg/ml medicate liquid soap</td>\n",
       "      <td>89</td>\n",
       "    </tr>\n",
       "    <tr>\n",
       "      <th>1</th>\n",
       "      <td>seladelpar 10 mg oral capsule</td>\n",
       "      <td>2690875</td>\n",
       "      <td>seladelpar 10 mg oral capsule</td>\n",
       "      <td>100</td>\n",
       "    </tr>\n",
       "    <tr>\n",
       "      <th>2</th>\n",
       "      <td>lazertinib 80 mg oral tablet</td>\n",
       "      <td>2691164</td>\n",
       "      <td>lazertinib 240 mg oral tablet</td>\n",
       "      <td>95</td>\n",
       "    </tr>\n",
       "    <tr>\n",
       "      <th>3</th>\n",
       "      <td>nikita</td>\n",
       "      <td>2689113</td>\n",
       "      <td>nikita</td>\n",
       "      <td>100</td>\n",
       "    </tr>\n",
       "    <tr>\n",
       "      <th>4</th>\n",
       "      <td>camphor 0.06 mg/mg / menthol 0.019 mg/mg / met...</td>\n",
       "      <td>2688458</td>\n",
       "      <td>camphor 6 % / menthol 1.9 % / methyl salicylat...</td>\n",
       "      <td>77</td>\n",
       "    </tr>\n",
       "    <tr>\n",
       "      <th>...</th>\n",
       "      <td>...</td>\n",
       "      <td>...</td>\n",
       "      <td>...</td>\n",
       "      <td>...</td>\n",
       "    </tr>\n",
       "    <tr>\n",
       "      <th>195</th>\n",
       "      <td>salicylic acid 15 % medicate patch</td>\n",
       "      <td>2688287</td>\n",
       "      <td>salicylic acid 15 % medicate patch</td>\n",
       "      <td>100</td>\n",
       "    </tr>\n",
       "    <tr>\n",
       "      <th>196</th>\n",
       "      <td>tyrosine 0.32 mg/ml</td>\n",
       "      <td>2688038</td>\n",
       "      <td>threonine 3.36 mg/ml</td>\n",
       "      <td>77</td>\n",
       "    </tr>\n",
       "    <tr>\n",
       "      <th>197</th>\n",
       "      <td>methimazole 5 mg per 1 ml oral solution</td>\n",
       "      <td>2687699</td>\n",
       "      <td>methimazole 5 mg per 1 ml oral solution</td>\n",
       "      <td>100</td>\n",
       "    </tr>\n",
       "    <tr>\n",
       "      <th>198</th>\n",
       "      <td>nemolizumab-ilto 30 mg auto-injector [ nemluvio ]</td>\n",
       "      <td>2691327</td>\n",
       "      <td>nemolizumab-ilto auto-injector [ nemluvio ]</td>\n",
       "      <td>93</td>\n",
       "    </tr>\n",
       "    <tr>\n",
       "      <th>199</th>\n",
       "      <td>influenza virus a/thailand/8/2022 ( h3n2 ) ant...</td>\n",
       "      <td>2687365</td>\n",
       "      <td>influenza virus a/thailand/8/2022 ( h3n2 ) ant...</td>\n",
       "      <td>99</td>\n",
       "    </tr>\n",
       "  </tbody>\n",
       "</table>\n",
       "<p>200 rows × 4 columns</p>\n",
       "</div>"
      ],
      "text/plain": [
       "                                              Test_STR Predicted_CODE  \\\n",
       "0            chloroxylenol 0.35 % medicate liquid soap        2689268   \n",
       "1                        seladelpar 10 mg oral capsule        2690875   \n",
       "2                         lazertinib 80 mg oral tablet        2691164   \n",
       "3                                               nikita        2689113   \n",
       "4    camphor 0.06 mg/mg / menthol 0.019 mg/mg / met...        2688458   \n",
       "..                                                 ...            ...   \n",
       "195                 salicylic acid 15 % medicate patch        2688287   \n",
       "196                                tyrosine 0.32 mg/ml        2688038   \n",
       "197            methimazole 5 mg per 1 ml oral solution        2687699   \n",
       "198  nemolizumab-ilto 30 mg auto-injector [ nemluvio ]        2691327   \n",
       "199  influenza virus a/thailand/8/2022 ( h3n2 ) ant...        2687365   \n",
       "\n",
       "                                        Best_Match_STR  Fuzzy_Score  \n",
       "0         chloroxylenol 3.5 mg/ml medicate liquid soap           89  \n",
       "1                        seladelpar 10 mg oral capsule          100  \n",
       "2                        lazertinib 240 mg oral tablet           95  \n",
       "3                                               nikita          100  \n",
       "4    camphor 6 % / menthol 1.9 % / methyl salicylat...           77  \n",
       "..                                                 ...          ...  \n",
       "195                 salicylic acid 15 % medicate patch          100  \n",
       "196                               threonine 3.36 mg/ml           77  \n",
       "197            methimazole 5 mg per 1 ml oral solution          100  \n",
       "198        nemolizumab-ilto auto-injector [ nemluvio ]           93  \n",
       "199  influenza virus a/thailand/8/2022 ( h3n2 ) ant...           99  \n",
       "\n",
       "[200 rows x 4 columns]"
      ]
     },
     "metadata": {},
     "output_type": "display_data"
    }
   ],
   "source": [
    "mapped_df"
   ]
  },
  {
   "cell_type": "markdown",
   "metadata": {},
   "source": [
    "## Test dataset"
   ]
  },
  {
   "cell_type": "code",
   "execution_count": 32,
   "metadata": {},
   "outputs": [
    {
     "name": "stderr",
     "output_type": "stream",
     "text": [
      "<>:1: SyntaxWarning: invalid escape sequence '\\T'\n",
      "<>:1: SyntaxWarning: invalid escape sequence '\\T'\n",
      "C:\\Users\\jiyaa\\AppData\\Local\\Temp\\ipykernel_8272\\2431594226.py:1: SyntaxWarning: invalid escape sequence '\\T'\n",
      "  test = pd.read_excel('Harmonizing Clinical Concept\\Test.xlsx')\n"
     ]
    }
   ],
   "source": [
    "test = pd.read_excel('Harmonizing Clinical Concept\\Test.xlsx')"
   ]
  },
  {
   "cell_type": "code",
   "execution_count": 33,
   "metadata": {},
   "outputs": [
    {
     "data": {
      "application/vnd.microsoft.datawrangler.viewer.v0+json": {
       "columns": [
        {
         "name": "index",
         "rawType": "int64",
         "type": "integer"
        },
        {
         "name": "Input Entity Description",
         "rawType": "object",
         "type": "string"
        },
        {
         "name": "Entity Type",
         "rawType": "object",
         "type": "string"
        }
       ],
       "ref": "71269093-6cd8-48ce-919d-ae0e59fa8231",
       "rows": [
        [
         "0",
         "mri pelvis",
         "Procedure"
        ],
        [
         "1",
         "hcv rna",
         "Procedure"
        ],
        [
         "2",
         "depression screen",
         "Procedure"
        ],
        [
         "3",
         "induction for prom",
         "Procedure"
        ],
        [
         "4",
         "polypectomy",
         "Procedure"
        ]
       ],
       "shape": {
        "columns": 2,
        "rows": 5
       }
      },
      "text/html": [
       "<div>\n",
       "<style scoped>\n",
       "    .dataframe tbody tr th:only-of-type {\n",
       "        vertical-align: middle;\n",
       "    }\n",
       "\n",
       "    .dataframe tbody tr th {\n",
       "        vertical-align: top;\n",
       "    }\n",
       "\n",
       "    .dataframe thead th {\n",
       "        text-align: right;\n",
       "    }\n",
       "</style>\n",
       "<table border=\"1\" class=\"dataframe\">\n",
       "  <thead>\n",
       "    <tr style=\"text-align: right;\">\n",
       "      <th></th>\n",
       "      <th>Input Entity Description</th>\n",
       "      <th>Entity Type</th>\n",
       "    </tr>\n",
       "  </thead>\n",
       "  <tbody>\n",
       "    <tr>\n",
       "      <th>0</th>\n",
       "      <td>mri pelvis</td>\n",
       "      <td>Procedure</td>\n",
       "    </tr>\n",
       "    <tr>\n",
       "      <th>1</th>\n",
       "      <td>hcv rna</td>\n",
       "      <td>Procedure</td>\n",
       "    </tr>\n",
       "    <tr>\n",
       "      <th>2</th>\n",
       "      <td>depression screen</td>\n",
       "      <td>Procedure</td>\n",
       "    </tr>\n",
       "    <tr>\n",
       "      <th>3</th>\n",
       "      <td>induction for prom</td>\n",
       "      <td>Procedure</td>\n",
       "    </tr>\n",
       "    <tr>\n",
       "      <th>4</th>\n",
       "      <td>polypectomy</td>\n",
       "      <td>Procedure</td>\n",
       "    </tr>\n",
       "  </tbody>\n",
       "</table>\n",
       "</div>"
      ],
      "text/plain": [
       "  Input Entity Description Entity Type\n",
       "0               mri pelvis   Procedure\n",
       "1                  hcv rna   Procedure\n",
       "2        depression screen   Procedure\n",
       "3       induction for prom   Procedure\n",
       "4              polypectomy   Procedure"
      ]
     },
     "execution_count": 33,
     "metadata": {},
     "output_type": "execute_result"
    }
   ],
   "source": [
    "test.head()"
   ]
  },
  {
   "cell_type": "code",
   "execution_count": 34,
   "metadata": {},
   "outputs": [],
   "source": [
    "test['Standard System'] = test['Entity Type'].apply(lambda x: \"RXNORM\" if x == \"Medicine\" else \"SNOMEDCT\")"
   ]
  },
  {
   "cell_type": "code",
   "execution_count": 35,
   "metadata": {},
   "outputs": [
    {
     "data": {
      "application/vnd.microsoft.datawrangler.viewer.v0+json": {
       "columns": [
        {
         "name": "index",
         "rawType": "int64",
         "type": "integer"
        },
        {
         "name": "Input Entity Description",
         "rawType": "object",
         "type": "string"
        },
        {
         "name": "Entity Type",
         "rawType": "object",
         "type": "string"
        },
        {
         "name": "Standard System",
         "rawType": "object",
         "type": "string"
        }
       ],
       "ref": "89d12d77-0453-48d4-a38b-4e3d546d50b6",
       "rows": [
        [
         "0",
         "mri pelvis",
         "Procedure",
         "SNOMEDCT"
        ],
        [
         "1",
         "hcv rna",
         "Procedure",
         "SNOMEDCT"
        ],
        [
         "2",
         "depression screen",
         "Procedure",
         "SNOMEDCT"
        ],
        [
         "3",
         "induction for prom",
         "Procedure",
         "SNOMEDCT"
        ],
        [
         "4",
         "polypectomy",
         "Procedure",
         "SNOMEDCT"
        ]
       ],
       "shape": {
        "columns": 3,
        "rows": 5
       }
      },
      "text/html": [
       "<div>\n",
       "<style scoped>\n",
       "    .dataframe tbody tr th:only-of-type {\n",
       "        vertical-align: middle;\n",
       "    }\n",
       "\n",
       "    .dataframe tbody tr th {\n",
       "        vertical-align: top;\n",
       "    }\n",
       "\n",
       "    .dataframe thead th {\n",
       "        text-align: right;\n",
       "    }\n",
       "</style>\n",
       "<table border=\"1\" class=\"dataframe\">\n",
       "  <thead>\n",
       "    <tr style=\"text-align: right;\">\n",
       "      <th></th>\n",
       "      <th>Input Entity Description</th>\n",
       "      <th>Entity Type</th>\n",
       "      <th>Standard System</th>\n",
       "    </tr>\n",
       "  </thead>\n",
       "  <tbody>\n",
       "    <tr>\n",
       "      <th>0</th>\n",
       "      <td>mri pelvis</td>\n",
       "      <td>Procedure</td>\n",
       "      <td>SNOMEDCT</td>\n",
       "    </tr>\n",
       "    <tr>\n",
       "      <th>1</th>\n",
       "      <td>hcv rna</td>\n",
       "      <td>Procedure</td>\n",
       "      <td>SNOMEDCT</td>\n",
       "    </tr>\n",
       "    <tr>\n",
       "      <th>2</th>\n",
       "      <td>depression screen</td>\n",
       "      <td>Procedure</td>\n",
       "      <td>SNOMEDCT</td>\n",
       "    </tr>\n",
       "    <tr>\n",
       "      <th>3</th>\n",
       "      <td>induction for prom</td>\n",
       "      <td>Procedure</td>\n",
       "      <td>SNOMEDCT</td>\n",
       "    </tr>\n",
       "    <tr>\n",
       "      <th>4</th>\n",
       "      <td>polypectomy</td>\n",
       "      <td>Procedure</td>\n",
       "      <td>SNOMEDCT</td>\n",
       "    </tr>\n",
       "  </tbody>\n",
       "</table>\n",
       "</div>"
      ],
      "text/plain": [
       "  Input Entity Description Entity Type Standard System\n",
       "0               mri pelvis   Procedure        SNOMEDCT\n",
       "1                  hcv rna   Procedure        SNOMEDCT\n",
       "2        depression screen   Procedure        SNOMEDCT\n",
       "3       induction for prom   Procedure        SNOMEDCT\n",
       "4              polypectomy   Procedure        SNOMEDCT"
      ]
     },
     "execution_count": 35,
     "metadata": {},
     "output_type": "execute_result"
    }
   ],
   "source": [
    "test.head()"
   ]
  },
  {
   "cell_type": "code",
   "execution_count": 36,
   "metadata": {},
   "outputs": [],
   "source": [
    "test['Input Entity Description'] = test['Input Entity Description'].apply(expand_abbreviation_all)\n",
    "test['Input Entity Description'] = test['Input Entity Description'].apply(to_lowercase)\n",
    "test['Input Entity Description'] = test['Input Entity Description'].apply(remove_stopwords)\n",
    "test['Input Entity Description'] = test['Input Entity Description'].apply(remove_angle_brackets)\n",
    "test['Input Entity Description'] = test['Input Entity Description'].apply(normalize_unicode)\n",
    "test['Input Entity Description'] = test['Input Entity Description'].apply(tokenize)\n",
    "test['Input Entity Description'] = test['Input Entity Description'].apply(lemmatize_tokens)\n",
    "test['Input Entity Description'] = test['Input Entity Description'].apply(combine_tokens)"
   ]
  },
  {
   "cell_type": "code",
   "execution_count": 37,
   "metadata": {},
   "outputs": [],
   "source": [
    "# Filter only SNOMEDCT rows\n",
    "snomed_test = test[test[\"Standard System\"] == \"SNOMEDCT\"]"
   ]
  },
  {
   "cell_type": "code",
   "execution_count": null,
   "metadata": {},
   "outputs": [],
   "source": [
    "# Filter only RXNORM rows\n",
    "rxnorm_test = test[test[\"Standard System\"] == \"RXNORM\"]"
   ]
  },
  {
   "cell_type": "code",
   "execution_count": null,
   "metadata": {},
   "outputs": [],
   "source": [
    "import re\n",
    "\n",
    "df_snomed['tokens'] = df_snomed['STR'].apply(lambda x: re.findall(r'\\w+', str(x).lower()))\n",
    "df_rxnorm['tokens'] = df_rxnorm['STR'].apply(lambda x: re.findall(r'\\w+', str(x).lower()))"
   ]
  },
  {
   "cell_type": "code",
   "execution_count": null,
   "metadata": {},
   "outputs": [],
   "source": [
    "def make_ngrams(word, n=3):\n",
    "    word = f\"_{word}_\"\n",
    "    return [word[i:i+n] for i in range(len(word)-n+1)]\n",
    "\n",
    "def tokens_to_ngrams(tokens, n=3):\n",
    "    ngrams = []\n",
    "    for tok in tokens:\n",
    "        ngrams.extend(make_ngrams(tok, n))\n",
    "    return ngrams\n",
    "\n",
    "df_snomed['ngrams'] = df_snomed['tokens'].apply(tokens_to_ngrams)\n",
    "df_rxnorm['ngrams'] = df_rxnorm['tokens'].apply(tokens_to_ngrams)"
   ]
  },
  {
   "cell_type": "code",
   "execution_count": 52,
   "metadata": {},
   "outputs": [],
   "source": [
    "from collections import defaultdict\n",
    "import re\n",
    "\n",
    "# Build token and n-gram indexes from precomputed columns\n",
    "def build_indexes_from_columns(train_df):\n",
    "    token_index = defaultdict(set)\n",
    "    ngram_index = defaultdict(set)\n",
    "\n",
    "    for i, toks in enumerate(train_df['tokens']):\n",
    "        for tok in toks:\n",
    "            token_index[tok].add(i)\n",
    "\n",
    "    for i, ngs in enumerate(train_df['ngrams']):\n",
    "        for ng in ngs:\n",
    "            ngram_index[ng].add(i)\n",
    "    \n",
    "    return token_index, ngram_index\n",
    "\n",
    "# Retrieve candidate rows for a given input string\n",
    "def get_candidates_from_input(input_text, token_index, ngram_index, n=3):\n",
    "    # Tokenize input\n",
    "    input_tokens = re.findall(r'\\w+', input_text.lower())\n",
    "    \n",
    "    # Build n-grams for input\n",
    "    def make_ngrams(word, n=3):\n",
    "        word = f\"_{word}_\"\n",
    "        return [word[i:i+n] for i in range(len(word)-n+1)]\n",
    "    \n",
    "    candidate_ids = set()\n",
    "    \n",
    "    for tok in input_tokens:\n",
    "        # Token-level match\n",
    "        if tok in token_index:\n",
    "            candidate_ids.update(token_index[tok])\n",
    "        # N-gram level match\n",
    "        for ng in make_ngrams(tok, n):\n",
    "            if ng in ngram_index:\n",
    "                candidate_ids.update(ngram_index[ng])\n",
    "                \n",
    "    return candidate_ids\n"
   ]
  },
  {
   "cell_type": "code",
   "execution_count": 53,
   "metadata": {},
   "outputs": [
    {
     "name": "stderr",
     "output_type": "stream",
     "text": [
      "c:\\Users\\jiyaa\\AppData\\Local\\Programs\\Python\\Python312\\Lib\\site-packages\\fuzzywuzzy\\fuzz.py:11: UserWarning: Using slow pure-python SequenceMatcher. Install python-Levenshtein to remove this warning\n",
      "  warnings.warn('Using slow pure-python SequenceMatcher. Install python-Levenshtein to remove this warning')\n"
     ]
    }
   ],
   "source": [
    "from fuzzywuzzy import fuzz\n",
    "import pandas as pd\n",
    "\n",
    "def fuzzy_match_candidates(test_df, train_df, token_index, ngram_index):\n",
    "    results = []\n",
    "\n",
    "    for _, test_row in test_df.iterrows():\n",
    "        test_str = test_row[\"Input Entity Description\"]\n",
    "        \n",
    "        # Step 2: get candidate rows\n",
    "        candidate_ids = get_candidates_from_input(test_str, token_index, ngram_index)\n",
    "        \n",
    "        # Step 3: compute fuzzy score only on candidates\n",
    "        best_score = 0\n",
    "        best_code = None\n",
    "        best_train_str = None\n",
    "        \n",
    "        for i in candidate_ids:\n",
    "            train_str = train_df.loc[i, \"STR\"]\n",
    "            code = train_df.loc[i, \"CODE\"]\n",
    "            score = fuzz.token_sort_ratio(test_str, train_str)\n",
    "            \n",
    "            if score > best_score:\n",
    "                best_score = score\n",
    "                best_code = code\n",
    "                best_train_str = train_str\n",
    "        \n",
    "        results.append({\n",
    "            \"Test_STR\": test_str,\n",
    "            \"Predicted_CODE\": best_code,\n",
    "            \"Best_Match_STR\": best_train_str,\n",
    "            \"Fuzzy_Score\": best_score\n",
    "        })\n",
    "    \n",
    "    return pd.DataFrame(results)\n"
   ]
  },
  {
   "cell_type": "code",
   "execution_count": null,
   "metadata": {},
   "outputs": [],
   "source": [
    "# 1️⃣ Build indexes from precomputed columns\n",
    "token_index, ngram_index = build_indexes_from_columns(df_snomed)\n",
    "\n",
    "# 2️⃣ Map test dataframe using fuzzy scoring on candidates\n",
    "final_results_s = fuzzy_match_candidates(snomed_test, df_snomed, token_index, ngram_index)\n"
   ]
  },
  {
   "cell_type": "code",
   "execution_count": null,
   "metadata": {},
   "outputs": [],
   "source": [
    "# 1️⃣ Build indexes from precomputed columns\n",
    "token_index, ngram_index = build_indexes_from_columns(df_rxnorm)\n",
    "\n",
    "# 2️⃣ Map test dataframe using fuzzy scoring on candidates\n",
    "final_results_r = fuzzy_match_candidates(rxnorm_test, df_rxnorm, token_index, ngram_index)"
   ]
  },
  {
   "cell_type": "code",
   "execution_count": null,
   "metadata": {},
   "outputs": [
    {
     "data": {
      "application/vnd.microsoft.datawrangler.viewer.v0+json": {
       "columns": [
        {
         "name": "index",
         "rawType": "int64",
         "type": "integer"
        },
        {
         "name": "Test_STR",
         "rawType": "object",
         "type": "string"
        },
        {
         "name": "Predicted_CODE",
         "rawType": "object",
         "type": "string"
        },
        {
         "name": "Best_Match_STR",
         "rawType": "object",
         "type": "string"
        },
        {
         "name": "Fuzzy_Score",
         "rawType": "int64",
         "type": "integer"
        }
       ],
       "ref": "b240f2a7-41e5-4417-afc1-3ad3be8a9c01",
       "rows": [
        [
         "0",
         "mri pelvis",
         "2690005",
         "mri pelvis",
         "100"
        ],
        [
         "1",
         "hcv rna",
         "4643007",
         "rnase h",
         "71"
        ],
        [
         "2",
         "depression screen",
         "171207006",
         "depression screen",
         "100"
        ],
        [
         "3",
         "induction prom",
         "414485004",
         "induction room",
         "93"
        ],
        [
         "4",
         "polypectomy",
         "82035006",
         "polypectomy",
         "100"
        ]
       ],
       "shape": {
        "columns": 4,
        "rows": 5
       }
      },
      "text/html": [
       "<div>\n",
       "<style scoped>\n",
       "    .dataframe tbody tr th:only-of-type {\n",
       "        vertical-align: middle;\n",
       "    }\n",
       "\n",
       "    .dataframe tbody tr th {\n",
       "        vertical-align: top;\n",
       "    }\n",
       "\n",
       "    .dataframe thead th {\n",
       "        text-align: right;\n",
       "    }\n",
       "</style>\n",
       "<table border=\"1\" class=\"dataframe\">\n",
       "  <thead>\n",
       "    <tr style=\"text-align: right;\">\n",
       "      <th></th>\n",
       "      <th>Test_STR</th>\n",
       "      <th>Predicted_CODE</th>\n",
       "      <th>Best_Match_STR</th>\n",
       "      <th>Fuzzy_Score</th>\n",
       "    </tr>\n",
       "  </thead>\n",
       "  <tbody>\n",
       "    <tr>\n",
       "      <th>0</th>\n",
       "      <td>mri pelvis</td>\n",
       "      <td>2690005</td>\n",
       "      <td>mri pelvis</td>\n",
       "      <td>100</td>\n",
       "    </tr>\n",
       "    <tr>\n",
       "      <th>1</th>\n",
       "      <td>hcv rna</td>\n",
       "      <td>4643007</td>\n",
       "      <td>rnase h</td>\n",
       "      <td>71</td>\n",
       "    </tr>\n",
       "    <tr>\n",
       "      <th>2</th>\n",
       "      <td>depression screen</td>\n",
       "      <td>171207006</td>\n",
       "      <td>depression screen</td>\n",
       "      <td>100</td>\n",
       "    </tr>\n",
       "    <tr>\n",
       "      <th>3</th>\n",
       "      <td>induction prom</td>\n",
       "      <td>414485004</td>\n",
       "      <td>induction room</td>\n",
       "      <td>93</td>\n",
       "    </tr>\n",
       "    <tr>\n",
       "      <th>4</th>\n",
       "      <td>polypectomy</td>\n",
       "      <td>82035006</td>\n",
       "      <td>polypectomy</td>\n",
       "      <td>100</td>\n",
       "    </tr>\n",
       "  </tbody>\n",
       "</table>\n",
       "</div>"
      ],
      "text/plain": [
       "            Test_STR Predicted_CODE     Best_Match_STR  Fuzzy_Score\n",
       "0         mri pelvis        2690005         mri pelvis          100\n",
       "1            hcv rna        4643007            rnase h           71\n",
       "2  depression screen      171207006  depression screen          100\n",
       "3     induction prom      414485004     induction room           93\n",
       "4        polypectomy       82035006        polypectomy          100"
      ]
     },
     "execution_count": 57,
     "metadata": {},
     "output_type": "execute_result"
    }
   ],
   "source": [
    "final_results_s.head()"
   ]
  },
  {
   "cell_type": "code",
   "execution_count": null,
   "metadata": {},
   "outputs": [
    {
     "name": "stdout",
     "output_type": "stream",
     "text": [
      "accuracy : 87.5\n"
     ]
    }
   ],
   "source": [
    "print('accuracy : ', final_results_s[\"Fuzzy_Score\"].mean())\n"
   ]
  },
  {
   "cell_type": "code",
   "execution_count": null,
   "metadata": {},
   "outputs": [
    {
     "data": {
      "application/vnd.microsoft.datawrangler.viewer.v0+json": {
       "columns": [
        {
         "name": "index",
         "rawType": "int64",
         "type": "integer"
        },
        {
         "name": "Test_STR",
         "rawType": "object",
         "type": "string"
        },
        {
         "name": "Predicted_CODE",
         "rawType": "int64",
         "type": "integer"
        },
        {
         "name": "Best_Match_STR",
         "rawType": "object",
         "type": "string"
        },
        {
         "name": "Fuzzy_Score",
         "rawType": "int64",
         "type": "integer"
        }
       ],
       "ref": "c90b3f0a-79e7-454b-b204-69a3924e8323",
       "rows": [
        [
         "0",
         "cetirizine 1 mg/ml oral solution common know 2 % syrtte take 5 ml ( 5 mg ) bronchoscopy mouth 1 time day arsenic need",
         "995570",
         "ephedrine sulfate 1.25 mg/ml / hydroxyzine hydrochloride 0.5 mg/ml / theophylline 6.5 mg/ml oral solution [ marax ]",
         "58"
        ],
        [
         "1",
         "vitamin diarrhea daily",
         "11253",
         "vitamin diarrhea",
         "84"
        ],
        [
         "2",
         "doxycycline hyclate 100 mg capsule",
         "1649988",
         "doxycycline hyclate 100 mg oral capsule",
         "93"
        ],
        [
         "3",
         "varicella virus ( varivax ) live vaccine 0.5 ml",
         "1292427",
         "varicella-zoster virus vaccine live ( oka-merck ) strain 2700 unt/ml [ varivax ]",
         "71"
        ],
        [
         "4",
         "aspirin 81 mg cap",
         "315431",
         "aspirin 81 mg",
         "87"
        ],
        [
         "5",
         "rhogam",
         "204300",
         "rhogam",
         "100"
        ],
        [
         "6",
         "melatonin 5mg bedtime",
         "1736129",
         "somatropin 5 mg [ serostim ]",
         "67"
        ],
        [
         "7",
         "lidocaine 5 % topical ointment",
         "1543069",
         "lidocaine 5 % topical ointment",
         "100"
        ],
        [
         "8",
         "atorvastatin 10 mg",
         "597970",
         "atorvastatin 10 mg",
         "100"
        ],
        [
         "9",
         "pediarix )",
         "352877",
         "pediarix",
         "100"
        ],
        [
         "10",
         "pediarix vac- vpc",
         "352877",
         "pediarix",
         "67"
        ],
        [
         "11",
         "meloxicam 7.5 mg oral tablet",
         "311486",
         "meloxicam 7.5 mg oral tablet",
         "100"
        ],
        [
         "12",
         "docusate sodium 100 mg oral capsule",
         "1115005",
         "docusate sodium 100 mg oral capsule",
         "100"
        ],
        [
         "13",
         "ibuprofen 600 mg oral tablet",
         "197806",
         "ibuprofen 600 mg oral tablet",
         "100"
        ],
        [
         "14",
         "sodium chloride 0.9 % injection 2 ml",
         "1807636",
         "sodium chloride 0.9 % 2 ml injection",
         "100"
        ],
        [
         "15",
         "benzonatate ( tessalon perles ) 100 mg po cap take 1 capsule 3 time daily arsenic need",
         "208365",
         "benzonatate 100 mg oral capsule [ tessalon perles ]",
         "67"
        ],
        [
         "16",
         "ezetimibe ( zetia ) 10 mg po tab take 1 tab bronchoscopy mouth every day",
         "352304",
         "ezetimibe 10 mg oral tablet [ zetia ]",
         "55"
        ],
        [
         "17",
         "rosuvastatin ( crestor ) 5 mg po tab take 1 tab bronchoscopy mouth every day",
         "859757",
         "rosuvastatin calcium 2.5 mg oral tablet [ crestor ]",
         "61"
        ],
        [
         "18",
         "ezetimibe ( zetia ) 10 mg po tab take 1 tab bronchoscopy mouth",
         "352304",
         "ezetimibe 10 mg oral tablet [ zetia ]",
         "62"
        ],
        [
         "19",
         "acetaminophen 325 mg tablet",
         "313782",
         "acetaminophen 325 mg oral tablet",
         "92"
        ],
        [
         "20",
         "amoxicillin 400 mg/5 ml oral suspension",
         "308189",
         "amoxicillin 400 mg 5 ml oral suspension",
         "100"
        ],
        [
         "21",
         "topamax 100 mg tablet : : take 1 tablet bronchoscopy oral route every day",
         "434031",
         "thiamine 100 mg / vitamin b6 100 mg delay release oral tablet",
         "59"
        ],
        [
         "22",
         "fluconazole 150 mg",
         "315936",
         "fluconazole 150 mg",
         "100"
        ],
        [
         "23",
         "amoxicillin 875 mg",
         "329066",
         "amoxicillin 875 mg",
         "100"
        ],
        [
         "24",
         "vitamin d3",
         "1244014",
         "vitamin d3",
         "100"
        ],
        [
         "25",
         "topamax 100 mg tablet : : take 1 tablet bronchoscopy oral n route every day",
         "2599541",
         "{ 4 ( brincidofovir 100 mg oral tablet [ tembexa ] ) } pack [ tembexa 4 tablet pack ]",
         "59"
        ],
        [
         "26",
         "vaseline",
         "224932",
         "vaseline",
         "100"
        ],
        [
         "27",
         "hydrocortisone 2.5 % ointment",
         "103401",
         "hydrocortisone 2.5 % topical ointment",
         "87"
        ],
        [
         "28",
         "ozempic 0.25 mg 0.5 mg ( 2 mg/1 5 ml ) subcutarieous pen injector inject 0.25 mg every work bronchoscopy subcutaneous round",
         "1991311",
         "0.25 mg , 0.5 mg dose 1.5 ml semaglutide 1.34 mg/ml pen injector [ ozempic ]",
         "61"
        ],
        [
         "29",
         "lantus cose twice day",
         "1307951",
         "levant cottonseed oil",
         "57"
        ],
        [
         "30",
         "acetaminophen 325 mg tablet instruction : take 2 tablet ( 650 mg total ) bronchoscopy mouth every 4 hour arsenic need",
         "993892",
         "tylenol codeine # 4 ( acetaminophen 300 mg / codeine phosphate 60 mg ) oral tablet",
         "56"
        ],
        [
         "31",
         "novolog",
         "284810",
         "novolog",
         "100"
        ],
        [
         "32",
         "semglee ( yfgn ) 100 unit/ml solution pen-injector 45 unit 45 unit postmortem examination arsenic direct subcutaneous every 12 hour",
         "1092375",
         "tylenol postmortem examination ( apap 1000 mg / diphenhydramine hydrochloride 50 mg ) per 30 ml oral solution",
         "53"
        ],
        [
         "33",
         "basaglar kwikpen 100 unit/ml solution pen-injector 45 unit arsenic direct subcutaneous every 12 hour",
         "1736863",
         "basaglar kwikpen 100 unt/ml 3 ml pen injector",
         "57"
        ],
        [
         "34",
         "insulin glargine 100 unit/ml solution pen-injector 20 unit 35 postmortem examination night arsenic direct subcutaneous twice daily",
         "1092375",
         "tylenol postmortem examination ( apap 1000 mg / diphenhydramine hydrochloride 50 mg ) per 30 ml oral solution",
         "56"
        ],
        [
         "35",
         "prevnar 13 )",
         "901641",
         "prevnar 13",
         "100"
        ],
        [
         "36",
         "ibuprofen ( motrin ) 20 mg/ml liquid 146 mg ( 146 mg oral",
         "544391",
         "ibuprofen 20 mg/ml [ motrin ]",
         "66"
        ],
        [
         "37",
         "ibuprofen ( motrin ) 20 mg/ml",
         "544391",
         "ibuprofen 20 mg/ml [ motrin ]",
         "100"
        ],
        [
         "38",
         "motrin 20mg/ml",
         "328697",
         "morphine 10 mg/ml",
         "77"
        ],
        [
         "39",
         "prednisolone daily",
         "1156758",
         "prednisolone pill",
         "86"
        ],
        [
         "40",
         "polymyxin b",
         "8536",
         "polymyxin b",
         "100"
        ],
        [
         "41",
         "topiramate 50 mg daily",
         "335759",
         "topiramate 50 mg",
         "84"
        ],
        [
         "42",
         "flovent hfa 110 mcg/actuation aerosol inhaler",
         "896001",
         "flovent hfa 110 mcg/inhal meter dose inhaler , 120 actuation",
         "78"
        ],
        [
         "43",
         "tretinoin ( retin-a ) 0.025 % cream : : sig : apply 1 application topically bedtime",
         "151009",
         "tretinoin 0.25 mg/ml topical lotion [ retin-a ]",
         "67"
        ],
        [
         "44",
         "hyoscyamine ( anaspaz",
         "1008129",
         "diazepam / hyoscyamine",
         "77"
        ],
        [
         "45",
         "depo-provera",
         "202886",
         "depo-provera",
         "100"
        ],
        [
         "46",
         "humalog 2 time week",
         "261542",
         "humalog mix",
         "60"
        ],
        [
         "47",
         "scopolamine 1 mg",
         "437724",
         "scopolamine 1 mg",
         "100"
        ],
        [
         "48",
         "boostrix vaccination",
         "1334548",
         "barium cation",
         "61"
        ],
        [
         "49",
         "ferrous sulfate 325 mg po daily",
         "329760",
         "ferrous sulfate 325 mg",
         "83"
        ]
       ],
       "shape": {
        "columns": 4,
        "rows": 100
       }
      },
      "text/html": [
       "<div>\n",
       "<style scoped>\n",
       "    .dataframe tbody tr th:only-of-type {\n",
       "        vertical-align: middle;\n",
       "    }\n",
       "\n",
       "    .dataframe tbody tr th {\n",
       "        vertical-align: top;\n",
       "    }\n",
       "\n",
       "    .dataframe thead th {\n",
       "        text-align: right;\n",
       "    }\n",
       "</style>\n",
       "<table border=\"1\" class=\"dataframe\">\n",
       "  <thead>\n",
       "    <tr style=\"text-align: right;\">\n",
       "      <th></th>\n",
       "      <th>Test_STR</th>\n",
       "      <th>Predicted_CODE</th>\n",
       "      <th>Best_Match_STR</th>\n",
       "      <th>Fuzzy_Score</th>\n",
       "    </tr>\n",
       "  </thead>\n",
       "  <tbody>\n",
       "    <tr>\n",
       "      <th>0</th>\n",
       "      <td>cetirizine 1 mg/ml oral solution common know 2...</td>\n",
       "      <td>995570</td>\n",
       "      <td>ephedrine sulfate 1.25 mg/ml / hydroxyzine hyd...</td>\n",
       "      <td>58</td>\n",
       "    </tr>\n",
       "    <tr>\n",
       "      <th>1</th>\n",
       "      <td>vitamin diarrhea daily</td>\n",
       "      <td>11253</td>\n",
       "      <td>vitamin diarrhea</td>\n",
       "      <td>84</td>\n",
       "    </tr>\n",
       "    <tr>\n",
       "      <th>2</th>\n",
       "      <td>doxycycline hyclate 100 mg capsule</td>\n",
       "      <td>1649988</td>\n",
       "      <td>doxycycline hyclate 100 mg oral capsule</td>\n",
       "      <td>93</td>\n",
       "    </tr>\n",
       "    <tr>\n",
       "      <th>3</th>\n",
       "      <td>varicella virus ( varivax ) live vaccine 0.5 ml</td>\n",
       "      <td>1292427</td>\n",
       "      <td>varicella-zoster virus vaccine live ( oka-merc...</td>\n",
       "      <td>71</td>\n",
       "    </tr>\n",
       "    <tr>\n",
       "      <th>4</th>\n",
       "      <td>aspirin 81 mg cap</td>\n",
       "      <td>315431</td>\n",
       "      <td>aspirin 81 mg</td>\n",
       "      <td>87</td>\n",
       "    </tr>\n",
       "    <tr>\n",
       "      <th>...</th>\n",
       "      <td>...</td>\n",
       "      <td>...</td>\n",
       "      <td>...</td>\n",
       "      <td>...</td>\n",
       "    </tr>\n",
       "    <tr>\n",
       "      <th>95</th>\n",
       "      <td>mycoplasma pneumoniae</td>\n",
       "      <td>1360621</td>\n",
       "      <td>mycoplasma pneumoniae</td>\n",
       "      <td>100</td>\n",
       "    </tr>\n",
       "    <tr>\n",
       "      <th>96</th>\n",
       "      <td>oxytocin ( pitocin ) 30 unit 500 ml 0.9 % sodi...</td>\n",
       "      <td>1807634</td>\n",
       "      <td>sodium chloride 0.9 % per 500 ml injection</td>\n",
       "      <td>68</td>\n",
       "    </tr>\n",
       "    <tr>\n",
       "      <th>97</th>\n",
       "      <td>havrix vpc</td>\n",
       "      <td>203439</td>\n",
       "      <td>havrix</td>\n",
       "      <td>75</td>\n",
       "    </tr>\n",
       "    <tr>\n",
       "      <th>98</th>\n",
       "      <td>infanrix ( dtap ) 0.5 ml im – contain diphther...</td>\n",
       "      <td>1300385</td>\n",
       "      <td>diphtheria tetanus toxoid acellular pertussis ...</td>\n",
       "      <td>70</td>\n",
       "    </tr>\n",
       "    <tr>\n",
       "      <th>99</th>\n",
       "      <td>diphenhydramine</td>\n",
       "      <td>3498</td>\n",
       "      <td>diphenhydramine</td>\n",
       "      <td>100</td>\n",
       "    </tr>\n",
       "  </tbody>\n",
       "</table>\n",
       "<p>100 rows × 4 columns</p>\n",
       "</div>"
      ],
      "text/plain": [
       "                                             Test_STR  Predicted_CODE  \\\n",
       "0   cetirizine 1 mg/ml oral solution common know 2...          995570   \n",
       "1                              vitamin diarrhea daily           11253   \n",
       "2                  doxycycline hyclate 100 mg capsule         1649988   \n",
       "3     varicella virus ( varivax ) live vaccine 0.5 ml         1292427   \n",
       "4                                   aspirin 81 mg cap          315431   \n",
       "..                                                ...             ...   \n",
       "95                              mycoplasma pneumoniae         1360621   \n",
       "96  oxytocin ( pitocin ) 30 unit 500 ml 0.9 % sodi...         1807634   \n",
       "97                                         havrix vpc          203439   \n",
       "98  infanrix ( dtap ) 0.5 ml im – contain diphther...         1300385   \n",
       "99                                    diphenhydramine            3498   \n",
       "\n",
       "                                       Best_Match_STR  Fuzzy_Score  \n",
       "0   ephedrine sulfate 1.25 mg/ml / hydroxyzine hyd...           58  \n",
       "1                                    vitamin diarrhea           84  \n",
       "2             doxycycline hyclate 100 mg oral capsule           93  \n",
       "3   varicella-zoster virus vaccine live ( oka-merc...           71  \n",
       "4                                       aspirin 81 mg           87  \n",
       "..                                                ...          ...  \n",
       "95                              mycoplasma pneumoniae          100  \n",
       "96         sodium chloride 0.9 % per 500 ml injection           68  \n",
       "97                                             havrix           75  \n",
       "98  diphtheria tetanus toxoid acellular pertussis ...           70  \n",
       "99                                    diphenhydramine          100  \n",
       "\n",
       "[100 rows x 4 columns]"
      ]
     },
     "metadata": {},
     "output_type": "display_data"
    }
   ],
   "source": [
    "final_results_r"
   ]
  },
  {
   "cell_type": "code",
   "execution_count": null,
   "metadata": {},
   "outputs": [
    {
     "name": "stdout",
     "output_type": "stream",
     "text": [
      "accuracy : 89.37\n"
     ]
    }
   ],
   "source": [
    "print('accuracy : ', final_results_r[\"Fuzzy_Score\"].mean())"
   ]
  },
  {
   "cell_type": "code",
   "execution_count": null,
   "metadata": {},
   "outputs": [],
   "source": [
    "\n",
    "final_results_s = final_results_s.drop(columns=[\"Best_Match_STR\", \"Fuzzy_Score\"])   # replace with your actual column names\n",
    "\n",
    "final_results_s = final_results_s.rename(columns={\n",
    "    \"Test_STR\": \"Input Entity Description\",\n",
    "    \"Predicted_CODE\": \"Standard CODE\"\n",
    "})"
   ]
  },
  {
   "cell_type": "code",
   "execution_count": null,
   "metadata": {},
   "outputs": [],
   "source": [
    "\n",
    "final_results_r = final_results_r.drop(columns=[\"Best_Match_STR\", \"Fuzzy_Score\"])   # replace with your actual column names\n",
    "\n",
    "final_results_r = final_results_r.rename(columns={\n",
    "    \"Test_STR\": \"Input Entity Description\",\n",
    "    \"Predicted_CODE\": \"Standard CODE\"\n",
    "})"
   ]
  },
  {
   "cell_type": "code",
   "execution_count": null,
   "metadata": {},
   "outputs": [],
   "source": [
    "final_result = merged_df = pd.concat([final_result_s, final_results_r], ignore_index=True) "
   ]
  }
 ],
 "metadata": {
  "kaggle": {
   "accelerator": "none",
   "dataSources": [
    {
     "datasetId": 8360450,
     "sourceId": 13192659,
     "sourceType": "datasetVersion"
    }
   ],
   "dockerImageVersionId": 31089,
   "isGpuEnabled": false,
   "isInternetEnabled": false,
   "language": "python",
   "sourceType": "notebook"
  },
  "kernelspec": {
   "display_name": "Python 3",
   "language": "python",
   "name": "python3"
  },
  "language_info": {
   "codemirror_mode": {
    "name": "ipython",
    "version": 3
   },
   "file_extension": ".py",
   "mimetype": "text/x-python",
   "name": "python",
   "nbconvert_exporter": "python",
   "pygments_lexer": "ipython3",
   "version": "3.12.8"
  }
 },
 "nbformat": 4,
 "nbformat_minor": 4
}
